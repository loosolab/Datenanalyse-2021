{
 "cells": [
  {
   "cell_type": "code",
   "execution_count": null,
   "id": "a9d4dcda",
   "metadata": {},
   "outputs": [],
   "source": [
    "from tfcomb import CombObj\n",
    "import os\n",
    "import pathlib\n",
    "\n",
    "'''\n",
    "Constants for this script\n",
    "'''\n",
    "\n",
    "#genome_path=\"../testdaten/hg19_masked.fa\"\n",
    "genome_path=\"../testdaten/homo_sapiens.104.mainChr.fa\"\n",
    "\n",
    "main_jaspar_file=\"../testdaten/JASPAR2020_CORE_vertebrates.meme\" \n",
    "\n",
    "# path where market basket analyses for cluster are put.\n",
    "result_path=\"./results/wp1/\"\n",
    "\n",
    "# folder of wp2, where the clusters are\n",
    "path_to_clusters=\"?\"\n",
    "#path_to_clusters=\"/mnt/workspace_stud/stud4/WP6_data/\"\n",
    "\n",
    "\n",
    "# create result folders \n",
    "if not os.path.exists(result_path):\n",
    "     pathlib.Path(result_path).mkdir(parents=True, exist_ok=True)\n",
    "\n",
    "if not os.path.exists(genome_path):\n",
    "    print(f\"ERROR: path {genome_path} does not exist\")\n",
    "\n",
    "if not os.path.exists(main_jaspar_file):\n",
    "    print(f\"ERROR: path {main_jaspar_file} does not exist\")\n",
    "\n",
    "if not os.path.exists(path_to_clusters):\n",
    "    print(f\"ERROR: path {path_to_clusters} does not exist\")"
   ]
  },
  {
   "cell_type": "code",
   "execution_count": null,
   "id": "aa098342",
   "metadata": {},
   "outputs": [],
   "source": [
    "def do_market_basket_analyses_for_cell_cluster(cell_cluster_name: str, cell_cluster_path:str):\n",
    "    '''\n",
    "        Does market basket analyses.\n",
    "    '''\n",
    "    comb = CombObj()\n",
    "    comb.TFBS_from_motifs(regions= cell_cluster_path,\n",
    "                   motifs=main_jaspar_file,\n",
    "                   genome=genome_path,\n",
    "                   threads=4)\n",
    "    \n",
    "    print(f'Start market basket analyses for cell-cluster/type: {cell_cluster_name}')\n",
    "    comb.market_basket(threads=10)\n",
    "    if len(comb.rules) <= 0:\n",
    "        print(f'Could not find TF-cooccurences for cell-cluster/type: {cell_cluster_name}')\n",
    "        return\n",
    "    print(f'Finished market basket analyses for cell-cluster/type: {cell_cluster_name}')\n",
    "    print(f'Found rules: {len(comb.rules)}')\n",
    "    comb.to_pickle(f'{result_path}{cell_cluster_name}.pkl')\n",
    "    print(f'Saved: {result_path}{cell_cluster_name}.pkl')"
   ]
  },
  {
   "cell_type": "code",
   "execution_count": null,
   "id": "5d8fb838",
   "metadata": {},
   "outputs": [],
   "source": [
    "def read_in_file_names_of_folder(rel_path:str):\n",
    "    return [f for f in os.listdir(rel_path) if os.path.isfile(os.path.join(rel_path, f))]\n",
    "\n",
    "cluster_file_names = read_in_file_names_of_folder(rel_path=path_to_clusters)\n",
    "print(cluster_file_names)\n",
    "\n",
    "\n"
   ]
  },
  {
   "cell_type": "code",
   "execution_count": null,
   "id": "072d7990",
   "metadata": {},
   "outputs": [],
   "source": [
    "# Has to be tested as soon as wp1 generates .bed files\n",
    "for file_name in cluster_file_names:\n",
    "    cluster_name = file_name.split('.')[0]\n",
    "    print(cluster_name)\n",
    "    print(file_name)\n",
    "    cluster_path=f\"{path_to_clusters}{file_name}\"\n",
    "    do_market_basket_analyses_for_cell_cluster(cell_cluster_name=cluster_name, cell_cluster_path=cluster_path)\n",
    "    break"
   ]
  }
 ],
 "metadata": {
  "kernelspec": {
   "display_name": "tfcomb_env",
   "language": "python",
   "name": "tfcomb_env"
  },
  "language_info": {
   "codemirror_mode": {
    "name": "ipython",
    "version": 3
   },
   "file_extension": ".py",
   "mimetype": "text/x-python",
   "name": "python",
   "nbconvert_exporter": "python",
   "pygments_lexer": "ipython3",
   "version": "3.7.12"
  }
 },
 "nbformat": 4,
 "nbformat_minor": 5
}
