{
 "cells": [
  {
   "cell_type": "markdown",
   "id": "b583e95e",
   "metadata": {},
   "source": [
    "## TF-co-occurences with newly found tf-motifs"
   ]
  },
  {
   "cell_type": "markdown",
   "id": "086871fc",
   "metadata": {},
   "source": [
    "#### constant variables and imports"
   ]
  },
  {
   "cell_type": "code",
   "execution_count": 1,
   "id": "883092c2",
   "metadata": {},
   "outputs": [],
   "source": [
    "from tfcomb import CombObj\n",
    "from os import listdir\n",
    "from os.path import isfile, join\n",
    "\n",
    "genome_path=\"../testdaten/hg19_masked.fa\"\n",
    "result_path=\"./results/wp5/\"\n",
    "\n",
    "motif_path=\"../testdaten/wp5/\"\n",
    "cell_line_path=\"../testdaten/enhancers/\"\n",
    "cell_line_file_name=\"CD14+_enhancers.bed\""
   ]
  },
  {
   "cell_type": "markdown",
   "id": "d3aa9a4f",
   "metadata": {},
   "source": [
    "#### function definition for the market basket analyses"
   ]
  },
  {
   "cell_type": "code",
   "execution_count": 2,
   "id": "f7dfc12e",
   "metadata": {},
   "outputs": [],
   "source": [
    "def do_market_basket_analyses(genome_path:str,\n",
    "                              cell_line_name: str,\n",
    "                              rel_path_cell_line: str,\n",
    "                              motif_name:str,\n",
    "                              rel_path_motif:str ):\n",
    "    '''\n",
    "        Does market basket analyses for cell line with :cell_line_name and the rel_path: to the region data.\n",
    "        Saves the data to name.pkl file.\n",
    "        \n",
    "        e.g.:\n",
    "        rel_path: \"../testdaten/enhancers/A375_enhancers.bed\"\n",
    "    '''\n",
    "    print(f'Starting with tfbs-detection and market basket analyses for cell_line: {cell_line_name} and new motif {motif_name}, data path:{rel_path_cell_line}.')\n",
    "    comb = CombObj()\n",
    "    comb.TFBS_from_motifs(regions= rel_path_cell_line,\n",
    "                   motifs=rel_path_motif,\n",
    "                   genome=genome_path,\n",
    "                   threads=4)\n",
    "    print(f'TFBS detection is done for cell_line: {cell_line_name} and new motif {motif_name}')\n",
    "    print(f'Start market basket analyses for cell line: {cell_line_name} and new motif {motif_name}')\n",
    "    comb.market_basket(threads=10)\n",
    "    \n",
    "    if len(comb.rules) <= 0:\n",
    "        print(f'Could not find TF-cooccurences for cell line: {cell_line_name} and new motif {motif_name}')\n",
    "        return\n",
    "    \n",
    "    print(f'Finished market basket analyses for cell line: {cell_line_name} and new motif {motif_name}')\n",
    "    print(f'Found rules: {len(comb.rules)}')\n",
    "    comb.to_pickle(f'{result_path}{cell_line_name}_{motif_name}_complete.pkl')\n",
    "    print(f'Saved complete rules to {result_path}{cell_line_name}_{motif_name}_complete.pkl')\n",
    "\n"
   ]
  },
  {
   "cell_type": "markdown",
   "id": "cd42e92e",
   "metadata": {},
   "source": [
    "#### function definition to read in files of folder"
   ]
  },
  {
   "cell_type": "code",
   "execution_count": 3,
   "id": "d9ecb5da",
   "metadata": {},
   "outputs": [],
   "source": [
    "def read_in_file_names_of_folder(rel_path:str):\n",
    "    return [f for f in listdir(rel_path) if isfile(join(rel_path, f))]\n"
   ]
  },
  {
   "cell_type": "markdown",
   "id": "25c28cca",
   "metadata": {},
   "source": [
    "### Market basket analyses with newly found motifs\n",
    "Idea: WP5 finds motifs for a special cell_line/cluster/tissue e.g. liver cells. WP6 takes the new motifs and tests them for TF-co-occurences in the specific cellline/cluster"
   ]
  },
  {
   "cell_type": "code",
   "execution_count": 4,
   "id": "c852ab1d",
   "metadata": {},
   "outputs": [
    {
     "name": "stdout",
     "output_type": "stream",
     "text": [
      "motif_10_motif_10.meme\n",
      "motif_10_motif_10\n",
      "CD14+_enhancers\n",
      "Starting with tfbs-detection and market basket analyses for cell_line: CD14+_enhancers and new motif motif_10_motif_10, data path:../testdaten/enhancers/CD14+_enhancers.bed.\n",
      "INFO: Scanning for TFBS with 4 thread(s)...\n",
      "INFO: Progress: 51%\n",
      "INFO: Finished!\n",
      "INFO: Processing scanned TFBS\n",
      "INFO: Identified 107 TFBS (1 unique names) within given regions\n",
      "TFBS detection is done for cell_line: CD14+_enhancers and new motif motif_10_motif_10\n",
      "Start market basket analyses for cell line: CD14+_enhancers and new motif motif_10_motif_10\n",
      "WARNING: No counts found in <CombObj>. Running <CombObj>.count_within() with standard parameters.\n",
      "INFO: Setting up binding sites for counting\n",
      "INFO: Counting co-occurrences within sites\n",
      "INFO: Counting co-occurrence within background\n",
      "INFO: Finished!\n",
      "INFO: Done finding co-occurrences! Run .market_basket() to estimate significant pairs\n",
      "INFO: Market basket analysis is done! Results are found in <CombObj>.rules\n",
      "Could not find TF-cooccurences for cell line: CD14+_enhancers and new motif motif_10_motif_10\n",
      "motif_29_motif_29.meme\n",
      "motif_29_motif_29\n",
      "CD14+_enhancers\n",
      "Starting with tfbs-detection and market basket analyses for cell_line: CD14+_enhancers and new motif motif_29_motif_29, data path:../testdaten/enhancers/CD14+_enhancers.bed.\n",
      "INFO: Scanning for TFBS with 4 thread(s)...\n",
      "INFO: Progress: 51%\n",
      "INFO: Finished!\n",
      "INFO: Processing scanned TFBS\n",
      "INFO: Identified 350 TFBS (1 unique names) within given regions\n",
      "TFBS detection is done for cell_line: CD14+_enhancers and new motif motif_29_motif_29\n",
      "Start market basket analyses for cell line: CD14+_enhancers and new motif motif_29_motif_29\n",
      "WARNING: No counts found in <CombObj>. Running <CombObj>.count_within() with standard parameters.\n",
      "INFO: Setting up binding sites for counting\n",
      "INFO: Counting co-occurrences within sites\n",
      "INFO: Counting co-occurrence within background\n",
      "INFO: Finished!\n",
      "INFO: Done finding co-occurrences! Run .market_basket() to estimate significant pairs\n",
      "INFO: Market basket analysis is done! Results are found in <CombObj>.rules\n",
      "Finished market basket analyses for cell line: CD14+_enhancers and new motif motif_29_motif_29\n",
      "Found rules: 1\n",
      "Saved complete rules to ./results/wp5/CD14+_enhancers_motif_29_motif_29_complete.pkl\n"
     ]
    }
   ],
   "source": [
    "new_motif_file_names = read_in_file_names_of_folder(rel_path=motif_path)\n",
    "#cell_line_names = read_in_file_names_of_folder(rel_path=enhancer_path)\n",
    "\n",
    "for new_motif_file_name in new_motif_file_names:\n",
    "    motif_name = new_motif_file_name.split('.')[0]\n",
    "    cell_line_name = cell_line_file_name.split('.')[0]\n",
    "\n",
    "    print(new_motif_file_name)\n",
    "    print(motif_name)\n",
    "    print(cell_line_name)\n",
    "    \n",
    "    do_market_basket_analyses(genome_path=genome_path,\n",
    "                              cell_line_name=cell_line_name,\n",
    "                              rel_path_cell_line=f\"{cell_line_path}{cell_line_file_name}\",\n",
    "                              motif_name=motif_name,\n",
    "                              rel_path_motif=f\"{motif_path}{new_motif_file_name}\"\n",
    "                             )"
   ]
  },
  {
   "cell_type": "markdown",
   "id": "275656f6",
   "metadata": {},
   "source": [
    "### Analyse the co-occurences\n"
   ]
  },
  {
   "cell_type": "code",
   "execution_count": 6,
   "id": "4204a41d",
   "metadata": {},
   "outputs": [
    {
     "name": "stdout",
     "output_type": "stream",
     "text": [
      "                        TF1       TF2  TF1_TF2_count  TF1_count  TF2_count  \\\n",
      "motif_29-motif_29  motif_29  motif_29              7        544        544   \n",
      "\n",
      "                     cosine  zscore  \n",
      "motif_29-motif_29  0.012868     0.0  \n"
     ]
    }
   ],
   "source": [
    "results_files_names_market_basket_analyses= read_in_file_names_of_folder(rel_path=result_path)\n",
    "#for file_name in results_files_names_market_basket_analyses:    \n",
    "\n",
    "A = CombObj().from_pickle(f\"{result_path}{results_files_names_market_basket_analyses[0]}\")\n",
    "A.prefix = \"CD4+\"\n",
    "print(A.rules)\n",
    "\n",
    "\n",
    "    "
   ]
  },
  {
   "cell_type": "code",
   "execution_count": null,
   "id": "5c4a77bc",
   "metadata": {},
   "outputs": [],
   "source": []
  }
 ],
 "metadata": {
  "kernelspec": {
   "display_name": "tfcomb_env",
   "language": "python",
   "name": "tfcomb_env"
  },
  "language_info": {
   "codemirror_mode": {
    "name": "ipython",
    "version": 3
   },
   "file_extension": ".py",
   "mimetype": "text/x-python",
   "name": "python",
   "nbconvert_exporter": "python",
   "pygments_lexer": "ipython3",
   "version": "3.7.12"
  }
 },
 "nbformat": 4,
 "nbformat_minor": 5
}
