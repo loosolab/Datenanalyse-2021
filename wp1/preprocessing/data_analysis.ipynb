{
 "cells": [
  {
   "cell_type": "code",
   "execution_count": null,
   "id": "6ee54b9c",
   "metadata": {},
   "outputs": [],
   "source": [
    "# !conda create -n \"data_analysis\" python=3.9\n",
    "# !conda activate data_analysis\n",
    "# !conda install ipykernel\n",
    "# !pip install episcanpy\n",
    "# !python -m ipykernel install --user --name data_analysis"
   ]
  },
  {
   "cell_type": "code",
   "execution_count": null,
   "id": "d56b52f8",
   "metadata": {},
   "outputs": [],
   "source": [
    "# if '!pip install episcanpy' fails with error like:\n",
    "# ERROR: Cannot uninstall 'llvmlite'. It is a distutils installed project and thus we cannot accurately determine which files belong to it which would lead to only a partial uninstall.\n",
    "# Just remove llvmlite with '!conda remove llvmlite'\n",
    "# and run '!pip install episcanpy' again"
   ]
  },
  {
   "cell_type": "code",
   "execution_count": null,
   "id": "b2997eaa",
   "metadata": {},
   "outputs": [],
   "source": [
    "import scanpy as sc\n",
    "import anndata as ad\n",
    "import numpy as np\n",
    "import pandas as pd\n",
    "import episcanpy.api as epi"
   ]
  },
  {
   "cell_type": "code",
   "execution_count": null,
   "id": "2a26a562",
   "metadata": {},
   "outputs": [],
   "source": [
    "sc.settings.set_figure_params(dpi=80, color_map='gist_earth')"
   ]
  },
  {
   "cell_type": "code",
   "execution_count": null,
   "id": "b3263d08",
   "metadata": {},
   "outputs": [],
   "source": [
    "adata = ad.read('/mnt/workspace_stud/mbentse/catlas_objects/liver_sample_9.h5ad')\n",
    "adata"
   ]
  },
  {
   "cell_type": "code",
   "execution_count": null,
   "id": "b2149df0",
   "metadata": {},
   "outputs": [],
   "source": [
    "# display information stored in adata.obs\n",
    "adata.obs"
   ]
  },
  {
   "cell_type": "code",
   "execution_count": null,
   "id": "5ca70301",
   "metadata": {},
   "outputs": [],
   "source": [
    "# checking the variable names (bulk peaks coordinates)\n",
    "print(adata.var_names)"
   ]
  },
  {
   "cell_type": "code",
   "execution_count": null,
   "id": "98e08460",
   "metadata": {},
   "outputs": [],
   "source": [
    "print(adata.obs_names)"
   ]
  },
  {
   "cell_type": "code",
   "execution_count": null,
   "id": "2fbf470b",
   "metadata": {},
   "outputs": [],
   "source": [
    "# !wget http://renlab.sdsc.edu/kai/Key_Processed_Data/Cell_metadata.tsv.gz\n",
    "# !gzip -d /mnt/workspace_stud/stud5/metadata/Cell_metadata.tsv.gz"
   ]
  },
  {
   "cell_type": "code",
   "execution_count": null,
   "id": "de9b5041",
   "metadata": {},
   "outputs": [],
   "source": [
    "!head '/mnt/workspace_stud/stud5/metadata/Cell_metadata.tsv'"
   ]
  },
  {
   "cell_type": "code",
   "execution_count": null,
   "id": "e7d39ee1",
   "metadata": {},
   "outputs": [],
   "source": [
    "!egrep \"(cellID)|(liver_sample_9)\" /mnt/workspace_stud/stud5/metadata/Cell_metadata.tsv > /mnt/workspace_stud/stud5/metadata/liver_sample_9_metadata.tsv"
   ]
  },
  {
   "cell_type": "code",
   "execution_count": null,
   "id": "372a5198",
   "metadata": {},
   "outputs": [],
   "source": [
    "!head '/mnt/workspace_stud/stud5/metadata/liver_sample_9_metadata.tsv'"
   ]
  },
  {
   "cell_type": "code",
   "execution_count": null,
   "id": "7a6a9e07",
   "metadata": {},
   "outputs": [],
   "source": [
    "epi.pp.load_metadata(adata, '/mnt/workspace_stud/stud5/metadata/liver_sample_9_metadata.tsv', separator='\\t')\n",
    "adata"
   ]
  },
  {
   "cell_type": "code",
   "execution_count": null,
   "id": "73e345dd",
   "metadata": {},
   "outputs": [],
   "source": [
    "adata.obs"
   ]
  },
  {
   "cell_type": "code",
   "execution_count": null,
   "id": "9d5c3168",
   "metadata": {},
   "outputs": [],
   "source": []
  }
 ],
 "metadata": {
  "kernelspec": {
   "display_name": "datenanalyse",
   "language": "python",
   "name": "datenanalyse"
  },
  "language_info": {
   "codemirror_mode": {
    "name": "ipython",
    "version": 3
   },
   "file_extension": ".py",
   "mimetype": "text/x-python",
   "name": "python",
   "nbconvert_exporter": "python",
   "pygments_lexer": "ipython3",
   "version": "3.9.7"
  }
 },
 "nbformat": 4,
 "nbformat_minor": 5
}
