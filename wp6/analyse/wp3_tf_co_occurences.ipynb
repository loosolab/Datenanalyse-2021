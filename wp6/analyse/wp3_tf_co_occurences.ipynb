{
 "cells": [
  {
   "cell_type": "markdown",
   "id": "9cdade30",
   "metadata": {},
   "source": [
    "### Find TF-co-occurences for cellcluster/celltypes of WP3 (TOBIAS)"
   ]
  },
  {
   "cell_type": "markdown",
   "id": "0f4f3315",
   "metadata": {},
   "source": [
    "constant variables and imports"
   ]
  },
  {
   "cell_type": "code",
   "execution_count": 1,
   "id": "3b19082b",
   "metadata": {},
   "outputs": [],
   "source": [
    "from tfcomb import CombObj\n",
    "import os\n",
    "import pathlib\n",
    "\n",
    "'''\n",
    "Constants for this script\n",
    "'''\n",
    "\n",
    "genome_path=\"../testdaten/hg19_masked.fa\"\n",
    "main_jaspar_file=\"../testdaten/JASPAR2020_CORE_vertebrates.meme\" \n",
    "\n",
    "# path where market basket analyses for cluster are put.\n",
    "result_path=\"./results/wp3/\"\n",
    "\n",
    "# folder of wp3, where clusters are\n",
    "path_to_clusters=\"/mnt/workspace_stud/stud8/testordner/\"\n",
    "# identifier for the folder names, we need \n",
    "cluster_folder_identifier=\"cluster\"\n",
    "\n",
    "# create result folders \n",
    "if not os.path.exists(result_path):\n",
    "     pathlib.Path(result_path).mkdir(parents=True, exist_ok=True)\n"
   ]
  },
  {
   "cell_type": "markdown",
   "id": "4966c104",
   "metadata": {},
   "source": [
    "Function definitions for Market Basket analyses + saving"
   ]
  },
  {
   "cell_type": "code",
   "execution_count": 3,
   "id": "eb66008c",
   "metadata": {},
   "outputs": [],
   "source": [
    "def do_market_basket_analyses_for_cell_cluster(cell_cluster_name: str, bindetect_path: str, condition: str):\n",
    "    '''\n",
    "        Does market basket analyses with bindetect output of Tobias (WP3)\n",
    "    '''\n",
    "    comb = CombObj()\n",
    "    # Condition wird bei WP3 festgelegt , nochmal abstimmen. Wie oft lassen sie Tobias laufen \n",
    "    comb.TFBS_from_TOBIAS(bindetect_path=bindetect_path, condition=condition, overwrite=False)\n",
    "    \n",
    "    print(f'Start market basket analyses for cell-cluster/type: {cell_cluster_name}')\n",
    "    comb.market_basket(threads=10)\n",
    "    if len(comb.rules) <= 0:\n",
    "        print(f'Could not find TF-cooccurences for cell-cluster/type: {cell_cluster_name}')\n",
    "        return\n",
    "    print(f'Finished market basket analyses for cell-cluster/type: {cell_cluster_name}')\n",
    "    print(f'Found rules: {len(comb.rules)}')\n",
    "    comb.to_pickle(f'{result_path}{cell_cluster_name}.pkl')\n",
    "    print(f'Saved: {result_path}{cell_cluster_name}.pkl')\n",
    "   \n",
    "    "
   ]
  },
  {
   "cell_type": "code",
   "execution_count": 4,
   "id": "f47dc58d",
   "metadata": {},
   "outputs": [],
   "source": [
    "def read_in_folder_names_for_cluster():\n",
    "    #glob()\n",
    "    dirlist = [ item for item in os.listdir(path_to_clusters) if os.path.isdir(os.path.join(path_to_clusters, item))]\n",
    "    cluster_names = []\n",
    "    for folder in dirlist:\n",
    "        if cluster_folder_identifier in folder:\n",
    "            cluster_names.append(folder)\n",
    "    return cluster_names\n",
    "\n",
    "\n"
   ]
  },
  {
   "cell_type": "code",
   "execution_count": 6,
   "id": "12f14872",
   "metadata": {},
   "outputs": [
    {
     "name": "stdout",
     "output_type": "stream",
     "text": [
      "Clusters:['cluster10', 'cluster9', 'cluster3', 'cluster5', 'cluster7']\n",
      "Paths to bindetect folders of the clusters: ['/mnt/workspace_stud/stud8/testordner/cluster10/BINDetect/', '/mnt/workspace_stud/stud8/testordner/cluster9/BINDetect/', '/mnt/workspace_stud/stud8/testordner/cluster3/BINDetect/', '/mnt/workspace_stud/stud8/testordner/cluster5/BINDetect/', '/mnt/workspace_stud/stud8/testordner/cluster7/BINDetect/']\n"
     ]
    }
   ],
   "source": [
    "# Identifing the clusters to read from\n",
    "# bsp. [\"cluster10\",\"cluster20\" ....]\n",
    "cluster_names = read_in_folder_names_for_cluster()\n",
    "print(f\"Clusters:{cluster_names}\")\n",
    "\n",
    "# bsp. [\"/mnt/workspace_stud/stud8/testordner/cluster10/BINDetect/\", ...]\n",
    "cluster_bindetect_paths = []\n",
    "for name in cluster_names:\n",
    "    cluster_path = f\"{path_to_clusters}{name}/BINDetect/\"\n",
    "    cluster_bindetect_paths.append(cluster_path)\n",
    "    \n",
    "print(f\"Paths to bindetect folders of the clusters: {cluster_bindetect_paths}\")\n"
   ]
  },
  {
   "cell_type": "code",
   "execution_count": 9,
   "id": "a92af6d4",
   "metadata": {},
   "outputs": [
    {
     "name": "stdout",
     "output_type": "stream",
     "text": [
      "INFO: Read 1008547 sites (746 unique names) from condition 'cluster10Scores'\n",
      "Start market basket analyses for cell-cluster/type: cluster10\n",
      "WARNING: No counts found in <CombObj>. Running <CombObj>.count_within() with standard parameters.\n",
      "INFO: Setting up binding sites for counting\n",
      "INFO: Counting co-occurrences within sites\n",
      "INFO: Counting co-occurrence within background\n",
      "INFO: Progress: 10%\n",
      "INFO: Progress: 20%\n",
      "INFO: Progress: 30%\n",
      "INFO: Progress: 40%\n",
      "INFO: Progress: 50%\n",
      "INFO: Progress: 60%\n",
      "INFO: Progress: 70%\n",
      "INFO: Progress: 80%\n",
      "INFO: Progress: 90%\n",
      "INFO: Finished!\n",
      "INFO: Done finding co-occurrences! Run .market_basket() to estimate significant pairs\n",
      "INFO: Market basket analysis is done! Results are found in <CombObj>.rules\n",
      "Finished market basket analyses for cell-cluster/type: cluster10\n",
      "Found rules: 555800\n",
      "Saved: ./results/wp3/cluster10.pkl\n",
      "MB Done for cluster: cluster10\n",
      "No Bindetect folder for cluster: cluster9. Continue with next.\n",
      "No Bindetect folder for cluster: cluster3. Continue with next.\n",
      "No Bindetect folder for cluster: cluster5. Continue with next.\n",
      "No Bindetect folder for cluster: cluster7. Continue with next.\n",
      "End market basket analyses\n"
     ]
    }
   ],
   "source": [
    "for idx, path in enumerate(cluster_bindetect_paths):\n",
    "    \n",
    "    if not os.path.exists(path):\n",
    "        print(f\"No Bindetect folder for cluster: {cluster_names[idx]}. Continue with next.\")\n",
    "        continue\n",
    "        \n",
    "    do_market_basket_analyses_for_cell_cluster(cell_cluster_name=cluster_names[idx],\n",
    "                                               bindetect_path=path,\n",
    "                                               condition=f\"{cluster_names[idx]}Scores\")\n",
    "    print(f\"MB Done for cluster: {cluster_names[idx]}\")\n",
    "print(\"End market basket analyses\")"
   ]
  },
  {
   "cell_type": "code",
   "execution_count": null,
   "id": "92a42cc0",
   "metadata": {},
   "outputs": [],
   "source": []
  }
 ],
 "metadata": {
  "kernelspec": {
   "display_name": "tfcomb_env",
   "language": "python",
   "name": "tfcomb_env"
  },
  "language_info": {
   "codemirror_mode": {
    "name": "ipython",
    "version": 3
   },
   "file_extension": ".py",
   "mimetype": "text/x-python",
   "name": "python",
   "nbconvert_exporter": "python",
   "pygments_lexer": "ipython3",
   "version": "3.7.12"
  }
 },
 "nbformat": 4,
 "nbformat_minor": 5
}
