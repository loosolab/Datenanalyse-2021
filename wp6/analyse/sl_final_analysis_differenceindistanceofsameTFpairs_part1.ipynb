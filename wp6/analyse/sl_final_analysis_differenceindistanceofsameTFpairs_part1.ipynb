{
 "cells": [
  {
   "cell_type": "markdown",
   "id": "7d0bb47c",
   "metadata": {},
   "source": [
    "# Biological question: Are there differences in the binding distance of the same TF-pair in different clusters? - PART1\n",
    "#### Exemplary Data: ....\n",
    "\n",
    "### Outline of this notebook:\n",
    "This notbook presents the first part of the analysis if there is a difference in the binding distance of the same TF-pair in different clusters. Here the first cluster is analysed. The results are then saved in a .csv file and imported in the part2 notebook, where the second cluster is analysed and also the comparison performed. \n",
    "    1. Implementation of distance analysis for first cluster and transfering in dataframe\n",
    "    2. Saving results of first cluster in .csv file"
   ]
  },
  {
   "cell_type": "markdown",
   "id": "d6320d18",
   "metadata": {},
   "source": [
    "## 1. Implementation of distance analysis for cluster\n",
    "0. Creating folders for the structure if necessary\n",
    "1. Read in path of the the pkl file from already performed market basket analysis (alternative: perform normal market basket analysis) (-> adjust for cluster)\n",
    "2. selecting of TF-pairs\n",
    "3. performing distance analysis with considering the noisiness (lower noise, \"clearer/better\" analysis)\n",
    "4. Saving results with peak height above 2.8 in dataframe df_distance_clusterPART1 (-> adjust for cluster)\n",
    "\n"
   ]
  },
  {
   "cell_type": "code",
   "execution_count": 1,
   "id": "27eaa989",
   "metadata": {},
   "outputs": [],
   "source": [
    "# The following lines, initally check if all file/paths are available. \n",
    "#If a result folder does not exist it is created automatically\n",
    "import os\n",
    "import pathlib\n",
    "if not os.path.exists(\"./results/distanceresultsfordifference/\"):\n",
    "     pathlib.Path(\"./results/distanceresultsfordifference/\").mkdir(parents=True, exist_ok=True)"
   ]
  },
  {
   "cell_type": "code",
   "execution_count": 11,
   "id": "041049b4",
   "metadata": {},
   "outputs": [
    {
     "data": {
      "text/plain": [
       "<CombObj: 10456438 TFBS (746 unique names) | Market basket analysis: 550254 rules>"
      ]
     },
     "execution_count": 11,
     "metadata": {},
     "output_type": "execute_result"
    }
   ],
   "source": [
    "import tfcomb.objects\n",
    "clusterPART1_object = tfcomb.CombObj().from_pickle(\"/mnt/workspace_stud/stud6/repositories/Datenanalyse-2021/wp6/analyse/results/wp1/main/heart_lv/heart_lv.2.Natural_killer_T_(NKT)_cell.pkl\")\n",
    "clusterPART1_object"
   ]
  },
  {
   "cell_type": "code",
   "execution_count": 13,
   "id": "5fb865cd",
   "metadata": {},
   "outputs": [],
   "source": [
    "clusterPART1_object.simplify_rules()"
   ]
  },
  {
   "cell_type": "code",
   "execution_count": 4,
   "id": "e1f879f1",
   "metadata": {},
   "outputs": [
    {
     "name": "stdout",
     "output_type": "stream",
     "text": [
      "INFO: x_threshold is None; trying to calculate optimal threshold\n",
      "INFO: y_threshold is None; trying to calculate optimal threshold\n",
      "INFO: Creating subset of TFBS and rules using thresholds\n"
     ]
    },
    {
     "data": {
      "image/png": "[encoded data removed]",
      "text/plain": [
       "<Figure size 432x432 with 3 Axes>"
      ]
     },
     "metadata": {
      "needs_background": "light"
     },
     "output_type": "display_data"
    }
   ],
   "source": [
    "clusterPART1_object_selected = clusterPART1_object.select_significant_rules()"
   ]
  },
  {
   "cell_type": "code",
   "execution_count": 5,
   "id": "c35ff8fa",
   "metadata": {},
   "outputs": [
    {
     "name": "stdout",
     "output_type": "stream",
     "text": [
      "INFO: DistObject successfully created! It can be accessed via combobj.distObj\n",
      "INFO: Calculating distances\n",
      "INFO: Normalizing data.\n",
      "INFO: Done finding distances! Results are found in .distances\n",
      "INFO: Run .linregress_all() to fit linear regression\n",
      "INFO: Fitting linear regression. With number of threads: 6\n",
      "INFO: Linear regression finished! Results can be found in .linres\n",
      "INFO: Correcting background with 6 threads.\n",
      "INFO: Background correction finished! Results can be found in .corrected\n",
      "INFO: Smoothing signals with window size 3\n",
      "INFO: Shifting signals above zero\n",
      "INFO: Analyzing Signal with threads 6\n",
      "INFO: Done analyzing signal. Results are found in .peaks\n"
     ]
    }
   ],
   "source": [
    "clusterPART1_object_selected.analyze_distances(threads=6)"
   ]
  },
  {
   "cell_type": "code",
   "execution_count": 6,
   "id": "319d5c69",
   "metadata": {},
   "outputs": [
    {
     "name": "stdout",
     "output_type": "stream",
     "text": [
      "INFO: Evaluating noisiness of the signals with 6 threads\n"
     ]
    }
   ],
   "source": [
    "clusterPART1_object_selected.distObj.evaluate_noise(threads=6)\n",
    "clusterPART1_object_selected.distObj.rank_rules()"
   ]
  },
  {
   "cell_type": "code",
   "execution_count": 7,
   "id": "f7043361",
   "metadata": {},
   "outputs": [],
   "source": [
    "df_distance_clusterPART1=clusterPART1_object_selected.distObj.peaks"
   ]
  },
  {
   "cell_type": "code",
   "execution_count": 15,
   "id": "c1af91c7",
   "metadata": {},
   "outputs": [
    {
     "data": {
      "text/html": [
       "<div>\n",
       "<style scoped>\n",
       "    .dataframe tbody tr th:only-of-type {\n",
       "        vertical-align: middle;\n",
       "    }\n",
       "\n",
       "    .dataframe tbody tr th {\n",
       "        vertical-align: top;\n",
       "    }\n",
       "\n",
       "    .dataframe thead th {\n",
       "        text-align: right;\n",
       "    }\n",
       "</style>\n",
       "<table border=\"1\" class=\"dataframe\">\n",
       "  <thead>\n",
       "    <tr style=\"text-align: right;\">\n",
       "      <th></th>\n",
       "      <th>TF1</th>\n",
       "      <th>TF2</th>\n",
       "      <th>Distance</th>\n",
       "      <th>Peak Heights</th>\n",
       "      <th>Prominences</th>\n",
       "      <th>Threshold</th>\n",
       "      <th>TF1_TF2_count</th>\n",
       "      <th>Distance_percent</th>\n",
       "      <th>Noisiness</th>\n",
       "      <th>rank_Distance_percent</th>\n",
       "      <th>rank_Peak Heights</th>\n",
       "      <th>rank_Noisiness</th>\n",
       "      <th>mean_rank</th>\n",
       "    </tr>\n",
       "  </thead>\n",
       "  <tbody>\n",
       "    <tr>\n",
       "      <th>7968</th>\n",
       "      <td>RARA</td>\n",
       "      <td>SP9</td>\n",
       "      <td>52</td>\n",
       "      <td>6.398584</td>\n",
       "      <td>6.664683</td>\n",
       "      <td>2</td>\n",
       "      <td>755</td>\n",
       "      <td>0.754967</td>\n",
       "      <td>0.005907</td>\n",
       "      <td>141.0</td>\n",
       "      <td>61.0</td>\n",
       "      <td>38.0</td>\n",
       "      <td>80.000000</td>\n",
       "    </tr>\n",
       "    <tr>\n",
       "      <th>7967</th>\n",
       "      <td>RARA</td>\n",
       "      <td>SP8</td>\n",
       "      <td>52</td>\n",
       "      <td>6.416077</td>\n",
       "      <td>6.686614</td>\n",
       "      <td>2</td>\n",
       "      <td>756</td>\n",
       "      <td>0.738095</td>\n",
       "      <td>0.006484</td>\n",
       "      <td>167.0</td>\n",
       "      <td>59.0</td>\n",
       "      <td>54.0</td>\n",
       "      <td>93.333333</td>\n",
       "    </tr>\n",
       "    <tr>\n",
       "      <th>8182</th>\n",
       "      <td>Rarg</td>\n",
       "      <td>TBX1</td>\n",
       "      <td>41</td>\n",
       "      <td>6.499230</td>\n",
       "      <td>6.716822</td>\n",
       "      <td>2</td>\n",
       "      <td>2715</td>\n",
       "      <td>0.812523</td>\n",
       "      <td>0.011781</td>\n",
       "      <td>93.0</td>\n",
       "      <td>47.0</td>\n",
       "      <td>190.0</td>\n",
       "      <td>110.000000</td>\n",
       "    </tr>\n",
       "    <tr>\n",
       "      <th>8183</th>\n",
       "      <td>Rarg</td>\n",
       "      <td>TBX15</td>\n",
       "      <td>41</td>\n",
       "      <td>6.499230</td>\n",
       "      <td>6.716822</td>\n",
       "      <td>2</td>\n",
       "      <td>2715</td>\n",
       "      <td>0.812523</td>\n",
       "      <td>0.011781</td>\n",
       "      <td>93.0</td>\n",
       "      <td>47.0</td>\n",
       "      <td>190.0</td>\n",
       "      <td>110.000000</td>\n",
       "    </tr>\n",
       "    <tr>\n",
       "      <th>8184</th>\n",
       "      <td>Rarg</td>\n",
       "      <td>TBX4</td>\n",
       "      <td>41</td>\n",
       "      <td>6.499230</td>\n",
       "      <td>6.716822</td>\n",
       "      <td>2</td>\n",
       "      <td>2715</td>\n",
       "      <td>0.812523</td>\n",
       "      <td>0.011781</td>\n",
       "      <td>93.0</td>\n",
       "      <td>47.0</td>\n",
       "      <td>190.0</td>\n",
       "      <td>110.000000</td>\n",
       "    </tr>\n",
       "    <tr>\n",
       "      <th>...</th>\n",
       "      <td>...</td>\n",
       "      <td>...</td>\n",
       "      <td>...</td>\n",
       "      <td>...</td>\n",
       "      <td>...</td>\n",
       "      <td>...</td>\n",
       "      <td>...</td>\n",
       "      <td>...</td>\n",
       "      <td>...</td>\n",
       "      <td>...</td>\n",
       "      <td>...</td>\n",
       "      <td>...</td>\n",
       "      <td>...</td>\n",
       "    </tr>\n",
       "    <tr>\n",
       "      <th>8975</th>\n",
       "      <td>TFAP2Cvar.2</td>\n",
       "      <td>ZEB1</td>\n",
       "      <td>77</td>\n",
       "      <td>2.017575</td>\n",
       "      <td>3.136813</td>\n",
       "      <td>2</td>\n",
       "      <td>239</td>\n",
       "      <td>0.046025</td>\n",
       "      <td>0.380925</td>\n",
       "      <td>5773.0</td>\n",
       "      <td>7930.0</td>\n",
       "      <td>4635.0</td>\n",
       "      <td>6112.666667</td>\n",
       "    </tr>\n",
       "    <tr>\n",
       "      <th>470</th>\n",
       "      <td>AhrArnt</td>\n",
       "      <td>TFAP2Avar.3</td>\n",
       "      <td>92</td>\n",
       "      <td>2.012250</td>\n",
       "      <td>2.594102</td>\n",
       "      <td>2</td>\n",
       "      <td>350</td>\n",
       "      <td>0.042857</td>\n",
       "      <td>0.311388</td>\n",
       "      <td>5909.0</td>\n",
       "      <td>7962.0</td>\n",
       "      <td>4501.0</td>\n",
       "      <td>6124.000000</td>\n",
       "    </tr>\n",
       "    <tr>\n",
       "      <th>5146</th>\n",
       "      <td>KLF15</td>\n",
       "      <td>Klf1</td>\n",
       "      <td>88</td>\n",
       "      <td>2.019734</td>\n",
       "      <td>2.457634</td>\n",
       "      <td>2</td>\n",
       "      <td>649</td>\n",
       "      <td>0.044684</td>\n",
       "      <td>0.354874</td>\n",
       "      <td>5847.0</td>\n",
       "      <td>7916.0</td>\n",
       "      <td>4613.0</td>\n",
       "      <td>6125.333333</td>\n",
       "    </tr>\n",
       "    <tr>\n",
       "      <th>4125</th>\n",
       "      <td>GABPA</td>\n",
       "      <td>SPIB</td>\n",
       "      <td>87</td>\n",
       "      <td>2.033099</td>\n",
       "      <td>2.449264</td>\n",
       "      <td>2</td>\n",
       "      <td>1100</td>\n",
       "      <td>0.040000</td>\n",
       "      <td>0.337545</td>\n",
       "      <td>5984.0</td>\n",
       "      <td>7825.0</td>\n",
       "      <td>4583.0</td>\n",
       "      <td>6130.666667</td>\n",
       "    </tr>\n",
       "    <tr>\n",
       "      <th>5610</th>\n",
       "      <td>KLF4</td>\n",
       "      <td>Tcf12</td>\n",
       "      <td>99</td>\n",
       "      <td>2.015742</td>\n",
       "      <td>2.015742</td>\n",
       "      <td>2</td>\n",
       "      <td>739</td>\n",
       "      <td>0.036536</td>\n",
       "      <td>0.308432</td>\n",
       "      <td>6039.0</td>\n",
       "      <td>7944.0</td>\n",
       "      <td>4482.0</td>\n",
       "      <td>6155.000000</td>\n",
       "    </tr>\n",
       "  </tbody>\n",
       "</table>\n",
       "<p>9239 rows × 13 columns</p>\n",
       "</div>"
      ],
      "text/plain": [
       "              TF1          TF2  Distance  Peak Heights  Prominences  \\\n",
       "7968         RARA          SP9        52      6.398584     6.664683   \n",
       "7967         RARA          SP8        52      6.416077     6.686614   \n",
       "8182         Rarg         TBX1        41      6.499230     6.716822   \n",
       "8183         Rarg        TBX15        41      6.499230     6.716822   \n",
       "8184         Rarg         TBX4        41      6.499230     6.716822   \n",
       "...           ...          ...       ...           ...          ...   \n",
       "8975  TFAP2Cvar.2         ZEB1        77      2.017575     3.136813   \n",
       "470       AhrArnt  TFAP2Avar.3        92      2.012250     2.594102   \n",
       "5146        KLF15         Klf1        88      2.019734     2.457634   \n",
       "4125        GABPA         SPIB        87      2.033099     2.449264   \n",
       "5610         KLF4        Tcf12        99      2.015742     2.015742   \n",
       "\n",
       "      Threshold  TF1_TF2_count  Distance_percent Noisiness  \\\n",
       "7968          2            755          0.754967  0.005907   \n",
       "7967          2            756          0.738095  0.006484   \n",
       "8182          2           2715          0.812523  0.011781   \n",
       "8183          2           2715          0.812523  0.011781   \n",
       "8184          2           2715          0.812523  0.011781   \n",
       "...         ...            ...               ...       ...   \n",
       "8975          2            239          0.046025  0.380925   \n",
       "470           2            350          0.042857  0.311388   \n",
       "5146          2            649          0.044684  0.354874   \n",
       "4125          2           1100          0.040000  0.337545   \n",
       "5610          2            739          0.036536  0.308432   \n",
       "\n",
       "      rank_Distance_percent  rank_Peak Heights  rank_Noisiness    mean_rank  \n",
       "7968                  141.0               61.0            38.0    80.000000  \n",
       "7967                  167.0               59.0            54.0    93.333333  \n",
       "8182                   93.0               47.0           190.0   110.000000  \n",
       "8183                   93.0               47.0           190.0   110.000000  \n",
       "8184                   93.0               47.0           190.0   110.000000  \n",
       "...                     ...                ...             ...          ...  \n",
       "8975                 5773.0             7930.0          4635.0  6112.666667  \n",
       "470                  5909.0             7962.0          4501.0  6124.000000  \n",
       "5146                 5847.0             7916.0          4613.0  6125.333333  \n",
       "4125                 5984.0             7825.0          4583.0  6130.666667  \n",
       "5610                 6039.0             7944.0          4482.0  6155.000000  \n",
       "\n",
       "[9239 rows x 13 columns]"
      ]
     },
     "execution_count": 15,
     "metadata": {},
     "output_type": "execute_result"
    }
   ],
   "source": [
    "df_distance_clusterPART1"
   ]
  },
  {
   "cell_type": "markdown",
   "id": "83a7909c",
   "metadata": {},
   "source": [
    "##   2. Saving results of first cluster in .csv file"
   ]
  },
  {
   "cell_type": "code",
   "execution_count": 9,
   "id": "13d008e6",
   "metadata": {},
   "outputs": [],
   "source": [
    "df_distance_clusterPART1[(df_distance_clusterPART1[\"Peak Heights\"]>2.8)].to_csv(\"./results/distanceresultsfordifference/distance_heart_lv_2.Natural_killer_T_(NKT)_cell.csv\")"
   ]
  },
  {
   "cell_type": "code",
   "execution_count": 10,
   "id": "6ca3beb0",
   "metadata": {},
   "outputs": [],
   "source": [
    "#clusterPART1_object_selected.distObj.plot((\"AhrArnt\", \"KLF9\"), method=\"signal\")"
   ]
  },
  {
   "cell_type": "code",
   "execution_count": null,
   "id": "bcb9f175",
   "metadata": {},
   "outputs": [],
   "source": []
  },
  {
   "cell_type": "code",
   "execution_count": null,
   "id": "d4b79128",
   "metadata": {},
   "outputs": [],
   "source": []
  },
  {
   "cell_type": "code",
   "execution_count": null,
   "id": "5a541b27",
   "metadata": {},
   "outputs": [],
   "source": []
  }
 ],
 "metadata": {
  "kernelspec": {
   "display_name": "tfcomb_env",
   "language": "python",
   "name": "tfcomb_env"
  },
  "language_info": {
   "codemirror_mode": {
    "name": "ipython",
    "version": 3
   },
   "file_extension": ".py",
   "mimetype": "text/x-python",
   "name": "python",
   "nbconvert_exporter": "python",
   "pygments_lexer": "ipython3",
   "version": "3.7.12"
  }
 },
 "nbformat": 4,
 "nbformat_minor": 5
}
