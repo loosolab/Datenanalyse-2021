{
 "cells": [
  {
   "cell_type": "markdown",
   "id": "b583e95e",
   "metadata": {},
   "source": [
    "## TF-co-occurences with newly found tf-motifs"
   ]
  },
  {
   "cell_type": "markdown",
   "id": "086871fc",
   "metadata": {},
   "source": [
    "#### constant variables and imports"
   ]
  },
  {
   "cell_type": "code",
   "execution_count": 7,
   "id": "883092c2",
   "metadata": {},
   "outputs": [],
   "source": [
    "from tfcomb import CombObj\n",
    "import os\n",
    "import pathlib\n",
    "\n",
    "'''\n",
    "Constants for this script\n",
    "'''\n",
    "genome_path=\"../testdaten/hg19_masked.fa\"\n",
    "main_jaspar_file=\"../testdaten/JASPAR2020_CORE_vertebrates.meme\" \n",
    "result_path=\"./results/wp5/\"\n",
    "\n",
    "merged_motif_path=f\"{result_path}prepared_jaspar_files/\"\n",
    "motif_path=\"../testdaten/wp5/new_motifs/\"\n",
    "\n",
    "path_to_clusters=\"../testdaten/enhancers/\"\n",
    "cluster_file_name=\"CD14+_enhancers.bed\"\n",
    "\n",
    "joined_jaspar_file_name = \"joined_motifs.jaspar\"\n",
    "\n",
    "# create result folders \n",
    "if not os.path.exists(result_path):\n",
    "     pathlib.Path(result_path).mkdir(parents=True, exist_ok=True)\n",
    "\n",
    "if not os.path.exists(merged_motif_path):\n",
    "     pathlib.Path(merged_motif_path).mkdir(parents=True, exist_ok=True)\n",
    "        \n",
    "\n",
    "if not os.path.exists(genome_path):\n",
    "    print(f\"ERROR: path {genome_path} does not exist\")\n",
    "\n",
    "if not os.path.exists(main_jaspar_file):\n",
    "    print(f\"ERROR: path {main_jaspar_file} does not exist\")\n",
    "\n",
    "if not os.path.exists(motif_path):\n",
    "    print(f\"ERROR: path {motif_path} does not exist\")"
   ]
  },
  {
   "cell_type": "code",
   "execution_count": 8,
   "id": "3943710f",
   "metadata": {},
   "outputs": [],
   "source": [
    "'''\n",
    "You need this to use TOBIAS command line tool in your python envrionment\n",
    "Find the path to the tobias command with:\n",
    "type TOBIAS\n",
    "'''\n",
    "TOBIAS_command=\"/home/stud6/.conda/envs/tfcomb_env/bin/TOBIAS\"\n",
    "#environ['PATH'] += pathsep + tobias_path\n",
    "#print(environ['PATH'])\n"
   ]
  },
  {
   "cell_type": "markdown",
   "id": "d3aa9a4f",
   "metadata": {},
   "source": [
    "#### function definition for the market basket analyses"
   ]
  },
  {
   "cell_type": "code",
   "execution_count": 9,
   "id": "f7dfc12e",
   "metadata": {},
   "outputs": [],
   "source": [
    "def do_market_basket_analyses_for_cell_cluster(cell_cluster_name: str, cell_cluster_path:str):\n",
    "    '''\n",
    "        Does market basket analyses.\n",
    "    '''\n",
    "    comb = CombObj()\n",
    "    comb.TFBS_from_motifs(regions= cell_cluster_path,\n",
    "                   motifs=f\"{merged_motif_path}{joined_jaspar_file_name}\",\n",
    "                   genome=genome_path,\n",
    "                   threads=4)\n",
    "    \n",
    "    print(f'Start market basket analyses for cell-cluster/type: {cell_cluster_name}')\n",
    "    comb.market_basket(threads=10)\n",
    "    if len(comb.rules) <= 0:\n",
    "        print(f'Could not find TF-cooccurences for cell-cluster/type: {cell_cluster_name}')\n",
    "        return\n",
    "    print(f'Finished market basket analyses for cell-cluster/type: {cell_cluster_name}')\n",
    "    print(f'Found rules: {len(comb.rules)}')\n",
    "    comb.to_pickle(f'{result_path}{cell_cluster_name}.pkl')\n",
    "    print(f'Saved: {result_path}{cell_cluster_name}.pkl')\n",
    "\n"
   ]
  },
  {
   "cell_type": "markdown",
   "id": "cd42e92e",
   "metadata": {},
   "source": [
    "#### function definition to read in files of folder"
   ]
  },
  {
   "cell_type": "code",
   "execution_count": 10,
   "id": "d9ecb5da",
   "metadata": {},
   "outputs": [
    {
     "name": "stdout",
     "output_type": "stream",
     "text": [
      "['CD8+_enhancers.bed', 'HCT116_enhancers.bed', 'HL-60_enhancers.bed', 'FT246_enhancers.bed', 'SK-N-SH_RA_enhancers.bed', 'LNCaP_enhancers.bed', 'T98G_enhancers.bed', 'Fetal_placenta_enhancers.bed', 'Small_intestine_enhancers.bed', 'Cerebellum_enhancers.bed', 'GM19240_enhancers.bed', 'HEK293_enhancers.bed', 'Fetal_muscle_leg_enhancers.bed', 'Left_ventricle_enhancers.bed', 'CD14+_enhancers.bed', 'KB_enhancers.bed', 'Astrocyte_enhancers.bed', 'GM18951_enhancers.bed', 'PANC-1_enhancers.bed', 'GM12878_enhancers.bed', 'A549_enhancers.bed', 'CUTLL1_enhancers.bed', 'Osteoblast_enhancers.bed', 'ESC_neuron_enhancers.bed', 'CD19+_enhancers.bed', 'Fetal_kidney_enhancers.bed', 'ME-1_enhancers.bed', 'H9_enhancers.bed', 'CD4+_enhancers.bed', 'Skeletal_muscle_enhancers.bed', 'Fetal_spinal_cord_enhancers.bed', 'GM12891_enhancers.bed', 'LHCN-M2_enhancers.bed', 'MCF-7_enhancers.bed', 'Spleen_enhancers.bed', 'PrEC_enhancers.bed', 'NB4_enhancers.bed', 'Pancreas_enhancers.bed', 'GM12892_enhancers.bed', 'Sperm_enhancers.bed', 'Namalwa_enhancers.bed', 'LNCaP-abl_enhancers.bed', 'Fetal_small_intestine_enhancers.bed', 'GM10847_enhancers.bed', 'Pancreatic_islet_enhancers.bed', 'Liver_enhancers.bed', 'GM19239_enhancers.bed', 'SGBS_adipocyte_enhancers.bed', 'HSMM_enhancers.bed', 'HEK293T_enhancers.bed', 'Fetal_heart_enhancers.bed', 'NHEK_enhancers.bed', 'GM19238_enhancers.bed', 'CD36+_enhancers.bed', 'FT33_enhancers.bed', 'SK-N-SH_enhancers.bed', 'HCC1954_enhancers.bed', 'HUVEC_enhancers.bed', 'Caco-2_enhancers.bed', 'Bronchia_epithelial_enhancers.bed', 'U2OS_enhancers.bed', 'ECC-1_enhancers.bed', 'GM18526_enhancers.bed', 'Esophagus_enhancers.bed', 'IMR90_enhancers.bed', 'Hela_enhancers.bed', 'BJ_enhancers.bed', 'Fetal_stomach_enhancers.bed', 'VCaP_enhancers.bed', 'GM19099_enhancers.bed', 'GM19193_enhancers.bed', 'Lung_enhancers.bed', 'Melanocyte_enhancers.bed', 'Fetal_thymus_enhancers.bed', 'Myotube_enhancers.bed', 'NKC_enhancers.bed', 'T47D_enhancers.bed', 'CD20+_enhancers.bed', 'HepG2_enhancers.bed', 'th1_enhancers.bed', 'Ovary_enhancers.bed', 'CD34+_enhancers.bed', 'PC3_enhancers.bed', 'GM18505_enhancers.bed', 'NHDF_enhancers.bed', 'K562_enhancers.bed', 'hNCC_enhancers.bed', 'Thymus_enhancers.bed', 'A375_enhancers.bed', 'NHLF_enhancers.bed']\n"
     ]
    }
   ],
   "source": [
    "def read_in_file_names_of_folder(rel_path:str):\n",
    "    return [f for f in os.listdir(rel_path) if os.path.isfile(os.path.join(rel_path, f))]\n",
    "\n",
    "def merge_new_motif_to_jaspar_file(new_motif_file_name: str , new_motif_name: str):\n",
    "    '''\n",
    "    Merge a new Motif to a jaspar file with known motifs by using TOBIAS FormatMotif tool\n",
    "    --input test_data/individual_motifs/*\n",
    "    '''\n",
    "    if not os.path.exists(f\"{merged_motif_path}{joined_jaspar_file_name}\"):\n",
    "        print(\"Create joined_motif File.\")\n",
    "        print(f'{TOBIAS_command} FormatMotifs --input {motif_path}{new_motif_file_name}{\" \"}{main_jaspar_file} --task join --output {merged_motif_path}{joined_jaspar_file_name}')\n",
    "        os.system(f'{TOBIAS_command} FormatMotifs --input {motif_path}{new_motif_file_name}{\" \"}{main_jaspar_file} --task join --output {merged_motif_path}{joined_jaspar_file_name}')\n",
    "    else:\n",
    "        print(f'{TOBIAS_command} FormatMotifs --input {motif_path}{new_motif_file_name}{\" \"}{merged_motif_path}{joined_jaspar_file_name} --task join --output {merged_motif_path}{joined_jaspar_file_name}')\n",
    "        os.system(f'{TOBIAS_command} FormatMotifs --input {motif_path}{new_motif_file_name}{\" \"}{merged_motif_path}{joined_jaspar_file_name} --task join --output {merged_motif_path}{joined_jaspar_file_name}')\n",
    "        \n",
    "cluster_file_names = read_in_file_names_of_folder(rel_path=path_to_clusters)\n",
    "print(cluster_file_names)\n"
   ]
  },
  {
   "cell_type": "markdown",
   "id": "25c28cca",
   "metadata": {},
   "source": [
    "### Market basket analyses with newly found motifs\n",
    "Idea: WP5 finds motifs for a special cell_line/cluster/tissue e.g. liver cells. WP6 takes the new motifs and tests them for TF-co-occurences in the specific cellline/cluster"
   ]
  },
  {
   "cell_type": "code",
   "execution_count": null,
   "id": "c852ab1d",
   "metadata": {},
   "outputs": [],
   "source": [
    "/**\n",
    "new_motif_file_names = read_in_file_names_of_folder(rel_path=motif_path)\n",
    "#cell_line_names = read_in_file_names_of_folder(rel_path=enhancer_path)\n",
    "new_motif_names = []\n",
    "\n",
    "for new_motif_file_name in new_motif_file_names:\n",
    "    motif_name = new_motif_file_name.split('.')[0]\n",
    "    new_motif_names.append(motif_name)\n",
    "    cell_line_name = cell_line_file_name.split('.')[0]\n",
    "\n",
    "    print(new_motif_file_name)\n",
    "    print(motif_name)\n",
    "    print(cell_line_name)\n",
    "    \n",
    "    merge_new_motif_to_jaspar_file(new_motif_file_name=new_motif_file_name, new_motif_name=motif_name)\n",
    "    \n",
    "    do_market_basket_analyses(genome_path=genome_path, \n",
    "                              cell_line_name=cell_line_name,\n",
    "                              rel_path_cell_line=f\"{cell_line_path}{cell_line_file_name}\",\n",
    "                              motif_name=motif_name,\n",
    "                              rel_path_motif=f\"{merged_motif_path}joined_{motif_name}.jaspar\"\n",
    "                             )\n",
    "**/"
   ]
  },
  {
   "cell_type": "code",
   "execution_count": 11,
   "id": "4c36ae2b",
   "metadata": {},
   "outputs": [
    {
     "name": "stdout",
     "output_type": "stream",
     "text": [
      "Create joined_motif File.\n",
      "/home/stud6/.conda/envs/tfcomb_env/bin/TOBIAS FormatMotifs --input ../testdaten/wp5/new_motifs/motif_10_motif_10.meme ../testdaten/JASPAR2020_CORE_vertebrates.meme --task join --output ./results/wp5/prepared_jaspar_files/joined_motifs.jaspar\n",
      "# TOBIAS 0.13.2 FormatMotifs (run started 2022-01-22 14:40:30.676575)\n",
      "# Working directory: /mnt/workspace_stud/stud6/repositories/Datenanalyse-2021/wp6/analyse\n",
      "# Command line call: TOBIAS FormatMotifs --input ../testdaten/wp5/new_motifs/motif_10_motif_10.meme ../testdaten/JASPAR2020_CORE_vertebrates.meme --task join --output ./results/wp5/prepared_jaspar_files/joined_motifs.jaspar\n",
      "\n",
      "# ----- Input parameters -----\n",
      "# input:\t['../testdaten/wp5/new_motifs/motif_10_motif_10.meme', '../testdaten/JASPAR2020_CORE_vertebrates.meme']\n",
      "# output:\t./results/wp5/prepared_jaspar_files/joined_motifs.jaspar\n",
      "# format:\tjaspar\n",
      "# task:\tjoin\n",
      "# filter:\tNone\n",
      "# verbosity:\t3\n",
      "\n",
      "\n",
      "# ----- Output files -----\n",
      "# ./results/wp5/prepared_jaspar_files/joined_motifs.jaspar\n",
      "\n",
      "\n",
      "2022-01-22 14:40:30 (25890) [INFO]\tReading input files...\n",
      "2022-01-22 14:40:30 (25890) [INFO]\tRead 747 motifs\n",
      "\n",
      "2022-01-22 14:40:30 (25890) [INFO]\tWriting converted motifs to file ./results/wp5/prepared_jaspar_files/joined_motifs.jaspar\n",
      "\n",
      "2022-01-22 14:40:30 (25890) [INFO]\tFinished FormatMotifs run (total time elapsed: 0:00:00.127933)\n",
      "/home/stud6/.conda/envs/tfcomb_env/bin/TOBIAS FormatMotifs --input ../testdaten/wp5/new_motifs/motif_29_motif_29.meme ./results/wp5/prepared_jaspar_files/joined_motifs.jaspar --task join --output ./results/wp5/prepared_jaspar_files/joined_motifs.jaspar\n",
      "# TOBIAS 0.13.2 FormatMotifs (run started 2022-01-22 14:40:32.558088)\n",
      "# Working directory: /mnt/workspace_stud/stud6/repositories/Datenanalyse-2021/wp6/analyse\n",
      "# Command line call: TOBIAS FormatMotifs --input ../testdaten/wp5/new_motifs/motif_29_motif_29.meme ./results/wp5/prepared_jaspar_files/joined_motifs.jaspar --task join --output ./results/wp5/prepared_jaspar_files/joined_motifs.jaspar\n",
      "\n",
      "# ----- Input parameters -----\n",
      "# input:\t['../testdaten/wp5/new_motifs/motif_29_motif_29.meme', './results/wp5/prepared_jaspar_files/joined_motifs.jaspar']\n",
      "# output:\t./results/wp5/prepared_jaspar_files/joined_motifs.jaspar\n",
      "# format:\tjaspar\n",
      "# task:\tjoin\n",
      "# filter:\tNone\n",
      "# verbosity:\t3\n",
      "\n",
      "\n",
      "# ----- Output files -----\n",
      "# ./results/wp5/prepared_jaspar_files/joined_motifs.jaspar\n",
      "\n",
      "\n",
      "2022-01-22 14:40:32 (25902) [INFO]\tReading input files...\n",
      "2022-01-22 14:40:32 (25902) [INFO]\tRead 748 motifs\n",
      "\n",
      "2022-01-22 14:40:32 (25902) [INFO]\tWriting converted motifs to file ./results/wp5/prepared_jaspar_files/joined_motifs.jaspar\n",
      "\n",
      "2022-01-22 14:40:32 (25902) [INFO]\tFinished FormatMotifs run (total time elapsed: 0:00:00.143389)\n",
      "CD8+_enhancers\n",
      "CD8+_enhancers.bed\n",
      "INFO: Scanning for TFBS with 4 thread(s)...\n",
      "INFO: Progress: 9%\n",
      "INFO: Progress: 19%\n",
      "INFO: Progress: 28%\n",
      "INFO: Progress: 36%\n",
      "INFO: Progress: 45%\n",
      "INFO: Progress: 56%\n",
      "INFO: Progress: 64%\n",
      "INFO: Progress: 73%\n",
      "INFO: Progress: 84%\n",
      "INFO: Progress: 91%\n",
      "INFO: Finished!\n",
      "INFO: Processing scanned TFBS\n",
      "INFO: Identified 86292 TFBS (748 unique names) within given regions\n",
      "Start market basket analyses for cell-cluster/type: CD8+_enhancers\n",
      "WARNING: No counts found in <CombObj>. Running <CombObj>.count_within() with standard parameters.\n",
      "INFO: Setting up binding sites for counting\n",
      "INFO: Counting co-occurrences within sites\n",
      "INFO: Counting co-occurrence within background\n",
      "INFO: Progress: 10%\n",
      "INFO: Progress: 24%\n",
      "INFO: Progress: 30%\n",
      "INFO: Progress: 48%\n",
      "INFO: Progress: 52%\n",
      "INFO: Progress: 60%\n",
      "INFO: Progress: 70%\n",
      "INFO: Progress: 82%\n",
      "INFO: Progress: 90%\n",
      "INFO: Finished!\n",
      "INFO: Done finding co-occurrences! Run .market_basket() to estimate significant pairs\n",
      "INFO: Market basket analysis is done! Results are found in <CombObj>.rules\n",
      "Finished market basket analyses for cell-cluster/type: CD8+_enhancers\n",
      "Found rules: 235036\n",
      "Saved: ./results/wp5/CD8+_enhancers.pkl\n"
     ]
    }
   ],
   "source": [
    "new_motif_file_names = read_in_file_names_of_folder(rel_path=motif_path)\n",
    "new_motif_names = []\n",
    "\n",
    "for new_motif_file_name in new_motif_file_names:\n",
    "    motif_name = new_motif_file_name.split('.')[0]\n",
    "    new_motif_names.append(motif_name)\n",
    "    cluster_name = cluster_file_name.split('.')[0]\n",
    "    merge_new_motif_to_jaspar_file(new_motif_file_name=new_motif_file_name, new_motif_name=motif_name)\n",
    "\n",
    "for file_name in cluster_file_names:\n",
    "    cluster_name = file_name.split('.')[0]\n",
    "    print(cluster_name)\n",
    "    print(file_name)\n",
    "    cluster_path=f\"{path_to_clusters}{file_name}\"\n",
    "    do_market_basket_analyses_for_cell_cluster(cell_cluster_name=cluster_name, cell_cluster_path=cluster_path)\n",
    "    \n",
    "    # TODO: Remove break, if you want to make the mbasket for all clusters\n",
    "    break    \n"
   ]
  },
  {
   "cell_type": "markdown",
   "id": "275656f6",
   "metadata": {},
   "source": [
    "### Analyse the co-occurences\n"
   ]
  },
  {
   "cell_type": "code",
   "execution_count": 17,
   "id": "4204a41d",
   "metadata": {},
   "outputs": [
    {
     "name": "stdout",
     "output_type": "stream",
     "text": [
      "['motif_10_motif_10', 'motif_29_motif_29']\n",
      "['CD8+_enhancers.pkl']\n",
      "motif_10\n",
      "INFO: Selected 282 rules\n",
      "INFO: Creating subset of object\n",
      "<CombObj: 84484 TFBS (748 unique names) | Market basket analysis: 282 rules>\n",
      "INFO: x_threshold is None; trying to calculate optimal threshold\n",
      "INFO: y_threshold is None; trying to calculate optimal threshold\n",
      "INFO: Creating subset of TFBS and rules using thresholds\n",
      "<CombObj: 131805 TFBS (748 unique names) | Market basket analysis: 7134 rules>\n",
      "INFO: Selected 2 rules\n",
      "INFO: Creating subset of object\n",
      "                    TF1   TF2  TF1_TF2_count  TF1_count  TF2_count    cosine  \\\n",
      "motif_10-KLF5  motif_10  KLF5             14        126       1276  0.034915   \n",
      "motif_10-SP2   motif_10   SP2             10        126        698  0.033720   \n",
      "\n",
      "                 zscore  \n",
      "motif_10-KLF5  3.319900  \n",
      "motif_10-SP2   3.674017  \n",
      "motif_29\n",
      "INFO: Selected 473 rules\n",
      "INFO: Creating subset of object\n",
      "<CombObj: 114855 TFBS (748 unique names) | Market basket analysis: 473 rules>\n",
      "INFO: x_threshold is None; trying to calculate optimal threshold\n",
      "INFO: y_threshold is None; trying to calculate optimal threshold\n",
      "INFO: Creating subset of TFBS and rules using thresholds\n",
      "<CombObj: 131805 TFBS (748 unique names) | Market basket analysis: 7134 rules>\n",
      "INFO: Selected 3 rules\n",
      "INFO: Creating subset of object\n",
      "                           TF1          TF2  TF1_TF2_count  TF1_count  \\\n",
      "motif_29-KLF4         motif_29         KLF4             33        338   \n",
      "motif_29-TFAP2Avar.2  motif_29  TFAP2Avar.2             10        338   \n",
      "motif_29-INSM1        motif_29        INSM1             10        338   \n",
      "\n",
      "                      TF2_count    cosine    zscore  \n",
      "motif_29-KLF4              1395  0.048058  3.953812  \n",
      "motif_29-TFAP2Avar.2        209  0.037624  3.845835  \n",
      "motif_29-INSM1              254  0.034129  4.122200  \n"
     ]
    },
    {
     "data": {
      "image/png": "[encoded data removed]",
      "text/plain": [
       "<Figure size 432x432 with 3 Axes>"
      ]
     },
     "metadata": {
      "needs_background": "light"
     },
     "output_type": "display_data"
    },
    {
     "data": {
      "image/png": "[encoded data removed]",
      "text/plain": [
       "<Figure size 432x432 with 3 Axes>"
      ]
     },
     "metadata": {
      "needs_background": "light"
     },
     "output_type": "display_data"
    }
   ],
   "source": [
    "results_files_names_market_basket_analyses= read_in_file_names_of_folder(rel_path=result_path)\n",
    "\n",
    "print(new_motif_names)\n",
    "\n",
    "\n",
    "# TODO: for file_name in results_files_names_market_basket_analyses:    \n",
    "\n",
    "# Example, just taking the first analyses\n",
    "print(results_files_names_market_basket_analyses)\n",
    "A = CombObj().from_pickle(f\"{result_path}{results_files_names_market_basket_analyses[0]}\")\n",
    "\n",
    "for motif in new_motif_names:\n",
    "    \n",
    "    motif_name = f\"{motif.split('_')[0]}_{motif.split('_')[1]}\"\n",
    "    print(motif_name)\n",
    "    not_sig = A.select_TF_rules([motif_name], TF2=False)\n",
    "    print(not_sig)\n",
    "    significant = A.select_significant_rules()\n",
    "    print(significant)\n",
    "    selected3 = significant.select_TF_rules([motif_name], TF2=False)\n",
    "    #print(selected3)\n",
    "    print(selected3.rules)\n",
    "    "
   ]
  },
  {
   "cell_type": "code",
   "execution_count": null,
   "id": "2975066a",
   "metadata": {},
   "outputs": [],
   "source": [
    "selected3"
   ]
  },
  {
   "cell_type": "code",
   "execution_count": null,
   "id": "5c4a77bc",
   "metadata": {},
   "outputs": [],
   "source": []
  }
 ],
 "metadata": {
  "kernelspec": {
   "display_name": "tfcomb_env",
   "language": "python",
   "name": "tfcomb_env"
  },
  "language_info": {
   "codemirror_mode": {
    "name": "ipython",
    "version": 3
   },
   "file_extension": ".py",
   "mimetype": "text/x-python",
   "name": "python",
   "nbconvert_exporter": "python",
   "pygments_lexer": "ipython3",
   "version": "3.7.12"
  }
 },
 "nbformat": 4,
 "nbformat_minor": 5
}
