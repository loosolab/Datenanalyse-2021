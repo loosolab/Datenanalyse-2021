{
 "cells": [
  {
   "cell_type": "markdown",
   "id": "9cdade30",
   "metadata": {},
   "source": [
    "### Find TF-co-occurences for cellcluster/celltypes of WP3 (TOBIAS)"
   ]
  },
  {
   "cell_type": "markdown",
   "id": "0f4f3315",
   "metadata": {},
   "source": [
    "constant variables and imports"
   ]
  },
  {
   "cell_type": "code",
   "execution_count": 4,
   "id": "3b19082b",
   "metadata": {},
   "outputs": [],
   "source": [
    "from tfcomb import CombObj\n",
    "from os import listdir, system, environ, pathsep\n",
    "from os.path import isfile, join\n",
    "\n",
    "'''\n",
    "Constants for this script\n",
    "'''\n",
    "\n",
    "genome_path=\"../testdaten/hg19_masked.fa\"\n",
    "main_jaspar_file=\"../testdaten/JASPAR2020_CORE_vertebrates.meme\" \n",
    "result_path=\"./results/wp3/\"\n",
    "\n",
    "cluster_path=\"../testdaten/enhancers/\"\n",
    "\n",
    "path_bindetect_folder=\"/mnt/workspace_stud/stud8/testordner/cluster10/BINDetect/\"\n",
    "\n",
    "cell_line_file_name=\"CD14+_enhancers.bed\""
   ]
  },
  {
   "cell_type": "markdown",
   "id": "4966c104",
   "metadata": {},
   "source": [
    "Function definitions for Market Basket analyses + saving"
   ]
  },
  {
   "cell_type": "code",
   "execution_count": 14,
   "id": "eb66008c",
   "metadata": {},
   "outputs": [],
   "source": [
    "def do_market_basket_analyses_for_cell_line(cell_line_name: str, condition: str):\n",
    "    '''\n",
    "        Does market basket analyses with bindetect output of Tobias (WP3)\n",
    "    '''\n",
    "    comb = CombObj()\n",
    "    # Condition wird bei WP3 festgelegt , nochmal abstimmen. Wie oft lassen sie Tobias laufen \n",
    "    comb.TFBS_from_TOBIAS(bindetect_path=path_bindetect_folder, condition=condition, overwrite=False)\n",
    "    \n",
    "    print(f'Start market basket analyses for cell line: {cell_line_name}')\n",
    "    comb.market_basket(threads=10)\n",
    "    if len(comb.rules) <= 0:\n",
    "        print(f'Could not find TF-cooccurences for cell line: {cell_line_name}')\n",
    "        return\n",
    "    print(f'Finished market basket analyses for cell line: {cell_line_name}')\n",
    "    print(f'Found rules: {len(comb.rules)}')\n",
    "    comb.to_pickle(f'{result_path}{cell_line_name}_complete.pkl')\n",
    "    print(f'Saved: {result_path}{cell_line_name}_complete.pkl')\n",
    "   \n",
    "    "
   ]
  },
  {
   "cell_type": "code",
   "execution_count": 15,
   "id": "f47dc58d",
   "metadata": {},
   "outputs": [],
   "source": [
    "def read_in_file_names_of_folder(rel_path:str):\n",
    "    return [f for f in listdir(rel_path) if isfile(join(rel_path, f))]\n"
   ]
  },
  {
   "cell_type": "code",
   "execution_count": 17,
   "id": "a92af6d4",
   "metadata": {},
   "outputs": [
    {
     "name": "stdout",
     "output_type": "stream",
     "text": [
      "INFO: Read 1008547 sites (746 unique names) from condition 'cluster10Scores'\n",
      "Start market basket analyses for cell line: cluster10\n",
      "WARNING: No counts found in <CombObj>. Running <CombObj>.count_within() with standard parameters.\n",
      "INFO: Setting up binding sites for counting\n",
      "INFO: Counting co-occurrences within sites\n",
      "INFO: Counting co-occurrence within background\n",
      "INFO: Progress: 10%\n",
      "INFO: Progress: 20%\n",
      "INFO: Progress: 30%\n",
      "INFO: Progress: 40%\n",
      "INFO: Progress: 50%\n",
      "INFO: Progress: 60%\n",
      "INFO: Progress: 70%\n",
      "INFO: Progress: 80%\n",
      "INFO: Progress: 90%\n",
      "INFO: Finished!\n",
      "INFO: Done finding co-occurrences! Run .market_basket() to estimate significant pairs\n",
      "INFO: Market basket analysis is done! Results are found in <CombObj>.rules\n",
      "Finished market basket analyses for cell line: cluster10\n",
      "Found rules: 555800\n",
      "Saved: ./results/wp3/cluster10_complete.pkl\n"
     ]
    }
   ],
   "source": [
    "# TODO: Next find cluster name + and do the analyses for each cluser\n",
    "do_market_basket_analyses_for_cell_line(cell_line_name=\"cluster10\", condition=\"cluster10Scores\")"
   ]
  },
  {
   "cell_type": "code",
   "execution_count": null,
   "id": "92a42cc0",
   "metadata": {},
   "outputs": [],
   "source": []
  }
 ],
 "metadata": {
  "kernelspec": {
   "display_name": "tfcomb_env",
   "language": "python",
   "name": "tfcomb_env"
  },
  "language_info": {
   "codemirror_mode": {
    "name": "ipython",
    "version": 3
   },
   "file_extension": ".py",
   "mimetype": "text/x-python",
   "name": "python",
   "nbconvert_exporter": "python",
   "pygments_lexer": "ipython3",
   "version": "3.7.12"
  }
 },
 "nbformat": 4,
 "nbformat_minor": 5
}
