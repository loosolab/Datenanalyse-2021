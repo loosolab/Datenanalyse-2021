{
 "cells": [
  {
   "cell_type": "code",
   "execution_count": 1,
   "id": "c1f79ad3",
   "metadata": {},
   "outputs": [],
   "source": [
    "import tfcomb\n",
    "C = tfcomb.CombObj(verbosity=0)"
   ]
  },
  {
   "cell_type": "code",
   "execution_count": 2,
   "id": "861800d2",
   "metadata": {},
   "outputs": [],
   "source": [
    "C.TFBS_from_motifs(regions=\"/mnt/workspace_stud/stud4/WP6_data/right-lobe-of-liver.6.bed\", \n",
    "                   motifs=\"/mnt/workspace_stud/stud6/repositories/Datenanalyse-2021/wp6/testdaten/JASPAR2020_CORE_vertebrates.meme\",\n",
    "                   genome=\"/mnt/workspace_stud/stud6/repositories/Datenanalyse-2021/wp6/testdaten/homo_sapiens.104.mainChr.fa\", \n",
    "                   threads=8)\n"
   ]
  },
  {
   "cell_type": "markdown",
   "id": "2d049e2b",
   "metadata": {},
   "source": [
    "#### running count_within() with stranded option turned on"
   ]
  },
  {
   "cell_type": "code",
   "execution_count": 3,
   "id": "75134b34",
   "metadata": {},
   "outputs": [],
   "source": [
    "C.count_within(stranded=True, threads=8)\n",
    "C.market_basket()"
   ]
  },
  {
   "cell_type": "markdown",
   "id": "68702826",
   "metadata": {},
   "source": [
    "### Analyze preferential orientation of motifs\n",
    "\n",
    "##### First, we create a directionality analysis for the rules found:\n"
   ]
  },
  {
   "cell_type": "code",
   "execution_count": 4,
   "id": "6b507aab",
   "metadata": {},
   "outputs": [
    {
     "name": "stdout",
     "output_type": "stream",
     "text": [
      "INFO: Rules are symmetric - scenarios counted are: ['same', 'opposite']\n"
     ]
    }
   ],
   "source": [
    "df_orientation = C.analyze_orientation()"
   ]
  },
  {
   "cell_type": "code",
   "execution_count": 5,
   "id": "cabcc447",
   "metadata": {},
   "outputs": [
    {
     "data": {
      "text/html": [
       "<div>\n",
       "<style scoped>\n",
       "    .dataframe tbody tr th:only-of-type {\n",
       "        vertical-align: middle;\n",
       "    }\n",
       "\n",
       "    .dataframe tbody tr th {\n",
       "        vertical-align: top;\n",
       "    }\n",
       "\n",
       "    .dataframe thead th {\n",
       "        text-align: right;\n",
       "    }\n",
       "</style>\n",
       "<table border=\"1\" class=\"dataframe\">\n",
       "  <thead>\n",
       "    <tr style=\"text-align: right;\">\n",
       "      <th></th>\n",
       "      <th>TF1</th>\n",
       "      <th>TF2</th>\n",
       "      <th>TF1_TF2_count</th>\n",
       "      <th>same</th>\n",
       "      <th>opposite</th>\n",
       "      <th>std</th>\n",
       "      <th>pvalue</th>\n",
       "    </tr>\n",
       "  </thead>\n",
       "  <tbody>\n",
       "    <tr>\n",
       "      <th>KLF15-KLF5</th>\n",
       "      <td>KLF15</td>\n",
       "      <td>KLF5</td>\n",
       "      <td>1142</td>\n",
       "      <td>0.878284</td>\n",
       "      <td>0.121716</td>\n",
       "      <td>0.534974</td>\n",
       "      <td>3.548431e-144</td>\n",
       "    </tr>\n",
       "    <tr>\n",
       "      <th>KLF15-SP1</th>\n",
       "      <td>KLF15</td>\n",
       "      <td>SP1</td>\n",
       "      <td>659</td>\n",
       "      <td>0.892261</td>\n",
       "      <td>0.107739</td>\n",
       "      <td>0.554741</td>\n",
       "      <td>3.329418e-90</td>\n",
       "    </tr>\n",
       "    <tr>\n",
       "      <th>KLF5-SP3</th>\n",
       "      <td>KLF5</td>\n",
       "      <td>SP3</td>\n",
       "      <td>647</td>\n",
       "      <td>0.891808</td>\n",
       "      <td>0.108192</td>\n",
       "      <td>0.554101</td>\n",
       "      <td>2.138332e-88</td>\n",
       "    </tr>\n",
       "    <tr>\n",
       "      <th>KLF5-SP1</th>\n",
       "      <td>KLF5</td>\n",
       "      <td>SP1</td>\n",
       "      <td>596</td>\n",
       "      <td>0.906040</td>\n",
       "      <td>0.093960</td>\n",
       "      <td>0.574228</td>\n",
       "      <td>1.797019e-87</td>\n",
       "    </tr>\n",
       "    <tr>\n",
       "      <th>KLF15-SP3</th>\n",
       "      <td>KLF15</td>\n",
       "      <td>SP3</td>\n",
       "      <td>721</td>\n",
       "      <td>0.864078</td>\n",
       "      <td>0.135922</td>\n",
       "      <td>0.514884</td>\n",
       "      <td>3.964926e-85</td>\n",
       "    </tr>\n",
       "  </tbody>\n",
       "</table>\n",
       "</div>"
      ],
      "text/plain": [
       "              TF1   TF2  TF1_TF2_count      same  opposite       std  \\\n",
       "KLF15-KLF5  KLF15  KLF5           1142  0.878284  0.121716  0.534974   \n",
       "KLF15-SP1   KLF15   SP1            659  0.892261  0.107739  0.554741   \n",
       "KLF5-SP3     KLF5   SP3            647  0.891808  0.108192  0.554101   \n",
       "KLF5-SP1     KLF5   SP1            596  0.906040  0.093960  0.574228   \n",
       "KLF15-SP3   KLF15   SP3            721  0.864078  0.135922  0.514884   \n",
       "\n",
       "                   pvalue  \n",
       "KLF15-KLF5  3.548431e-144  \n",
       "KLF15-SP1    3.329418e-90  \n",
       "KLF5-SP3     2.138332e-88  \n",
       "KLF5-SP1     1.797019e-87  \n",
       "KLF15-SP3    3.964926e-85  "
      ]
     },
     "execution_count": 5,
     "metadata": {},
     "output_type": "execute_result"
    }
   ],
   "source": [
    "df_orientation.head()"
   ]
  },
  {
   "cell_type": "markdown",
   "id": "b1f750c5",
   "metadata": {},
   "source": [
    "We can subset these on pvalue and number of sites:"
   ]
  },
  {
   "cell_type": "code",
   "execution_count": 6,
   "id": "2bc5e5eb",
   "metadata": {},
   "outputs": [],
   "source": [
    "orientation_selected = df_orientation[(df_orientation[\"pvalue\"] < 0.01)\n",
    "              & (df_orientation[\"TF1_TF2_count\"] > 50)]"
   ]
  },
  {
   "cell_type": "code",
   "execution_count": 7,
   "id": "4c926305",
   "metadata": {},
   "outputs": [
    {
     "data": {
      "text/plain": [
       "276"
      ]
     },
     "execution_count": 7,
     "metadata": {},
     "output_type": "execute_result"
    }
   ],
   "source": [
    "#Number of TF pairs with significant differences in orientation\n",
    "orientation_selected.shape[0]"
   ]
  },
  {
   "cell_type": "markdown",
   "id": "33673d62",
   "metadata": {},
   "source": [
    "### Visualization of orientation preference"
   ]
  },
  {
   "cell_type": "code",
   "execution_count": 8,
   "id": "5140210b",
   "metadata": {},
   "outputs": [
    {
     "data": {
      "image/png": "[encoded data removed]",
      "text/plain": [
       "<Figure size 432x432 with 4 Axes>"
      ]
     },
     "metadata": {
      "needs_background": "light"
     },
     "output_type": "display_data"
    }
   ],
   "source": [
    "orientation_heatmap=orientation_selected.plot_heatmap()"
   ]
  },
  {
   "cell_type": "markdown",
   "id": "d36caa0c",
   "metadata": {},
   "source": [
    "We can select the subsets by investigating the selected pairs:"
   ]
  },
  {
   "cell_type": "code",
   "execution_count": 9,
   "id": "f41566d2",
   "metadata": {},
   "outputs": [],
   "source": [
    "#orientation_selected.sort_values(\"same\").tail(5)"
   ]
  },
  {
   "cell_type": "code",
   "execution_count": 10,
   "id": "fd41d981",
   "metadata": {},
   "outputs": [],
   "source": [
    "#orientation_selected.sort_values(\"opposite\").tail(5)"
   ]
  },
  {
   "cell_type": "markdown",
   "id": "f42d00cb",
   "metadata": {},
   "source": [
    "\n",
    "### Extended analysis with directional=True\n",
    "\n",
    "#### The first analysis presented does not take into account the relative order of TF1-TF2, e.g. if the orientation \"same\" represents \"TF1-TF2\" or\n"
   ]
  },
  {
   "cell_type": "code",
   "execution_count": 11,
   "id": "b89e1d0e",
   "metadata": {},
   "outputs": [],
   "source": [
    "C.count_within(directional=True, stranded=True, threads=8)\n",
    "C.market_basket()\n"
   ]
  },
  {
   "cell_type": "code",
   "execution_count": 12,
   "id": "d4dc97ea",
   "metadata": {},
   "outputs": [
    {
     "name": "stdout",
     "output_type": "stream",
     "text": [
      "INFO: Rules are directional - scenarios counted are: ['TF1-TF2', 'TF2-TF1', 'convergent', 'divergent']\n"
     ]
    }
   ],
   "source": [
    "df_orientation = C.analyze_orientation()"
   ]
  },
  {
   "cell_type": "code",
   "execution_count": 13,
   "id": "a623a9bd",
   "metadata": {},
   "outputs": [
    {
     "data": {
      "text/html": [
       "<div>\n",
       "<style scoped>\n",
       "    .dataframe tbody tr th:only-of-type {\n",
       "        vertical-align: middle;\n",
       "    }\n",
       "\n",
       "    .dataframe tbody tr th {\n",
       "        vertical-align: top;\n",
       "    }\n",
       "\n",
       "    .dataframe thead th {\n",
       "        text-align: right;\n",
       "    }\n",
       "</style>\n",
       "<table border=\"1\" class=\"dataframe\">\n",
       "  <thead>\n",
       "    <tr style=\"text-align: right;\">\n",
       "      <th></th>\n",
       "      <th>TF1</th>\n",
       "      <th>TF2</th>\n",
       "      <th>TF1_TF2_count</th>\n",
       "      <th>TF1-TF2</th>\n",
       "      <th>TF2-TF1</th>\n",
       "      <th>convergent</th>\n",
       "      <th>divergent</th>\n",
       "      <th>std</th>\n",
       "      <th>pvalue</th>\n",
       "    </tr>\n",
       "  </thead>\n",
       "  <tbody>\n",
       "    <tr>\n",
       "      <th>KLF15-KLF15</th>\n",
       "      <td>KLF15</td>\n",
       "      <td>KLF15</td>\n",
       "      <td>1355</td>\n",
       "      <td>0.459779</td>\n",
       "      <td>0.459779</td>\n",
       "      <td>0.028044</td>\n",
       "      <td>0.052399</td>\n",
       "      <td>0.242435</td>\n",
       "      <td>7.399097e-207</td>\n",
       "    </tr>\n",
       "    <tr>\n",
       "      <th>KLF5-KLF5</th>\n",
       "      <td>KLF5</td>\n",
       "      <td>KLF5</td>\n",
       "      <td>987</td>\n",
       "      <td>0.475177</td>\n",
       "      <td>0.475177</td>\n",
       "      <td>0.016211</td>\n",
       "      <td>0.033435</td>\n",
       "      <td>0.260107</td>\n",
       "      <td>2.242852e-173</td>\n",
       "    </tr>\n",
       "    <tr>\n",
       "      <th>KLF15-KLF5</th>\n",
       "      <td>KLF15</td>\n",
       "      <td>KLF5</td>\n",
       "      <td>1142</td>\n",
       "      <td>0.446585</td>\n",
       "      <td>0.431699</td>\n",
       "      <td>0.040280</td>\n",
       "      <td>0.081436</td>\n",
       "      <td>0.219132</td>\n",
       "      <td>2.619358e-142</td>\n",
       "    </tr>\n",
       "    <tr>\n",
       "      <th>SP1-SP1</th>\n",
       "      <td>SP1</td>\n",
       "      <td>SP1</td>\n",
       "      <td>494</td>\n",
       "      <td>0.483806</td>\n",
       "      <td>0.483806</td>\n",
       "      <td>0.008097</td>\n",
       "      <td>0.024291</td>\n",
       "      <td>0.270056</td>\n",
       "      <td>2.193574e-93</td>\n",
       "    </tr>\n",
       "    <tr>\n",
       "      <th>KLF15-SP1</th>\n",
       "      <td>KLF15</td>\n",
       "      <td>SP1</td>\n",
       "      <td>659</td>\n",
       "      <td>0.450683</td>\n",
       "      <td>0.441578</td>\n",
       "      <td>0.034901</td>\n",
       "      <td>0.072838</td>\n",
       "      <td>0.227031</td>\n",
       "      <td>4.989404e-88</td>\n",
       "    </tr>\n",
       "  </tbody>\n",
       "</table>\n",
       "</div>"
      ],
      "text/plain": [
       "               TF1    TF2  TF1_TF2_count   TF1-TF2   TF2-TF1  convergent  \\\n",
       "KLF15-KLF15  KLF15  KLF15           1355  0.459779  0.459779    0.028044   \n",
       "KLF5-KLF5     KLF5   KLF5            987  0.475177  0.475177    0.016211   \n",
       "KLF15-KLF5   KLF15   KLF5           1142  0.446585  0.431699    0.040280   \n",
       "SP1-SP1        SP1    SP1            494  0.483806  0.483806    0.008097   \n",
       "KLF15-SP1    KLF15    SP1            659  0.450683  0.441578    0.034901   \n",
       "\n",
       "             divergent       std         pvalue  \n",
       "KLF15-KLF15   0.052399  0.242435  7.399097e-207  \n",
       "KLF5-KLF5     0.033435  0.260107  2.242852e-173  \n",
       "KLF15-KLF5    0.081436  0.219132  2.619358e-142  \n",
       "SP1-SP1       0.024291  0.270056   2.193574e-93  \n",
       "KLF15-SP1     0.072838  0.227031   4.989404e-88  "
      ]
     },
     "execution_count": 13,
     "metadata": {},
     "output_type": "execute_result"
    }
   ],
   "source": [
    "df_orientation.head()"
   ]
  },
  {
   "cell_type": "markdown",
   "id": "1505ab24",
   "metadata": {},
   "source": [
    "similarly to the first analysis, we can select the significant pairs and visualize the preferences for orientation:"
   ]
  },
  {
   "cell_type": "code",
   "execution_count": 14,
   "id": "39d373cc",
   "metadata": {},
   "outputs": [],
   "source": [
    "orientation_selected = df_orientation[(df_orientation[\"pvalue\"] < 0.05)\n",
    "              & (df_orientation[\"TF1_TF2_count\"] > 50)]             "
   ]
  },
  {
   "cell_type": "code",
   "execution_count": 15,
   "id": "841f3f5e",
   "metadata": {},
   "outputs": [
    {
     "data": {
      "text/plain": [
       "292"
      ]
     },
     "execution_count": 15,
     "metadata": {},
     "output_type": "execute_result"
    }
   ],
   "source": [
    "orientation_selected.shape[0]"
   ]
  },
  {
   "cell_type": "code",
   "execution_count": 16,
   "id": "6d9b93f2",
   "metadata": {},
   "outputs": [
    {
     "data": {
      "image/png": "[encoded data removed]",
      "text/plain": [
       "<Figure size 432x432 with 4 Axes>"
      ]
     },
     "metadata": {
      "needs_background": "light"
     },
     "output_type": "display_data"
    }
   ],
   "source": [
    "orientation_heatmap = orientation_selected.plot_heatmap()"
   ]
  },
  {
   "cell_type": "markdown",
   "id": "86b9f2d4",
   "metadata": {},
   "source": [
    "\n",
    "### In-depth look at preferential orientation\n",
    "\n"
   ]
  },
  {
   "cell_type": "markdown",
   "id": "fcadde0a",
   "metadata": {},
   "source": [
    "By sorting the selected co-occurring TF pairs, it is also possible to visualize the top pairs within each scenario as seen below.\n"
   ]
  },
  {
   "cell_type": "markdown",
   "id": "dfbae30f",
   "metadata": {},
   "source": [
    "#### TFs specific in TF1-TF2 orientation"
   ]
  },
  {
   "cell_type": "code",
   "execution_count": 17,
   "id": "d22fd1aa",
   "metadata": {
    "scrolled": true
   },
   "outputs": [
    {
     "data": {
      "text/html": [
       "<div>\n",
       "<style scoped>\n",
       "    .dataframe tbody tr th:only-of-type {\n",
       "        vertical-align: middle;\n",
       "    }\n",
       "\n",
       "    .dataframe tbody tr th {\n",
       "        vertical-align: top;\n",
       "    }\n",
       "\n",
       "    .dataframe thead th {\n",
       "        text-align: right;\n",
       "    }\n",
       "</style>\n",
       "<table border=\"1\" class=\"dataframe\">\n",
       "  <thead>\n",
       "    <tr style=\"text-align: right;\">\n",
       "      <th></th>\n",
       "      <th>TF1</th>\n",
       "      <th>TF2</th>\n",
       "      <th>TF1_TF2_count</th>\n",
       "      <th>TF1-TF2</th>\n",
       "      <th>TF2-TF1</th>\n",
       "      <th>convergent</th>\n",
       "      <th>divergent</th>\n",
       "      <th>std</th>\n",
       "      <th>pvalue</th>\n",
       "    </tr>\n",
       "  </thead>\n",
       "  <tbody>\n",
       "    <tr>\n",
       "      <th>KLF13-SP1</th>\n",
       "      <td>KLF13</td>\n",
       "      <td>SP1</td>\n",
       "      <td>54</td>\n",
       "      <td>0.555556</td>\n",
       "      <td>0.388889</td>\n",
       "      <td>0.018519</td>\n",
       "      <td>0.037037</td>\n",
       "      <td>0.265576</td>\n",
       "      <td>6.556787e-10</td>\n",
       "    </tr>\n",
       "    <tr>\n",
       "      <th>KLF14-KLF3</th>\n",
       "      <td>KLF14</td>\n",
       "      <td>KLF3</td>\n",
       "      <td>56</td>\n",
       "      <td>0.553571</td>\n",
       "      <td>0.410714</td>\n",
       "      <td>0.000000</td>\n",
       "      <td>0.035714</td>\n",
       "      <td>0.274714</td>\n",
       "      <td>5.628097e-11</td>\n",
       "    </tr>\n",
       "    <tr>\n",
       "      <th>KLF10-KLF11</th>\n",
       "      <td>KLF10</td>\n",
       "      <td>KLF11</td>\n",
       "      <td>80</td>\n",
       "      <td>0.550000</td>\n",
       "      <td>0.375000</td>\n",
       "      <td>0.037500</td>\n",
       "      <td>0.037500</td>\n",
       "      <td>0.255563</td>\n",
       "      <td>1.556717e-13</td>\n",
       "    </tr>\n",
       "    <tr>\n",
       "      <th>KLF10-Klf12</th>\n",
       "      <td>KLF10</td>\n",
       "      <td>Klf12</td>\n",
       "      <td>54</td>\n",
       "      <td>0.537037</td>\n",
       "      <td>0.407407</td>\n",
       "      <td>0.018519</td>\n",
       "      <td>0.037037</td>\n",
       "      <td>0.262110</td>\n",
       "      <td>1.171070e-09</td>\n",
       "    </tr>\n",
       "    <tr>\n",
       "      <th>KLF10-KLF15</th>\n",
       "      <td>KLF10</td>\n",
       "      <td>KLF15</td>\n",
       "      <td>109</td>\n",
       "      <td>0.532110</td>\n",
       "      <td>0.302752</td>\n",
       "      <td>0.082569</td>\n",
       "      <td>0.082569</td>\n",
       "      <td>0.214814</td>\n",
       "      <td>4.929489e-13</td>\n",
       "    </tr>\n",
       "    <tr>\n",
       "      <th>KLF13-SP3</th>\n",
       "      <td>KLF13</td>\n",
       "      <td>SP3</td>\n",
       "      <td>51</td>\n",
       "      <td>0.529412</td>\n",
       "      <td>0.392157</td>\n",
       "      <td>0.039216</td>\n",
       "      <td>0.039216</td>\n",
       "      <td>0.249760</td>\n",
       "      <td>2.593475e-08</td>\n",
       "    </tr>\n",
       "    <tr>\n",
       "      <th>Klf12-SP2</th>\n",
       "      <td>Klf12</td>\n",
       "      <td>SP2</td>\n",
       "      <td>53</td>\n",
       "      <td>0.528302</td>\n",
       "      <td>0.415094</td>\n",
       "      <td>0.037736</td>\n",
       "      <td>0.018868</td>\n",
       "      <td>0.260247</td>\n",
       "      <td>2.371853e-09</td>\n",
       "    </tr>\n",
       "    <tr>\n",
       "      <th>KLF10-KLF16</th>\n",
       "      <td>KLF10</td>\n",
       "      <td>KLF16</td>\n",
       "      <td>99</td>\n",
       "      <td>0.525253</td>\n",
       "      <td>0.373737</td>\n",
       "      <td>0.040404</td>\n",
       "      <td>0.060606</td>\n",
       "      <td>0.238660</td>\n",
       "      <td>1.348277e-14</td>\n",
       "    </tr>\n",
       "    <tr>\n",
       "      <th>KLF14-Klf12</th>\n",
       "      <td>KLF14</td>\n",
       "      <td>Klf12</td>\n",
       "      <td>65</td>\n",
       "      <td>0.523077</td>\n",
       "      <td>0.430769</td>\n",
       "      <td>0.015385</td>\n",
       "      <td>0.030769</td>\n",
       "      <td>0.264799</td>\n",
       "      <td>7.986436e-12</td>\n",
       "    </tr>\n",
       "    <tr>\n",
       "      <th>KLF2-Klf12</th>\n",
       "      <td>KLF2</td>\n",
       "      <td>Klf12</td>\n",
       "      <td>66</td>\n",
       "      <td>0.515152</td>\n",
       "      <td>0.424242</td>\n",
       "      <td>0.015152</td>\n",
       "      <td>0.045455</td>\n",
       "      <td>0.256683</td>\n",
       "      <td>2.739413e-11</td>\n",
       "    </tr>\n",
       "  </tbody>\n",
       "</table>\n",
       "</div>"
      ],
      "text/plain": [
       "               TF1    TF2  TF1_TF2_count   TF1-TF2   TF2-TF1  convergent  \\\n",
       "KLF13-SP1    KLF13    SP1             54  0.555556  0.388889    0.018519   \n",
       "KLF14-KLF3   KLF14   KLF3             56  0.553571  0.410714    0.000000   \n",
       "KLF10-KLF11  KLF10  KLF11             80  0.550000  0.375000    0.037500   \n",
       "KLF10-Klf12  KLF10  Klf12             54  0.537037  0.407407    0.018519   \n",
       "KLF10-KLF15  KLF10  KLF15            109  0.532110  0.302752    0.082569   \n",
       "KLF13-SP3    KLF13    SP3             51  0.529412  0.392157    0.039216   \n",
       "Klf12-SP2    Klf12    SP2             53  0.528302  0.415094    0.037736   \n",
       "KLF10-KLF16  KLF10  KLF16             99  0.525253  0.373737    0.040404   \n",
       "KLF14-Klf12  KLF14  Klf12             65  0.523077  0.430769    0.015385   \n",
       "KLF2-Klf12    KLF2  Klf12             66  0.515152  0.424242    0.015152   \n",
       "\n",
       "             divergent       std        pvalue  \n",
       "KLF13-SP1     0.037037  0.265576  6.556787e-10  \n",
       "KLF14-KLF3    0.035714  0.274714  5.628097e-11  \n",
       "KLF10-KLF11   0.037500  0.255563  1.556717e-13  \n",
       "KLF10-Klf12   0.037037  0.262110  1.171070e-09  \n",
       "KLF10-KLF15   0.082569  0.214814  4.929489e-13  \n",
       "KLF13-SP3     0.039216  0.249760  2.593475e-08  \n",
       "Klf12-SP2     0.018868  0.260247  2.371853e-09  \n",
       "KLF10-KLF16   0.060606  0.238660  1.348277e-14  \n",
       "KLF14-Klf12   0.030769  0.264799  7.986436e-12  \n",
       "KLF2-Klf12    0.045455  0.256683  2.739413e-11  "
      ]
     },
     "execution_count": 17,
     "metadata": {},
     "output_type": "execute_result"
    }
   ],
   "source": [
    "orientation_selected.sort_values(\"TF1-TF2\", ascending=False).head(10)"
   ]
  },
  {
   "cell_type": "markdown",
   "id": "d2c9d8e2",
   "metadata": {},
   "source": [
    "#### TFs specific in TF2-TF1 orientation"
   ]
  },
  {
   "cell_type": "code",
   "execution_count": 18,
   "id": "23b5abb4",
   "metadata": {
    "scrolled": true
   },
   "outputs": [
    {
     "data": {
      "text/html": [
       "<div>\n",
       "<style scoped>\n",
       "    .dataframe tbody tr th:only-of-type {\n",
       "        vertical-align: middle;\n",
       "    }\n",
       "\n",
       "    .dataframe tbody tr th {\n",
       "        vertical-align: top;\n",
       "    }\n",
       "\n",
       "    .dataframe thead th {\n",
       "        text-align: right;\n",
       "    }\n",
       "</style>\n",
       "<table border=\"1\" class=\"dataframe\">\n",
       "  <thead>\n",
       "    <tr style=\"text-align: right;\">\n",
       "      <th></th>\n",
       "      <th>TF1</th>\n",
       "      <th>TF2</th>\n",
       "      <th>TF1_TF2_count</th>\n",
       "      <th>TF1-TF2</th>\n",
       "      <th>TF2-TF1</th>\n",
       "      <th>convergent</th>\n",
       "      <th>divergent</th>\n",
       "      <th>std</th>\n",
       "      <th>pvalue</th>\n",
       "    </tr>\n",
       "  </thead>\n",
       "  <tbody>\n",
       "    <tr>\n",
       "      <th>KLF2-SP8</th>\n",
       "      <td>KLF2</td>\n",
       "      <td>SP8</td>\n",
       "      <td>89</td>\n",
       "      <td>0.359551</td>\n",
       "      <td>0.561798</td>\n",
       "      <td>0.056180</td>\n",
       "      <td>0.022472</td>\n",
       "      <td>0.257264</td>\n",
       "      <td>3.044286e-15</td>\n",
       "    </tr>\n",
       "    <tr>\n",
       "      <th>KLF11-KLF3</th>\n",
       "      <td>KLF11</td>\n",
       "      <td>KLF3</td>\n",
       "      <td>68</td>\n",
       "      <td>0.382353</td>\n",
       "      <td>0.529412</td>\n",
       "      <td>0.029412</td>\n",
       "      <td>0.058824</td>\n",
       "      <td>0.245490</td>\n",
       "      <td>1.196356e-10</td>\n",
       "    </tr>\n",
       "    <tr>\n",
       "      <th>SP2-SP8</th>\n",
       "      <td>SP2</td>\n",
       "      <td>SP8</td>\n",
       "      <td>161</td>\n",
       "      <td>0.391304</td>\n",
       "      <td>0.527950</td>\n",
       "      <td>0.031056</td>\n",
       "      <td>0.049689</td>\n",
       "      <td>0.248518</td>\n",
       "      <td>1.079545e-25</td>\n",
       "    </tr>\n",
       "    <tr>\n",
       "      <th>KLF11-KLF4</th>\n",
       "      <td>KLF11</td>\n",
       "      <td>KLF4</td>\n",
       "      <td>52</td>\n",
       "      <td>0.346154</td>\n",
       "      <td>0.519231</td>\n",
       "      <td>0.076923</td>\n",
       "      <td>0.057692</td>\n",
       "      <td>0.222612</td>\n",
       "      <td>8.823472e-07</td>\n",
       "    </tr>\n",
       "    <tr>\n",
       "      <th>KLF9-SP8</th>\n",
       "      <td>KLF9</td>\n",
       "      <td>SP8</td>\n",
       "      <td>70</td>\n",
       "      <td>0.371429</td>\n",
       "      <td>0.514286</td>\n",
       "      <td>0.057143</td>\n",
       "      <td>0.057143</td>\n",
       "      <td>0.230203</td>\n",
       "      <td>1.173498e-09</td>\n",
       "    </tr>\n",
       "    <tr>\n",
       "      <th>KLF11-KLF6</th>\n",
       "      <td>KLF11</td>\n",
       "      <td>KLF6</td>\n",
       "      <td>82</td>\n",
       "      <td>0.402439</td>\n",
       "      <td>0.512195</td>\n",
       "      <td>0.036585</td>\n",
       "      <td>0.048780</td>\n",
       "      <td>0.243597</td>\n",
       "      <td>1.297434e-12</td>\n",
       "    </tr>\n",
       "    <tr>\n",
       "      <th>KLF11-SP8</th>\n",
       "      <td>KLF11</td>\n",
       "      <td>SP8</td>\n",
       "      <td>184</td>\n",
       "      <td>0.402174</td>\n",
       "      <td>0.510870</td>\n",
       "      <td>0.048913</td>\n",
       "      <td>0.038043</td>\n",
       "      <td>0.242605</td>\n",
       "      <td>5.526409e-28</td>\n",
       "    </tr>\n",
       "    <tr>\n",
       "      <th>KLF10-SP8</th>\n",
       "      <td>KLF10</td>\n",
       "      <td>SP8</td>\n",
       "      <td>51</td>\n",
       "      <td>0.411765</td>\n",
       "      <td>0.509804</td>\n",
       "      <td>0.039216</td>\n",
       "      <td>0.039216</td>\n",
       "      <td>0.246662</td>\n",
       "      <td>4.103008e-08</td>\n",
       "    </tr>\n",
       "    <tr>\n",
       "      <th>SP2-SP4</th>\n",
       "      <td>SP2</td>\n",
       "      <td>SP4</td>\n",
       "      <td>253</td>\n",
       "      <td>0.422925</td>\n",
       "      <td>0.505929</td>\n",
       "      <td>0.035573</td>\n",
       "      <td>0.035573</td>\n",
       "      <td>0.249907</td>\n",
       "      <td>7.415436e-41</td>\n",
       "    </tr>\n",
       "    <tr>\n",
       "      <th>KLF15-ZNF740</th>\n",
       "      <td>KLF15</td>\n",
       "      <td>ZNF740</td>\n",
       "      <td>62</td>\n",
       "      <td>0.403226</td>\n",
       "      <td>0.500000</td>\n",
       "      <td>0.048387</td>\n",
       "      <td>0.048387</td>\n",
       "      <td>0.236131</td>\n",
       "      <td>5.162807e-09</td>\n",
       "    </tr>\n",
       "  </tbody>\n",
       "</table>\n",
       "</div>"
      ],
      "text/plain": [
       "                TF1     TF2  TF1_TF2_count   TF1-TF2   TF2-TF1  convergent  \\\n",
       "KLF2-SP8       KLF2     SP8             89  0.359551  0.561798    0.056180   \n",
       "KLF11-KLF3    KLF11    KLF3             68  0.382353  0.529412    0.029412   \n",
       "SP2-SP8         SP2     SP8            161  0.391304  0.527950    0.031056   \n",
       "KLF11-KLF4    KLF11    KLF4             52  0.346154  0.519231    0.076923   \n",
       "KLF9-SP8       KLF9     SP8             70  0.371429  0.514286    0.057143   \n",
       "KLF11-KLF6    KLF11    KLF6             82  0.402439  0.512195    0.036585   \n",
       "KLF11-SP8     KLF11     SP8            184  0.402174  0.510870    0.048913   \n",
       "KLF10-SP8     KLF10     SP8             51  0.411765  0.509804    0.039216   \n",
       "SP2-SP4         SP2     SP4            253  0.422925  0.505929    0.035573   \n",
       "KLF15-ZNF740  KLF15  ZNF740             62  0.403226  0.500000    0.048387   \n",
       "\n",
       "              divergent       std        pvalue  \n",
       "KLF2-SP8       0.022472  0.257264  3.044286e-15  \n",
       "KLF11-KLF3     0.058824  0.245490  1.196356e-10  \n",
       "SP2-SP8        0.049689  0.248518  1.079545e-25  \n",
       "KLF11-KLF4     0.057692  0.222612  8.823472e-07  \n",
       "KLF9-SP8       0.057143  0.230203  1.173498e-09  \n",
       "KLF11-KLF6     0.048780  0.243597  1.297434e-12  \n",
       "KLF11-SP8      0.038043  0.242605  5.526409e-28  \n",
       "KLF10-SP8      0.039216  0.246662  4.103008e-08  \n",
       "SP2-SP4        0.035573  0.249907  7.415436e-41  \n",
       "KLF15-ZNF740   0.048387  0.236131  5.162807e-09  "
      ]
     },
     "execution_count": 18,
     "metadata": {},
     "output_type": "execute_result"
    }
   ],
   "source": [
    "orientation_selected.sort_values(\"TF2-TF1\", ascending=False).head(10)"
   ]
  },
  {
   "cell_type": "markdown",
   "id": "9171fdb2",
   "metadata": {},
   "source": [
    "\n",
    "#### TFs specific in convergent orientation"
   ]
  },
  {
   "cell_type": "code",
   "execution_count": 19,
   "id": "c8a79ae5",
   "metadata": {
    "scrolled": true
   },
   "outputs": [
    {
     "data": {
      "text/html": [
       "<div>\n",
       "<style scoped>\n",
       "    .dataframe tbody tr th:only-of-type {\n",
       "        vertical-align: middle;\n",
       "    }\n",
       "\n",
       "    .dataframe tbody tr th {\n",
       "        vertical-align: top;\n",
       "    }\n",
       "\n",
       "    .dataframe thead th {\n",
       "        text-align: right;\n",
       "    }\n",
       "</style>\n",
       "<table border=\"1\" class=\"dataframe\">\n",
       "  <thead>\n",
       "    <tr style=\"text-align: right;\">\n",
       "      <th></th>\n",
       "      <th>TF1</th>\n",
       "      <th>TF2</th>\n",
       "      <th>TF1_TF2_count</th>\n",
       "      <th>TF1-TF2</th>\n",
       "      <th>TF2-TF1</th>\n",
       "      <th>convergent</th>\n",
       "      <th>divergent</th>\n",
       "      <th>std</th>\n",
       "      <th>pvalue</th>\n",
       "    </tr>\n",
       "  </thead>\n",
       "  <tbody>\n",
       "    <tr>\n",
       "      <th>KLF14-Zfx</th>\n",
       "      <td>KLF14</td>\n",
       "      <td>Zfx</td>\n",
       "      <td>66</td>\n",
       "      <td>0.060606</td>\n",
       "      <td>0.106061</td>\n",
       "      <td>0.469697</td>\n",
       "      <td>0.363636</td>\n",
       "      <td>0.198132</td>\n",
       "      <td>8.133945e-07</td>\n",
       "    </tr>\n",
       "    <tr>\n",
       "      <th>SP2-Zfx</th>\n",
       "      <td>SP2</td>\n",
       "      <td>Zfx</td>\n",
       "      <td>90</td>\n",
       "      <td>0.044444</td>\n",
       "      <td>0.088889</td>\n",
       "      <td>0.466667</td>\n",
       "      <td>0.400000</td>\n",
       "      <td>0.214207</td>\n",
       "      <td>9.934518e-11</td>\n",
       "    </tr>\n",
       "    <tr>\n",
       "      <th>SP4-Zfx</th>\n",
       "      <td>SP4</td>\n",
       "      <td>Zfx</td>\n",
       "      <td>141</td>\n",
       "      <td>0.049645</td>\n",
       "      <td>0.085106</td>\n",
       "      <td>0.460993</td>\n",
       "      <td>0.404255</td>\n",
       "      <td>0.212638</td>\n",
       "      <td>1.725108e-16</td>\n",
       "    </tr>\n",
       "    <tr>\n",
       "      <th>SP9-ZNF263</th>\n",
       "      <td>SP9</td>\n",
       "      <td>ZNF263</td>\n",
       "      <td>52</td>\n",
       "      <td>0.076923</td>\n",
       "      <td>0.134615</td>\n",
       "      <td>0.442308</td>\n",
       "      <td>0.346154</td>\n",
       "      <td>0.172720</td>\n",
       "      <td>3.283102e-04</td>\n",
       "    </tr>\n",
       "    <tr>\n",
       "      <th>ZNF148-ZNF263</th>\n",
       "      <td>ZNF148</td>\n",
       "      <td>ZNF263</td>\n",
       "      <td>104</td>\n",
       "      <td>0.115385</td>\n",
       "      <td>0.086538</td>\n",
       "      <td>0.442308</td>\n",
       "      <td>0.355769</td>\n",
       "      <td>0.176078</td>\n",
       "      <td>2.016707e-08</td>\n",
       "    </tr>\n",
       "    <tr>\n",
       "      <th>KLF15-PLAG1</th>\n",
       "      <td>KLF15</td>\n",
       "      <td>PLAG1</td>\n",
       "      <td>62</td>\n",
       "      <td>0.080645</td>\n",
       "      <td>0.096774</td>\n",
       "      <td>0.435484</td>\n",
       "      <td>0.387097</td>\n",
       "      <td>0.187402</td>\n",
       "      <td>8.962146e-06</td>\n",
       "    </tr>\n",
       "    <tr>\n",
       "      <th>KLF15-TFDP1</th>\n",
       "      <td>KLF15</td>\n",
       "      <td>TFDP1</td>\n",
       "      <td>63</td>\n",
       "      <td>0.142857</td>\n",
       "      <td>0.095238</td>\n",
       "      <td>0.428571</td>\n",
       "      <td>0.333333</td>\n",
       "      <td>0.157335</td>\n",
       "      <td>3.132217e-04</td>\n",
       "    </tr>\n",
       "    <tr>\n",
       "      <th>SP3-Zfx</th>\n",
       "      <td>SP3</td>\n",
       "      <td>Zfx</td>\n",
       "      <td>146</td>\n",
       "      <td>0.075342</td>\n",
       "      <td>0.089041</td>\n",
       "      <td>0.424658</td>\n",
       "      <td>0.410959</td>\n",
       "      <td>0.193930</td>\n",
       "      <td>3.235024e-14</td>\n",
       "    </tr>\n",
       "    <tr>\n",
       "      <th>SP8-Zfx</th>\n",
       "      <td>SP8</td>\n",
       "      <td>Zfx</td>\n",
       "      <td>69</td>\n",
       "      <td>0.115942</td>\n",
       "      <td>0.101449</td>\n",
       "      <td>0.420290</td>\n",
       "      <td>0.362319</td>\n",
       "      <td>0.164978</td>\n",
       "      <td>5.044599e-05</td>\n",
       "    </tr>\n",
       "    <tr>\n",
       "      <th>CTCFL-SP4</th>\n",
       "      <td>CTCFL</td>\n",
       "      <td>SP4</td>\n",
       "      <td>72</td>\n",
       "      <td>0.097222</td>\n",
       "      <td>0.083333</td>\n",
       "      <td>0.416667</td>\n",
       "      <td>0.402778</td>\n",
       "      <td>0.184606</td>\n",
       "      <td>1.806028e-06</td>\n",
       "    </tr>\n",
       "  </tbody>\n",
       "</table>\n",
       "</div>"
      ],
      "text/plain": [
       "                  TF1     TF2  TF1_TF2_count   TF1-TF2   TF2-TF1  convergent  \\\n",
       "KLF14-Zfx       KLF14     Zfx             66  0.060606  0.106061    0.469697   \n",
       "SP2-Zfx           SP2     Zfx             90  0.044444  0.088889    0.466667   \n",
       "SP4-Zfx           SP4     Zfx            141  0.049645  0.085106    0.460993   \n",
       "SP9-ZNF263        SP9  ZNF263             52  0.076923  0.134615    0.442308   \n",
       "ZNF148-ZNF263  ZNF148  ZNF263            104  0.115385  0.086538    0.442308   \n",
       "KLF15-PLAG1     KLF15   PLAG1             62  0.080645  0.096774    0.435484   \n",
       "KLF15-TFDP1     KLF15   TFDP1             63  0.142857  0.095238    0.428571   \n",
       "SP3-Zfx           SP3     Zfx            146  0.075342  0.089041    0.424658   \n",
       "SP8-Zfx           SP8     Zfx             69  0.115942  0.101449    0.420290   \n",
       "CTCFL-SP4       CTCFL     SP4             72  0.097222  0.083333    0.416667   \n",
       "\n",
       "               divergent       std        pvalue  \n",
       "KLF14-Zfx       0.363636  0.198132  8.133945e-07  \n",
       "SP2-Zfx         0.400000  0.214207  9.934518e-11  \n",
       "SP4-Zfx         0.404255  0.212638  1.725108e-16  \n",
       "SP9-ZNF263      0.346154  0.172720  3.283102e-04  \n",
       "ZNF148-ZNF263   0.355769  0.176078  2.016707e-08  \n",
       "KLF15-PLAG1     0.387097  0.187402  8.962146e-06  \n",
       "KLF15-TFDP1     0.333333  0.157335  3.132217e-04  \n",
       "SP3-Zfx         0.410959  0.193930  3.235024e-14  \n",
       "SP8-Zfx         0.362319  0.164978  5.044599e-05  \n",
       "CTCFL-SP4       0.402778  0.184606  1.806028e-06  "
      ]
     },
     "execution_count": 19,
     "metadata": {},
     "output_type": "execute_result"
    }
   ],
   "source": [
    "orientation_selected.sort_values(\"convergent\", ascending=False).head(10)"
   ]
  },
  {
   "cell_type": "markdown",
   "id": "be470390",
   "metadata": {},
   "source": [
    "#### TFs specific in divergent orientation"
   ]
  },
  {
   "cell_type": "code",
   "execution_count": 20,
   "id": "6d33f008",
   "metadata": {},
   "outputs": [
    {
     "data": {
      "text/html": [
       "<div>\n",
       "<style scoped>\n",
       "    .dataframe tbody tr th:only-of-type {\n",
       "        vertical-align: middle;\n",
       "    }\n",
       "\n",
       "    .dataframe tbody tr th {\n",
       "        vertical-align: top;\n",
       "    }\n",
       "\n",
       "    .dataframe thead th {\n",
       "        text-align: right;\n",
       "    }\n",
       "</style>\n",
       "<table border=\"1\" class=\"dataframe\">\n",
       "  <thead>\n",
       "    <tr style=\"text-align: right;\">\n",
       "      <th></th>\n",
       "      <th>TF1</th>\n",
       "      <th>TF2</th>\n",
       "      <th>TF1_TF2_count</th>\n",
       "      <th>TF1-TF2</th>\n",
       "      <th>TF2-TF1</th>\n",
       "      <th>convergent</th>\n",
       "      <th>divergent</th>\n",
       "      <th>std</th>\n",
       "      <th>pvalue</th>\n",
       "    </tr>\n",
       "  </thead>\n",
       "  <tbody>\n",
       "    <tr>\n",
       "      <th>EWSR1-FLI1-ZNF148</th>\n",
       "      <td>EWSR1-FLI1</td>\n",
       "      <td>ZNF148</td>\n",
       "      <td>55</td>\n",
       "      <td>0.072727</td>\n",
       "      <td>0.072727</td>\n",
       "      <td>0.345455</td>\n",
       "      <td>0.509091</td>\n",
       "      <td>0.215322</td>\n",
       "      <td>1.031929e-06</td>\n",
       "    </tr>\n",
       "    <tr>\n",
       "      <th>KLF15-TFAP2Cvar.2</th>\n",
       "      <td>KLF15</td>\n",
       "      <td>TFAP2Cvar.2</td>\n",
       "      <td>55</td>\n",
       "      <td>0.127273</td>\n",
       "      <td>0.127273</td>\n",
       "      <td>0.254545</td>\n",
       "      <td>0.490909</td>\n",
       "      <td>0.171447</td>\n",
       "      <td>2.259703e-04</td>\n",
       "    </tr>\n",
       "    <tr>\n",
       "      <th>CTCFL-KLF11</th>\n",
       "      <td>CTCFL</td>\n",
       "      <td>KLF11</td>\n",
       "      <td>51</td>\n",
       "      <td>0.098039</td>\n",
       "      <td>0.058824</td>\n",
       "      <td>0.352941</td>\n",
       "      <td>0.490196</td>\n",
       "      <td>0.206504</td>\n",
       "      <td>9.097082e-06</td>\n",
       "    </tr>\n",
       "    <tr>\n",
       "      <th>CTCFL-SP3</th>\n",
       "      <td>CTCFL</td>\n",
       "      <td>SP3</td>\n",
       "      <td>74</td>\n",
       "      <td>0.081081</td>\n",
       "      <td>0.108108</td>\n",
       "      <td>0.324324</td>\n",
       "      <td>0.486486</td>\n",
       "      <td>0.191587</td>\n",
       "      <td>3.921439e-07</td>\n",
       "    </tr>\n",
       "    <tr>\n",
       "      <th>SP1-Zfx</th>\n",
       "      <td>SP1</td>\n",
       "      <td>Zfx</td>\n",
       "      <td>155</td>\n",
       "      <td>0.051613</td>\n",
       "      <td>0.083871</td>\n",
       "      <td>0.393548</td>\n",
       "      <td>0.470968</td>\n",
       "      <td>0.213221</td>\n",
       "      <td>3.223463e-18</td>\n",
       "    </tr>\n",
       "    <tr>\n",
       "      <th>SP1-ZNF263</th>\n",
       "      <td>SP1</td>\n",
       "      <td>ZNF263</td>\n",
       "      <td>54</td>\n",
       "      <td>0.074074</td>\n",
       "      <td>0.092593</td>\n",
       "      <td>0.370370</td>\n",
       "      <td>0.462963</td>\n",
       "      <td>0.196273</td>\n",
       "      <td>1.571828e-05</td>\n",
       "    </tr>\n",
       "    <tr>\n",
       "      <th>CTCFL-SP8</th>\n",
       "      <td>CTCFL</td>\n",
       "      <td>SP8</td>\n",
       "      <td>52</td>\n",
       "      <td>0.076923</td>\n",
       "      <td>0.076923</td>\n",
       "      <td>0.384615</td>\n",
       "      <td>0.461538</td>\n",
       "      <td>0.202304</td>\n",
       "      <td>1.191336e-05</td>\n",
       "    </tr>\n",
       "    <tr>\n",
       "      <th>CTCFL-KLF16</th>\n",
       "      <td>CTCFL</td>\n",
       "      <td>KLF16</td>\n",
       "      <td>78</td>\n",
       "      <td>0.128205</td>\n",
       "      <td>0.076923</td>\n",
       "      <td>0.346154</td>\n",
       "      <td>0.448718</td>\n",
       "      <td>0.176563</td>\n",
       "      <td>2.053138e-06</td>\n",
       "    </tr>\n",
       "    <tr>\n",
       "      <th>KLF16-Zfx</th>\n",
       "      <td>KLF16</td>\n",
       "      <td>Zfx</td>\n",
       "      <td>137</td>\n",
       "      <td>0.072993</td>\n",
       "      <td>0.094891</td>\n",
       "      <td>0.386861</td>\n",
       "      <td>0.445255</td>\n",
       "      <td>0.193431</td>\n",
       "      <td>2.794983e-13</td>\n",
       "    </tr>\n",
       "    <tr>\n",
       "      <th>SP9-Zfx</th>\n",
       "      <td>SP9</td>\n",
       "      <td>Zfx</td>\n",
       "      <td>135</td>\n",
       "      <td>0.081481</td>\n",
       "      <td>0.096296</td>\n",
       "      <td>0.377778</td>\n",
       "      <td>0.444444</td>\n",
       "      <td>0.188113</td>\n",
       "      <td>2.189454e-12</td>\n",
       "    </tr>\n",
       "  </tbody>\n",
       "</table>\n",
       "</div>"
      ],
      "text/plain": [
       "                          TF1          TF2  TF1_TF2_count   TF1-TF2   TF2-TF1  \\\n",
       "EWSR1-FLI1-ZNF148  EWSR1-FLI1       ZNF148             55  0.072727  0.072727   \n",
       "KLF15-TFAP2Cvar.2       KLF15  TFAP2Cvar.2             55  0.127273  0.127273   \n",
       "CTCFL-KLF11             CTCFL        KLF11             51  0.098039  0.058824   \n",
       "CTCFL-SP3               CTCFL          SP3             74  0.081081  0.108108   \n",
       "SP1-Zfx                   SP1          Zfx            155  0.051613  0.083871   \n",
       "SP1-ZNF263                SP1       ZNF263             54  0.074074  0.092593   \n",
       "CTCFL-SP8               CTCFL          SP8             52  0.076923  0.076923   \n",
       "CTCFL-KLF16             CTCFL        KLF16             78  0.128205  0.076923   \n",
       "KLF16-Zfx               KLF16          Zfx            137  0.072993  0.094891   \n",
       "SP9-Zfx                   SP9          Zfx            135  0.081481  0.096296   \n",
       "\n",
       "                   convergent  divergent       std        pvalue  \n",
       "EWSR1-FLI1-ZNF148    0.345455   0.509091  0.215322  1.031929e-06  \n",
       "KLF15-TFAP2Cvar.2    0.254545   0.490909  0.171447  2.259703e-04  \n",
       "CTCFL-KLF11          0.352941   0.490196  0.206504  9.097082e-06  \n",
       "CTCFL-SP3            0.324324   0.486486  0.191587  3.921439e-07  \n",
       "SP1-Zfx              0.393548   0.470968  0.213221  3.223463e-18  \n",
       "SP1-ZNF263           0.370370   0.462963  0.196273  1.571828e-05  \n",
       "CTCFL-SP8            0.384615   0.461538  0.202304  1.191336e-05  \n",
       "CTCFL-KLF16          0.346154   0.448718  0.176563  2.053138e-06  \n",
       "KLF16-Zfx            0.386861   0.445255  0.193431  2.794983e-13  \n",
       "SP9-Zfx              0.377778   0.444444  0.188113  2.189454e-12  "
      ]
     },
     "execution_count": 20,
     "metadata": {},
     "output_type": "execute_result"
    }
   ],
   "source": [
    "orientation_selected.sort_values(\"divergent\", ascending=False).head(10)"
   ]
  },
  {
   "cell_type": "code",
   "execution_count": null,
   "id": "157b1e10",
   "metadata": {},
   "outputs": [],
   "source": []
  },
  {
   "cell_type": "markdown",
   "id": "fcc532a2",
   "metadata": {},
   "source": [
    " #### .loc-operator to show the results of a subset of TF1-TF2-pairs:"
   ]
  },
  {
   "cell_type": "code",
   "execution_count": 21,
   "id": "48c73b20",
   "metadata": {},
   "outputs": [],
   "source": [
    "#df_orientation.loc[[\"EGR1-MYOD1\",\"SP1-SP1\",\"WT1-ZFP82\"]]"
   ]
  },
  {
   "cell_type": "code",
   "execution_count": 22,
   "id": "8be2ef77",
   "metadata": {},
   "outputs": [
    {
     "data": {
      "text/plain": [
       "292"
      ]
     },
     "execution_count": 22,
     "metadata": {},
     "output_type": "execute_result"
    }
   ],
   "source": [
    "TF_pairs =list(orientation_selected[[\"TF1\",\"TF2\"]].itertuples(index=False, name=None)) \n",
    "len(TF_pairs)\n"
   ]
  },
  {
   "cell_type": "code",
   "execution_count": 23,
   "id": "b72ca0ec",
   "metadata": {},
   "outputs": [],
   "source": [
    "#selection=cobj.select_custom_rules(names)\n",
    "#selection=df.select_custom_rules(names)\n",
    "#selection=C.select_custom_rules(names)\n",
    "#selection=selected.select_custom_rules(names)"
   ]
  },
  {
   "cell_type": "code",
   "execution_count": null,
   "id": "68acfebb",
   "metadata": {},
   "outputs": [],
   "source": []
  },
  {
   "cell_type": "code",
   "execution_count": 24,
   "id": "e14ed08b",
   "metadata": {},
   "outputs": [],
   "source": [
    "from tfcomb import CombObj\n",
    "genome_path=\"/mnt/workspace_stud/stud6/repositories/Datenanalyse-2021/wp6/testdaten/homo_sapiens.104.mainChr.fa\"\n",
    "motif_path=\"/mnt/workspace_stud/stud6/repositories/Datenanalyse-2021/wp6/testdaten/JASPAR2020_CORE_vertebrates.meme\"\n",
    "result_path=\"/mnt/workspace_stud/stud6/repositories/Datenanalyse-2021/wp6/analyse/results/wp2/main/\""
   ]
  },
  {
   "cell_type": "code",
   "execution_count": 41,
   "id": "7c2cfc29",
   "metadata": {},
   "outputs": [],
   "source": [
    "Liver_object = CombObj().from_pickle(f\"{result_path}right-lobe-of-liver.11.pkl\")"
   ]
  },
  {
   "cell_type": "code",
   "execution_count": 42,
   "id": "c3d12c00",
   "metadata": {},
   "outputs": [],
   "source": [
    "TF_pairs_of_orientation_for_distance=Liver_object.select_custom_rules(TF_pairs)"
   ]
  },
  {
   "cell_type": "code",
   "execution_count": 43,
   "id": "ec2c7abc",
   "metadata": {
    "scrolled": true
   },
   "outputs": [
    {
     "data": {
      "text/html": [
       "<div>\n",
       "<style scoped>\n",
       "    .dataframe tbody tr th:only-of-type {\n",
       "        vertical-align: middle;\n",
       "    }\n",
       "\n",
       "    .dataframe tbody tr th {\n",
       "        vertical-align: top;\n",
       "    }\n",
       "\n",
       "    .dataframe thead th {\n",
       "        text-align: right;\n",
       "    }\n",
       "</style>\n",
       "<table border=\"1\" class=\"dataframe\">\n",
       "  <thead>\n",
       "    <tr style=\"text-align: right;\">\n",
       "      <th></th>\n",
       "      <th>TF1</th>\n",
       "      <th>TF2</th>\n",
       "      <th>TF1_TF2_count</th>\n",
       "      <th>TF1_count</th>\n",
       "      <th>TF2_count</th>\n",
       "      <th>cosine</th>\n",
       "      <th>zscore</th>\n",
       "    </tr>\n",
       "  </thead>\n",
       "  <tbody>\n",
       "    <tr>\n",
       "      <th>0</th>\n",
       "      <td>KLF15</td>\n",
       "      <td>KLF15</td>\n",
       "      <td>3274</td>\n",
       "      <td>7250</td>\n",
       "      <td>7250</td>\n",
       "      <td>0.451586</td>\n",
       "      <td>90.828663</td>\n",
       "    </tr>\n",
       "    <tr>\n",
       "      <th>1</th>\n",
       "      <td>KLF5</td>\n",
       "      <td>KLF5</td>\n",
       "      <td>2360</td>\n",
       "      <td>5497</td>\n",
       "      <td>5497</td>\n",
       "      <td>0.429325</td>\n",
       "      <td>124.788372</td>\n",
       "    </tr>\n",
       "    <tr>\n",
       "      <th>2</th>\n",
       "      <td>KLF15</td>\n",
       "      <td>KLF5</td>\n",
       "      <td>4983</td>\n",
       "      <td>7250</td>\n",
       "      <td>5497</td>\n",
       "      <td>0.789331</td>\n",
       "      <td>126.958045</td>\n",
       "    </tr>\n",
       "    <tr>\n",
       "      <th>3</th>\n",
       "      <td>SP1</td>\n",
       "      <td>SP1</td>\n",
       "      <td>1154</td>\n",
       "      <td>3106</td>\n",
       "      <td>3106</td>\n",
       "      <td>0.371539</td>\n",
       "      <td>110.448701</td>\n",
       "    </tr>\n",
       "    <tr>\n",
       "      <th>4</th>\n",
       "      <td>KLF15</td>\n",
       "      <td>SP1</td>\n",
       "      <td>3003</td>\n",
       "      <td>7250</td>\n",
       "      <td>3106</td>\n",
       "      <td>0.632828</td>\n",
       "      <td>112.334544</td>\n",
       "    </tr>\n",
       "    <tr>\n",
       "      <th>...</th>\n",
       "      <td>...</td>\n",
       "      <td>...</td>\n",
       "      <td>...</td>\n",
       "      <td>...</td>\n",
       "      <td>...</td>\n",
       "      <td>...</td>\n",
       "      <td>...</td>\n",
       "    </tr>\n",
       "    <tr>\n",
       "      <th>287</th>\n",
       "      <td>Arnt</td>\n",
       "      <td>SP9</td>\n",
       "      <td>251</td>\n",
       "      <td>2115</td>\n",
       "      <td>3558</td>\n",
       "      <td>0.091499</td>\n",
       "      <td>6.534704</td>\n",
       "    </tr>\n",
       "    <tr>\n",
       "      <th>288</th>\n",
       "      <td>AhrArnt</td>\n",
       "      <td>ZNF148</td>\n",
       "      <td>354</td>\n",
       "      <td>2838</td>\n",
       "      <td>5174</td>\n",
       "      <td>0.092381</td>\n",
       "      <td>2.497011</td>\n",
       "    </tr>\n",
       "    <tr>\n",
       "      <th>289</th>\n",
       "      <td>SP4</td>\n",
       "      <td>ZNF460</td>\n",
       "      <td>323</td>\n",
       "      <td>2925</td>\n",
       "      <td>4359</td>\n",
       "      <td>0.090458</td>\n",
       "      <td>3.578890</td>\n",
       "    </tr>\n",
       "    <tr>\n",
       "      <th>290</th>\n",
       "      <td>ZBTB14</td>\n",
       "      <td>ZNF148</td>\n",
       "      <td>316</td>\n",
       "      <td>1086</td>\n",
       "      <td>5174</td>\n",
       "      <td>0.133309</td>\n",
       "      <td>16.645737</td>\n",
       "    </tr>\n",
       "    <tr>\n",
       "      <th>291</th>\n",
       "      <td>Arnt</td>\n",
       "      <td>KLF15</td>\n",
       "      <td>413</td>\n",
       "      <td>2115</td>\n",
       "      <td>7250</td>\n",
       "      <td>0.105469</td>\n",
       "      <td>3.817805</td>\n",
       "    </tr>\n",
       "  </tbody>\n",
       "</table>\n",
       "<p>292 rows × 7 columns</p>\n",
       "</div>"
      ],
      "text/plain": [
       "         TF1     TF2  TF1_TF2_count  TF1_count  TF2_count    cosine  \\\n",
       "0      KLF15   KLF15           3274       7250       7250  0.451586   \n",
       "1       KLF5    KLF5           2360       5497       5497  0.429325   \n",
       "2      KLF15    KLF5           4983       7250       5497  0.789331   \n",
       "3        SP1     SP1           1154       3106       3106  0.371539   \n",
       "4      KLF15     SP1           3003       7250       3106  0.632828   \n",
       "..       ...     ...            ...        ...        ...       ...   \n",
       "287     Arnt     SP9            251       2115       3558  0.091499   \n",
       "288  AhrArnt  ZNF148            354       2838       5174  0.092381   \n",
       "289      SP4  ZNF460            323       2925       4359  0.090458   \n",
       "290   ZBTB14  ZNF148            316       1086       5174  0.133309   \n",
       "291     Arnt   KLF15            413       2115       7250  0.105469   \n",
       "\n",
       "         zscore  \n",
       "0     90.828663  \n",
       "1    124.788372  \n",
       "2    126.958045  \n",
       "3    110.448701  \n",
       "4    112.334544  \n",
       "..          ...  \n",
       "287    6.534704  \n",
       "288    2.497011  \n",
       "289    3.578890  \n",
       "290   16.645737  \n",
       "291    3.817805  \n",
       "\n",
       "[292 rows x 7 columns]"
      ]
     },
     "execution_count": 43,
     "metadata": {},
     "output_type": "execute_result"
    }
   ],
   "source": [
    "TF_pairs_of_orientation_for_distance.rules"
   ]
  },
  {
   "cell_type": "code",
   "execution_count": 45,
   "id": "b12d6e6a",
   "metadata": {},
   "outputs": [
    {
     "name": "stdout",
     "output_type": "stream",
     "text": [
      "INFO: DistObject successfully created! It can be accessed via combobj.distObj\n",
      "INFO: Calculating distances\n",
      "INFO: Normalizing data.\n",
      "INFO: Done finding distances! Results are found in .distances\n",
      "INFO: Run .linregress_all() to fit linear regression\n",
      "INFO: Fitting linear regression. With number of threads: 6\n",
      "INFO: Linear regression finished! Results can be found in .linres\n",
      "INFO: Correcting background with 6 threads.\n",
      "INFO: Background correction finished! Results can be found in .corrected\n",
      "INFO: Smoothing signals with window size 3\n",
      "INFO: Shifting signals above zero\n",
      "INFO: Analyzing Signal with threads 6\n",
      "INFO: Done analyzing signal. Results are found in .peaks\n"
     ]
    }
   ],
   "source": [
    "TF_pairs_of_orientation_for_distance.analyze_distances(threads=6)"
   ]
  },
  {
   "cell_type": "code",
   "execution_count": 46,
   "id": "46ca7523",
   "metadata": {},
   "outputs": [
    {
     "name": "stdout",
     "output_type": "stream",
     "text": [
      "INFO: Evaluating noisiness of the signals with 6 threads\n"
     ]
    }
   ],
   "source": [
    "TF_pairs_of_orientation_for_distance.distObj.evaluate_noise(threads=6)"
   ]
  },
  {
   "cell_type": "code",
   "execution_count": 47,
   "id": "1f24c7a0",
   "metadata": {},
   "outputs": [],
   "source": [
    "TF_pairs_of_orientation_for_distance.distObj.rank_rules()"
   ]
  },
  {
   "cell_type": "code",
   "execution_count": 48,
   "id": "d1023f4e",
   "metadata": {},
   "outputs": [
    {
     "data": {
      "text/html": [
       "<div>\n",
       "<style scoped>\n",
       "    .dataframe tbody tr th:only-of-type {\n",
       "        vertical-align: middle;\n",
       "    }\n",
       "\n",
       "    .dataframe tbody tr th {\n",
       "        vertical-align: top;\n",
       "    }\n",
       "\n",
       "    .dataframe thead th {\n",
       "        text-align: right;\n",
       "    }\n",
       "</style>\n",
       "<table border=\"1\" class=\"dataframe\">\n",
       "  <thead>\n",
       "    <tr style=\"text-align: right;\">\n",
       "      <th></th>\n",
       "      <th>TF1</th>\n",
       "      <th>TF2</th>\n",
       "      <th>Distance</th>\n",
       "      <th>Peak Heights</th>\n",
       "      <th>Prominences</th>\n",
       "      <th>Threshold</th>\n",
       "      <th>TF1_TF2_count</th>\n",
       "      <th>Distance_percent</th>\n",
       "      <th>Noisiness</th>\n",
       "      <th>rank_Distance_percent</th>\n",
       "      <th>rank_Peak Heights</th>\n",
       "      <th>rank_Noisiness</th>\n",
       "      <th>mean_rank</th>\n",
       "    </tr>\n",
       "  </thead>\n",
       "  <tbody>\n",
       "    <tr>\n",
       "      <th>461</th>\n",
       "      <td>ZNF460</td>\n",
       "      <td>ZNF460</td>\n",
       "      <td>16</td>\n",
       "      <td>5.674030</td>\n",
       "      <td>6.077854</td>\n",
       "      <td>2</td>\n",
       "      <td>606</td>\n",
       "      <td>0.618812</td>\n",
       "      <td>0.02462</td>\n",
       "      <td>1.0</td>\n",
       "      <td>1.0</td>\n",
       "      <td>1.0</td>\n",
       "      <td>1.000000</td>\n",
       "    </tr>\n",
       "    <tr>\n",
       "      <th>142</th>\n",
       "      <td>KLF14</td>\n",
       "      <td>Klf12</td>\n",
       "      <td>5</td>\n",
       "      <td>5.140175</td>\n",
       "      <td>6.566092</td>\n",
       "      <td>2</td>\n",
       "      <td>283</td>\n",
       "      <td>0.144876</td>\n",
       "      <td>0.157105</td>\n",
       "      <td>2.0</td>\n",
       "      <td>2.0</td>\n",
       "      <td>13.0</td>\n",
       "      <td>5.666667</td>\n",
       "    </tr>\n",
       "    <tr>\n",
       "      <th>417</th>\n",
       "      <td>SP3</td>\n",
       "      <td>ZNF460</td>\n",
       "      <td>23</td>\n",
       "      <td>4.592319</td>\n",
       "      <td>5.644359</td>\n",
       "      <td>2</td>\n",
       "      <td>543</td>\n",
       "      <td>0.117864</td>\n",
       "      <td>0.086933</td>\n",
       "      <td>22.0</td>\n",
       "      <td>8.0</td>\n",
       "      <td>3.0</td>\n",
       "      <td>11.000000</td>\n",
       "    </tr>\n",
       "    <tr>\n",
       "      <th>445</th>\n",
       "      <td>SP9</td>\n",
       "      <td>ZNF460</td>\n",
       "      <td>23</td>\n",
       "      <td>4.547436</td>\n",
       "      <td>5.611374</td>\n",
       "      <td>2</td>\n",
       "      <td>553</td>\n",
       "      <td>0.117541</td>\n",
       "      <td>0.077267</td>\n",
       "      <td>24.0</td>\n",
       "      <td>10.0</td>\n",
       "      <td>2.0</td>\n",
       "      <td>12.000000</td>\n",
       "    </tr>\n",
       "    <tr>\n",
       "      <th>354</th>\n",
       "      <td>Klf12</td>\n",
       "      <td>SP8</td>\n",
       "      <td>6</td>\n",
       "      <td>4.872321</td>\n",
       "      <td>6.300320</td>\n",
       "      <td>2</td>\n",
       "      <td>266</td>\n",
       "      <td>0.142857</td>\n",
       "      <td>0.191204</td>\n",
       "      <td>3.0</td>\n",
       "      <td>4.0</td>\n",
       "      <td>65.0</td>\n",
       "      <td>24.000000</td>\n",
       "    </tr>\n",
       "    <tr>\n",
       "      <th>...</th>\n",
       "      <td>...</td>\n",
       "      <td>...</td>\n",
       "      <td>...</td>\n",
       "      <td>...</td>\n",
       "      <td>...</td>\n",
       "      <td>...</td>\n",
       "      <td>...</td>\n",
       "      <td>...</td>\n",
       "      <td>...</td>\n",
       "      <td>...</td>\n",
       "      <td>...</td>\n",
       "      <td>...</td>\n",
       "      <td>...</td>\n",
       "    </tr>\n",
       "    <tr>\n",
       "      <th>188</th>\n",
       "      <td>KLF15</td>\n",
       "      <td>TFDP1</td>\n",
       "      <td>82</td>\n",
       "      <td>2.193007</td>\n",
       "      <td>3.861656</td>\n",
       "      <td>2</td>\n",
       "      <td>302</td>\n",
       "      <td>0.046358</td>\n",
       "      <td>0.339363</td>\n",
       "      <td>399.0</td>\n",
       "      <td>375.0</td>\n",
       "      <td>265.0</td>\n",
       "      <td>346.333333</td>\n",
       "    </tr>\n",
       "    <tr>\n",
       "      <th>122</th>\n",
       "      <td>KLF11</td>\n",
       "      <td>ZNF460</td>\n",
       "      <td>0</td>\n",
       "      <td>2.095532</td>\n",
       "      <td>2.095532</td>\n",
       "      <td>2</td>\n",
       "      <td>252</td>\n",
       "      <td>0.039683</td>\n",
       "      <td>0.268451</td>\n",
       "      <td>419.0</td>\n",
       "      <td>420.0</td>\n",
       "      <td>202.0</td>\n",
       "      <td>347.000000</td>\n",
       "    </tr>\n",
       "    <tr>\n",
       "      <th>164</th>\n",
       "      <td>KLF15</td>\n",
       "      <td>KLF4</td>\n",
       "      <td>52</td>\n",
       "      <td>2.013247</td>\n",
       "      <td>3.687988</td>\n",
       "      <td>2</td>\n",
       "      <td>832</td>\n",
       "      <td>0.049279</td>\n",
       "      <td>0.270894</td>\n",
       "      <td>386.0</td>\n",
       "      <td>453.0</td>\n",
       "      <td>203.0</td>\n",
       "      <td>347.333333</td>\n",
       "    </tr>\n",
       "    <tr>\n",
       "      <th>274</th>\n",
       "      <td>KLF4</td>\n",
       "      <td>SP1</td>\n",
       "      <td>41</td>\n",
       "      <td>2.036967</td>\n",
       "      <td>3.816020</td>\n",
       "      <td>2</td>\n",
       "      <td>389</td>\n",
       "      <td>0.053985</td>\n",
       "      <td>0.323521</td>\n",
       "      <td>358.0</td>\n",
       "      <td>443.0</td>\n",
       "      <td>255.0</td>\n",
       "      <td>352.000000</td>\n",
       "    </tr>\n",
       "    <tr>\n",
       "      <th>170</th>\n",
       "      <td>KLF15</td>\n",
       "      <td>KLF9</td>\n",
       "      <td>88</td>\n",
       "      <td>2.026718</td>\n",
       "      <td>2.153162</td>\n",
       "      <td>2</td>\n",
       "      <td>754</td>\n",
       "      <td>0.038462</td>\n",
       "      <td>0.278438</td>\n",
       "      <td>422.0</td>\n",
       "      <td>446.0</td>\n",
       "      <td>215.0</td>\n",
       "      <td>361.000000</td>\n",
       "    </tr>\n",
       "  </tbody>\n",
       "</table>\n",
       "<p>465 rows × 13 columns</p>\n",
       "</div>"
      ],
      "text/plain": [
       "        TF1     TF2  Distance  Peak Heights  Prominences  Threshold  \\\n",
       "461  ZNF460  ZNF460        16      5.674030     6.077854          2   \n",
       "142   KLF14   Klf12         5      5.140175     6.566092          2   \n",
       "417     SP3  ZNF460        23      4.592319     5.644359          2   \n",
       "445     SP9  ZNF460        23      4.547436     5.611374          2   \n",
       "354   Klf12     SP8         6      4.872321     6.300320          2   \n",
       "..      ...     ...       ...           ...          ...        ...   \n",
       "188   KLF15   TFDP1        82      2.193007     3.861656          2   \n",
       "122   KLF11  ZNF460         0      2.095532     2.095532          2   \n",
       "164   KLF15    KLF4        52      2.013247     3.687988          2   \n",
       "274    KLF4     SP1        41      2.036967     3.816020          2   \n",
       "170   KLF15    KLF9        88      2.026718     2.153162          2   \n",
       "\n",
       "     TF1_TF2_count  Distance_percent Noisiness  rank_Distance_percent  \\\n",
       "461            606          0.618812   0.02462                    1.0   \n",
       "142            283          0.144876  0.157105                    2.0   \n",
       "417            543          0.117864  0.086933                   22.0   \n",
       "445            553          0.117541  0.077267                   24.0   \n",
       "354            266          0.142857  0.191204                    3.0   \n",
       "..             ...               ...       ...                    ...   \n",
       "188            302          0.046358  0.339363                  399.0   \n",
       "122            252          0.039683  0.268451                  419.0   \n",
       "164            832          0.049279  0.270894                  386.0   \n",
       "274            389          0.053985  0.323521                  358.0   \n",
       "170            754          0.038462  0.278438                  422.0   \n",
       "\n",
       "     rank_Peak Heights  rank_Noisiness   mean_rank  \n",
       "461                1.0             1.0    1.000000  \n",
       "142                2.0            13.0    5.666667  \n",
       "417                8.0             3.0   11.000000  \n",
       "445               10.0             2.0   12.000000  \n",
       "354                4.0            65.0   24.000000  \n",
       "..                 ...             ...         ...  \n",
       "188              375.0           265.0  346.333333  \n",
       "122              420.0           202.0  347.000000  \n",
       "164              453.0           203.0  347.333333  \n",
       "274              443.0           255.0  352.000000  \n",
       "170              446.0           215.0  361.000000  \n",
       "\n",
       "[465 rows x 13 columns]"
      ]
     },
     "execution_count": 48,
     "metadata": {},
     "output_type": "execute_result"
    }
   ],
   "source": [
    "TF_pairs_of_orientation_for_distance.distObj.peaks"
   ]
  },
  {
   "cell_type": "code",
   "execution_count": null,
   "id": "c0e1ff2d",
   "metadata": {},
   "outputs": [],
   "source": []
  },
  {
   "cell_type": "code",
   "execution_count": 49,
   "id": "fa684115",
   "metadata": {},
   "outputs": [],
   "source": [
    "df_orientation_distance=TF_pairs_of_orientation_for_distance.distObj.peaks.merge(orientation_selected, left_on =[\"TF1\",\"TF2\"], right_on = [\"TF1\",\"TF2\"])"
   ]
  },
  {
   "cell_type": "code",
   "execution_count": 138,
   "id": "b44414ae",
   "metadata": {},
   "outputs": [
    {
     "data": {
      "text/html": [
       "<div>\n",
       "<style scoped>\n",
       "    .dataframe tbody tr th:only-of-type {\n",
       "        vertical-align: middle;\n",
       "    }\n",
       "\n",
       "    .dataframe tbody tr th {\n",
       "        vertical-align: top;\n",
       "    }\n",
       "\n",
       "    .dataframe thead th {\n",
       "        text-align: right;\n",
       "    }\n",
       "</style>\n",
       "<table border=\"1\" class=\"dataframe\">\n",
       "  <thead>\n",
       "    <tr style=\"text-align: right;\">\n",
       "      <th></th>\n",
       "      <th>TF1</th>\n",
       "      <th>TF2</th>\n",
       "      <th>Distance</th>\n",
       "      <th>Peak Heights</th>\n",
       "      <th>Prominences</th>\n",
       "      <th>Threshold</th>\n",
       "      <th>TF1_TF2_count_x</th>\n",
       "      <th>Distance_percent</th>\n",
       "      <th>Noisiness</th>\n",
       "      <th>rank_Distance_percent</th>\n",
       "      <th>rank_Peak Heights</th>\n",
       "      <th>rank_Noisiness</th>\n",
       "      <th>mean_rank</th>\n",
       "      <th>TF1_TF2_count_y</th>\n",
       "      <th>TF1-TF2</th>\n",
       "      <th>TF2-TF1</th>\n",
       "      <th>convergent</th>\n",
       "      <th>divergent</th>\n",
       "      <th>std</th>\n",
       "      <th>pvalue</th>\n",
       "    </tr>\n",
       "  </thead>\n",
       "  <tbody>\n",
       "    <tr>\n",
       "      <th>0</th>\n",
       "      <td>ZNF460</td>\n",
       "      <td>ZNF460</td>\n",
       "      <td>16</td>\n",
       "      <td>5.674030</td>\n",
       "      <td>6.077854</td>\n",
       "      <td>2</td>\n",
       "      <td>606</td>\n",
       "      <td>0.618812</td>\n",
       "      <td>0.02462</td>\n",
       "      <td>1.0</td>\n",
       "      <td>1.0</td>\n",
       "      <td>1.0</td>\n",
       "      <td>1.000000</td>\n",
       "      <td>93</td>\n",
       "      <td>0.430108</td>\n",
       "      <td>0.430108</td>\n",
       "      <td>0.075269</td>\n",
       "      <td>0.064516</td>\n",
       "      <td>0.208017</td>\n",
       "      <td>1.847095e-10</td>\n",
       "    </tr>\n",
       "    <tr>\n",
       "      <th>1</th>\n",
       "      <td>KLF14</td>\n",
       "      <td>Klf12</td>\n",
       "      <td>5</td>\n",
       "      <td>5.140175</td>\n",
       "      <td>6.566092</td>\n",
       "      <td>2</td>\n",
       "      <td>283</td>\n",
       "      <td>0.144876</td>\n",
       "      <td>0.157105</td>\n",
       "      <td>2.0</td>\n",
       "      <td>2.0</td>\n",
       "      <td>13.0</td>\n",
       "      <td>5.666667</td>\n",
       "      <td>65</td>\n",
       "      <td>0.523077</td>\n",
       "      <td>0.430769</td>\n",
       "      <td>0.015385</td>\n",
       "      <td>0.030769</td>\n",
       "      <td>0.264799</td>\n",
       "      <td>7.986436e-12</td>\n",
       "    </tr>\n",
       "    <tr>\n",
       "      <th>2</th>\n",
       "      <td>SP3</td>\n",
       "      <td>ZNF460</td>\n",
       "      <td>23</td>\n",
       "      <td>4.592319</td>\n",
       "      <td>5.644359</td>\n",
       "      <td>2</td>\n",
       "      <td>543</td>\n",
       "      <td>0.117864</td>\n",
       "      <td>0.086933</td>\n",
       "      <td>22.0</td>\n",
       "      <td>8.0</td>\n",
       "      <td>3.0</td>\n",
       "      <td>11.000000</td>\n",
       "      <td>91</td>\n",
       "      <td>0.340659</td>\n",
       "      <td>0.362637</td>\n",
       "      <td>0.186813</td>\n",
       "      <td>0.109890</td>\n",
       "      <td>0.121833</td>\n",
       "      <td>1.027511e-03</td>\n",
       "    </tr>\n",
       "    <tr>\n",
       "      <th>4</th>\n",
       "      <td>SP9</td>\n",
       "      <td>ZNF460</td>\n",
       "      <td>23</td>\n",
       "      <td>4.547436</td>\n",
       "      <td>5.611374</td>\n",
       "      <td>2</td>\n",
       "      <td>553</td>\n",
       "      <td>0.117541</td>\n",
       "      <td>0.077267</td>\n",
       "      <td>24.0</td>\n",
       "      <td>10.0</td>\n",
       "      <td>2.0</td>\n",
       "      <td>12.000000</td>\n",
       "      <td>92</td>\n",
       "      <td>0.282609</td>\n",
       "      <td>0.391304</td>\n",
       "      <td>0.206522</td>\n",
       "      <td>0.119565</td>\n",
       "      <td>0.115375</td>\n",
       "      <td>2.096101e-03</td>\n",
       "    </tr>\n",
       "    <tr>\n",
       "      <th>6</th>\n",
       "      <td>Klf12</td>\n",
       "      <td>SP8</td>\n",
       "      <td>6</td>\n",
       "      <td>4.872321</td>\n",
       "      <td>6.300320</td>\n",
       "      <td>2</td>\n",
       "      <td>266</td>\n",
       "      <td>0.142857</td>\n",
       "      <td>0.191204</td>\n",
       "      <td>3.0</td>\n",
       "      <td>4.0</td>\n",
       "      <td>65.0</td>\n",
       "      <td>24.000000</td>\n",
       "      <td>57</td>\n",
       "      <td>0.438596</td>\n",
       "      <td>0.473684</td>\n",
       "      <td>0.035088</td>\n",
       "      <td>0.052632</td>\n",
       "      <td>0.238569</td>\n",
       "      <td>1.796106e-08</td>\n",
       "    </tr>\n",
       "    <tr>\n",
       "      <th>...</th>\n",
       "      <td>...</td>\n",
       "      <td>...</td>\n",
       "      <td>...</td>\n",
       "      <td>...</td>\n",
       "      <td>...</td>\n",
       "      <td>...</td>\n",
       "      <td>...</td>\n",
       "      <td>...</td>\n",
       "      <td>...</td>\n",
       "      <td>...</td>\n",
       "      <td>...</td>\n",
       "      <td>...</td>\n",
       "      <td>...</td>\n",
       "      <td>...</td>\n",
       "      <td>...</td>\n",
       "      <td>...</td>\n",
       "      <td>...</td>\n",
       "      <td>...</td>\n",
       "      <td>...</td>\n",
       "      <td>...</td>\n",
       "    </tr>\n",
       "    <tr>\n",
       "      <th>331</th>\n",
       "      <td>KLF6</td>\n",
       "      <td>ZNF148</td>\n",
       "      <td>26</td>\n",
       "      <td>2.846730</td>\n",
       "      <td>4.819672</td>\n",
       "      <td>2</td>\n",
       "      <td>232</td>\n",
       "      <td>0.081897</td>\n",
       "      <td>0.295205</td>\n",
       "      <td>178.0</td>\n",
       "      <td>192.0</td>\n",
       "      <td>229.0</td>\n",
       "      <td>199.666667</td>\n",
       "      <td>53</td>\n",
       "      <td>0.509434</td>\n",
       "      <td>0.226415</td>\n",
       "      <td>0.075472</td>\n",
       "      <td>0.188679</td>\n",
       "      <td>0.184466</td>\n",
       "      <td>7.745004e-05</td>\n",
       "    </tr>\n",
       "    <tr>\n",
       "      <th>338</th>\n",
       "      <td>Wt1</td>\n",
       "      <td>ZNF148</td>\n",
       "      <td>6</td>\n",
       "      <td>2.936753</td>\n",
       "      <td>4.506708</td>\n",
       "      <td>2</td>\n",
       "      <td>839</td>\n",
       "      <td>0.075089</td>\n",
       "      <td>0.287056</td>\n",
       "      <td>218.0</td>\n",
       "      <td>171.0</td>\n",
       "      <td>223.0</td>\n",
       "      <td>204.000000</td>\n",
       "      <td>117</td>\n",
       "      <td>0.316239</td>\n",
       "      <td>0.461538</td>\n",
       "      <td>0.085470</td>\n",
       "      <td>0.136752</td>\n",
       "      <td>0.172270</td>\n",
       "      <td>4.721762e-09</td>\n",
       "    </tr>\n",
       "    <tr>\n",
       "      <th>347</th>\n",
       "      <td>KLF16</td>\n",
       "      <td>SP2</td>\n",
       "      <td>6</td>\n",
       "      <td>2.953083</td>\n",
       "      <td>4.951970</td>\n",
       "      <td>2</td>\n",
       "      <td>1177</td>\n",
       "      <td>0.084112</td>\n",
       "      <td>0.463725</td>\n",
       "      <td>163.0</td>\n",
       "      <td>169.0</td>\n",
       "      <td>289.0</td>\n",
       "      <td>207.000000</td>\n",
       "      <td>242</td>\n",
       "      <td>0.475207</td>\n",
       "      <td>0.429752</td>\n",
       "      <td>0.033058</td>\n",
       "      <td>0.061983</td>\n",
       "      <td>0.234835</td>\n",
       "      <td>1.702265e-34</td>\n",
       "    </tr>\n",
       "    <tr>\n",
       "      <th>348</th>\n",
       "      <td>ZNF148</td>\n",
       "      <td>ZNF460</td>\n",
       "      <td>0</td>\n",
       "      <td>3.232117</td>\n",
       "      <td>3.232117</td>\n",
       "      <td>2</td>\n",
       "      <td>685</td>\n",
       "      <td>0.040876</td>\n",
       "      <td>0.204624</td>\n",
       "      <td>416.0</td>\n",
       "      <td>117.0</td>\n",
       "      <td>91.0</td>\n",
       "      <td>208.000000</td>\n",
       "      <td>122</td>\n",
       "      <td>0.344262</td>\n",
       "      <td>0.344262</td>\n",
       "      <td>0.163934</td>\n",
       "      <td>0.147541</td>\n",
       "      <td>0.109050</td>\n",
       "      <td>5.819998e-04</td>\n",
       "    </tr>\n",
       "    <tr>\n",
       "      <th>430</th>\n",
       "      <td>KLF5</td>\n",
       "      <td>Zfx</td>\n",
       "      <td>90</td>\n",
       "      <td>2.814871</td>\n",
       "      <td>4.042029</td>\n",
       "      <td>2</td>\n",
       "      <td>1024</td>\n",
       "      <td>0.043945</td>\n",
       "      <td>0.272232</td>\n",
       "      <td>409.0</td>\n",
       "      <td>199.0</td>\n",
       "      <td>206.0</td>\n",
       "      <td>271.333333</td>\n",
       "      <td>217</td>\n",
       "      <td>0.050691</td>\n",
       "      <td>0.105991</td>\n",
       "      <td>0.400922</td>\n",
       "      <td>0.442396</td>\n",
       "      <td>0.200213</td>\n",
       "      <td>1.774136e-22</td>\n",
       "    </tr>\n",
       "  </tbody>\n",
       "</table>\n",
       "<p>200 rows × 20 columns</p>\n",
       "</div>"
      ],
      "text/plain": [
       "        TF1     TF2  Distance  Peak Heights  Prominences  Threshold  \\\n",
       "0    ZNF460  ZNF460        16      5.674030     6.077854          2   \n",
       "1     KLF14   Klf12         5      5.140175     6.566092          2   \n",
       "2       SP3  ZNF460        23      4.592319     5.644359          2   \n",
       "4       SP9  ZNF460        23      4.547436     5.611374          2   \n",
       "6     Klf12     SP8         6      4.872321     6.300320          2   \n",
       "..      ...     ...       ...           ...          ...        ...   \n",
       "331    KLF6  ZNF148        26      2.846730     4.819672          2   \n",
       "338     Wt1  ZNF148         6      2.936753     4.506708          2   \n",
       "347   KLF16     SP2         6      2.953083     4.951970          2   \n",
       "348  ZNF148  ZNF460         0      3.232117     3.232117          2   \n",
       "430    KLF5     Zfx        90      2.814871     4.042029          2   \n",
       "\n",
       "     TF1_TF2_count_x  Distance_percent Noisiness  rank_Distance_percent  \\\n",
       "0                606          0.618812   0.02462                    1.0   \n",
       "1                283          0.144876  0.157105                    2.0   \n",
       "2                543          0.117864  0.086933                   22.0   \n",
       "4                553          0.117541  0.077267                   24.0   \n",
       "6                266          0.142857  0.191204                    3.0   \n",
       "..               ...               ...       ...                    ...   \n",
       "331              232          0.081897  0.295205                  178.0   \n",
       "338              839          0.075089  0.287056                  218.0   \n",
       "347             1177          0.084112  0.463725                  163.0   \n",
       "348              685          0.040876  0.204624                  416.0   \n",
       "430             1024          0.043945  0.272232                  409.0   \n",
       "\n",
       "     rank_Peak Heights  rank_Noisiness   mean_rank  TF1_TF2_count_y   TF1-TF2  \\\n",
       "0                  1.0             1.0    1.000000               93  0.430108   \n",
       "1                  2.0            13.0    5.666667               65  0.523077   \n",
       "2                  8.0             3.0   11.000000               91  0.340659   \n",
       "4                 10.0             2.0   12.000000               92  0.282609   \n",
       "6                  4.0            65.0   24.000000               57  0.438596   \n",
       "..                 ...             ...         ...              ...       ...   \n",
       "331              192.0           229.0  199.666667               53  0.509434   \n",
       "338              171.0           223.0  204.000000              117  0.316239   \n",
       "347              169.0           289.0  207.000000              242  0.475207   \n",
       "348              117.0            91.0  208.000000              122  0.344262   \n",
       "430              199.0           206.0  271.333333              217  0.050691   \n",
       "\n",
       "      TF2-TF1  convergent  divergent       std        pvalue  \n",
       "0    0.430108    0.075269   0.064516  0.208017  1.847095e-10  \n",
       "1    0.430769    0.015385   0.030769  0.264799  7.986436e-12  \n",
       "2    0.362637    0.186813   0.109890  0.121833  1.027511e-03  \n",
       "4    0.391304    0.206522   0.119565  0.115375  2.096101e-03  \n",
       "6    0.473684    0.035088   0.052632  0.238569  1.796106e-08  \n",
       "..        ...         ...        ...       ...           ...  \n",
       "331  0.226415    0.075472   0.188679  0.184466  7.745004e-05  \n",
       "338  0.461538    0.085470   0.136752  0.172270  4.721762e-09  \n",
       "347  0.429752    0.033058   0.061983  0.234835  1.702265e-34  \n",
       "348  0.344262    0.163934   0.147541  0.109050  5.819998e-04  \n",
       "430  0.105991    0.400922   0.442396  0.200213  1.774136e-22  \n",
       "\n",
       "[200 rows x 20 columns]"
      ]
     },
     "execution_count": 138,
     "metadata": {},
     "output_type": "execute_result"
    }
   ],
   "source": [
    "df_orientation_distance[(df_orientation_distance[\"Peak Heights\"]>2.8)]\n",
    "#df_orientation_distance"
   ]
  },
  {
   "cell_type": "code",
   "execution_count": 60,
   "id": "1d166a49",
   "metadata": {},
   "outputs": [
    {
     "data": {
      "image/png": "[encoded data removed]",
      "text/plain": [
       "<Figure size 432x288 with 1 Axes>"
      ]
     },
     "metadata": {
      "needs_background": "light"
     },
     "output_type": "display_data"
    },
    {
     "data": {
      "image/png": "[encoded data removed]",
      "text/plain": [
       "<Figure size 432x288 with 2 Axes>"
      ]
     },
     "metadata": {
      "needs_background": "light"
     },
     "output_type": "display_data"
    }
   ],
   "source": [
    "plot_distance_T1_TF2=df_orientation_distance.plot(x ='Distance', y='TF1-TF2', kind = 'scatter')\n",
    "plot_distance_T1_TF2=df_orientation_distance[(df_orientation_distance[\"Peak Heights\"]>2.8)].plot(x ='Distance', y='TF1-TF2', kind = 'scatter', c='Peak Heights', colormap='jet')\n"
   ]
  },
  {
   "cell_type": "code",
   "execution_count": 61,
   "id": "9fba885f",
   "metadata": {},
   "outputs": [
    {
     "data": {
      "image/png": "[encoded data removed]",
      "text/plain": [
       "<Figure size 432x288 with 2 Axes>"
      ]
     },
     "metadata": {
      "needs_background": "light"
     },
     "output_type": "display_data"
    }
   ],
   "source": [
    "plot_distance_T2_TF1=df_orientation_distance[(df_orientation_distance[\"Peak Heights\"]>2.8)].plot(x ='Distance', y='TF2-TF1', kind = 'scatter',c='Peak Heights', colormap='jet')"
   ]
  },
  {
   "cell_type": "code",
   "execution_count": 64,
   "id": "b99febf9",
   "metadata": {},
   "outputs": [
    {
     "data": {
      "image/png": "[encoded data removed]",
      "text/plain": [
       "<Figure size 432x288 with 2 Axes>"
      ]
     },
     "metadata": {
      "needs_background": "light"
     },
     "output_type": "display_data"
    }
   ],
   "source": [
    "plot_distance_convergent=df_orientation_distance[(df_orientation_distance[\"Peak Heights\"]>2.8)].plot(x ='Distance', y='convergent', kind = 'scatter',c='Peak Heights', colormap='jet')"
   ]
  },
  {
   "cell_type": "code",
   "execution_count": 65,
   "id": "1b8e1628",
   "metadata": {},
   "outputs": [
    {
     "data": {
      "image/png": "[encoded data removed]",
      "text/plain": [
       "<Figure size 432x288 with 2 Axes>"
      ]
     },
     "metadata": {
      "needs_background": "light"
     },
     "output_type": "display_data"
    }
   ],
   "source": [
    "plot_distance_divergent=df_orientation_distance[(df_orientation_distance[\"Peak Heights\"]>2.8)].plot(x ='Distance', y='divergent', kind = 'scatter',c='Peak Heights', colormap='jet')"
   ]
  },
  {
   "cell_type": "code",
   "execution_count": 55,
   "id": "d36e7e25",
   "metadata": {},
   "outputs": [
    {
     "data": {
      "image/png": "[encoded data removed]",
      "text/plain": [
       "<Figure size 432x288 with 1 Axes>"
      ]
     },
     "metadata": {
      "needs_background": "light"
     },
     "output_type": "display_data"
    }
   ],
   "source": [
    "plot_distance=df_orientation_distance.plot(x = ['Distance','Distance','Distance','Distance'], y=['divergent','convergent','TF1-TF2','TF2-TF1'],kind='scatter')\n"
   ]
  },
  {
   "cell_type": "code",
   "execution_count": 66,
   "id": "a973fb1a",
   "metadata": {},
   "outputs": [
    {
     "data": {
      "text/plain": [
       "Text(0, 0.5, 'orientation')"
      ]
     },
     "execution_count": 66,
     "metadata": {},
     "output_type": "execute_result"
    },
    {
     "data": {
      "image/png": "[encoded data removed]",
      "text/plain": [
       "<Figure size 432x288 with 1 Axes>"
      ]
     },
     "metadata": {
      "needs_background": "light"
     },
     "output_type": "display_data"
    }
   ],
   "source": [
    "ax1 = df_orientation_distance[(df_orientation_distance[\"Peak Heights\"]>2.8)].plot(kind='scatter', x='Distance', y='TF1-TF2', color='r')    \n",
    "ax2 = df_orientation_distance[(df_orientation_distance[\"Peak Heights\"]>2.8)].plot(kind='scatter', x='Distance', y='TF2-TF1', color='g', ax=ax1)    \n",
    "ax3 = df_orientation_distance[(df_orientation_distance[\"Peak Heights\"]>2.8)].plot(kind='scatter', x='Distance', y='divergent', color='b', ax=ax1)\n",
    "ax4 = df_orientation_distance[(df_orientation_distance[\"Peak Heights\"]>2.8)].plot(kind='scatter', x='Distance', y='convergent', color='y', ax=ax1)\n",
    "ax1.set_ylabel(\"orientation\")\n",
    "\n",
    "#print(ax1 == ax2 == ax3 == ax4)\n"
   ]
  },
  {
   "cell_type": "markdown",
   "id": "19282f3d",
   "metadata": {},
   "source": [
    "#### how many of the top 50 of each orentaion have a preferential distance"
   ]
  },
  {
   "cell_type": "code",
   "execution_count": 170,
   "id": "d4b79128",
   "metadata": {},
   "outputs": [
    {
     "data": {
      "image/png": "[encoded data removed]",
      "text/plain": [
       "<Figure size 432x288 with 2 Axes>"
      ]
     },
     "metadata": {
      "needs_background": "light"
     },
     "output_type": "display_data"
    }
   ],
   "source": [
    "import matplotlib.pyplot as plt\n",
    "\n",
    "plt.scatter(df_top50_T1_TF2['Distance'], df_top50_T1_TF2['Peak Heights'], c= df_top50_T1_TF2['TF1-TF2'], cmap = 'cividis_r')\n",
    "\n",
    "cbar = plt.colorbar()\n",
    "cbar.set_label(\"TF1-TF2 orientation\")\n",
    "\n",
    "plt.xlabel(\"Distance\")\n",
    "plt.ylabel(\"Peak Heights of distance\")\n",
    "\n",
    "plt.show()"
   ]
  },
  {
   "cell_type": "code",
   "execution_count": 154,
   "id": "e05101fd",
   "metadata": {},
   "outputs": [
    {
     "data": {
      "text/plain": [
       "<module 'matplotlib.cm' from '/home/stud7/.conda/envs/tfcomb_env/lib/python3.7/site-packages/matplotlib/cm.py'>"
      ]
     },
     "execution_count": 154,
     "metadata": {},
     "output_type": "execute_result"
    }
   ],
   "source": []
  },
  {
   "cell_type": "code",
   "execution_count": 129,
   "id": "8eaebb2a",
   "metadata": {},
   "outputs": [
    {
     "data": {
      "image/png": "[encoded data removed]",
      "text/plain": [
       "<Figure size 432x288 with 2 Axes>"
      ]
     },
     "metadata": {
      "needs_background": "light"
     },
     "output_type": "display_data"
    }
   ],
   "source": [
    "df_top50_T1_TF2=df_orientation_distance[(df_orientation_distance[\"Peak Heights\"]>2.8)].sort_values(by=['TF1-TF2'], ascending=False).head(50)\n",
    "plot_top50_distance_T1_TF2=df_top50_T1_TF2.plot(x ='Distance', y='Peak Heights', kind = 'scatter', c='TF1-TF2', colormap='jet')\n"
   ]
  },
  {
   "cell_type": "code",
   "execution_count": 128,
   "id": "5a541b27",
   "metadata": {},
   "outputs": [
    {
     "data": {
      "image/png": "[encoded data removed]",
      "text/plain": [
       "<Figure size 504x360 with 2 Axes>"
      ]
     },
     "metadata": {
      "needs_background": "light"
     },
     "output_type": "display_data"
    }
   ],
   "source": [
    "df_top50_T2_TF1=df_orientation_distance[(df_orientation_distance[\"Peak Heights\"]>2.8)].sort_values(by=['TF2-TF1'], ascending=False).head(50)\n",
    "plot_top50_distance_T2_TF1=df_top50_T2_TF1.plot(x='Distance', y='Peak Heights', kind = 'scatter', xlabel='testtt', c='TF2-TF1', colormap='jet', figsize=(7,5), )\n"
   ]
  },
  {
   "cell_type": "code",
   "execution_count": 69,
   "id": "2b614cb7",
   "metadata": {},
   "outputs": [
    {
     "data": {
      "image/png": "[encoded data removed]",
      "text/plain": [
       "<Figure size 432x288 with 2 Axes>"
      ]
     },
     "metadata": {
      "needs_background": "light"
     },
     "output_type": "display_data"
    }
   ],
   "source": [
    "df_top50_convergent=df_orientation_distance[(df_orientation_distance[\"Peak Heights\"]>2.8)].sort_values(by=['convergent'], ascending=False).head(50)\n",
    "plot_top50_distance_convergent=df_top50_convergent.plot(x ='Distance', y='Peak Heights', kind = 'scatter', c='convergent', colormap='jet')\n"
   ]
  },
  {
   "cell_type": "code",
   "execution_count": 70,
   "id": "bcd54e05",
   "metadata": {},
   "outputs": [
    {
     "data": {
      "image/png": "[encoded data removed]",
      "text/plain": [
       "<Figure size 432x288 with 2 Axes>"
      ]
     },
     "metadata": {
      "needs_background": "light"
     },
     "output_type": "display_data"
    }
   ],
   "source": [
    "df_top50_divergent=df_orientation_distance[(df_orientation_distance[\"Peak Heights\"]>2.8)].sort_values(by=['divergent'], ascending=False).head(50)\n",
    "plot_top50_distance_divergent=df_top50_divergent.plot(x ='Distance', y='Peak Heights', kind = 'scatter', c='divergent', colormap='jet')\n"
   ]
  },
  {
   "cell_type": "code",
   "execution_count": null,
   "id": "854150f9",
   "metadata": {},
   "outputs": [],
   "source": []
  },
  {
   "cell_type": "code",
   "execution_count": null,
   "id": "cc633c54",
   "metadata": {},
   "outputs": [],
   "source": []
  },
  {
   "cell_type": "code",
   "execution_count": null,
   "id": "34e8619d",
   "metadata": {},
   "outputs": [],
   "source": []
  }
 ],
 "metadata": {
  "kernelspec": {
   "display_name": "tfcomb_env",
   "language": "python",
   "name": "tfcomb_env"
  },
  "language_info": {
   "codemirror_mode": {
    "name": "ipython",
    "version": 3
   },
   "file_extension": ".py",
   "mimetype": "text/x-python",
   "name": "python",
   "nbconvert_exporter": "python",
   "pygments_lexer": "ipython3",
   "version": "3.7.12"
  }
 },
 "nbformat": 4,
 "nbformat_minor": 5
}
