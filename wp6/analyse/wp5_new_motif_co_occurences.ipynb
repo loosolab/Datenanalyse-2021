{
 "cells": [
  {
   "cell_type": "markdown",
   "id": "b583e95e",
   "metadata": {},
   "source": [
    "## TF-co-occurences with newly found tf-motifs"
   ]
  },
  {
   "cell_type": "markdown",
   "id": "086871fc",
   "metadata": {},
   "source": [
    "#### constant variables and imports"
   ]
  },
  {
   "cell_type": "code",
   "execution_count": 14,
   "id": "883092c2",
   "metadata": {},
   "outputs": [],
   "source": [
    "from tfcomb import CombObj\n",
    "from os import listdir, system, environ, pathsep\n",
    "from os.path import isfile, join\n",
    "'''\n",
    "Constants for this script\n",
    "'''\n",
    "genome_path=\"../testdaten/hg19_masked.fa\"\n",
    "main_jaspar_file=\"../testdaten/JASPAR2020_CORE_vertebrates.meme\" \n",
    "result_path=\"./results/wp5/\"\n",
    "\n",
    "merged_motif_path=\"../testdaten/wp5/prepared_jaspar_files/\"\n",
    "motif_path=\"../testdaten/wp5/new_motifs/\"\n",
    "cell_line_path=\"../testdaten/enhancers/\"\n",
    "cell_line_file_name=\"CD14+_enhancers.bed\""
   ]
  },
  {
   "cell_type": "code",
   "execution_count": 15,
   "id": "3943710f",
   "metadata": {},
   "outputs": [],
   "source": [
    "'''\n",
    "You need this to use TOBIAS command line tool in your python envrionment\n",
    "Find the path to the tobias command with:\n",
    "type TOBIAS\n",
    "'''\n",
    "TOBIAS_command=\"/home/stud6/.conda/envs/tfcomb_env/bin/TOBIAS\"\n",
    "#environ['PATH'] += pathsep + tobias_path\n",
    "#print(environ['PATH'])\n"
   ]
  },
  {
   "cell_type": "markdown",
   "id": "d3aa9a4f",
   "metadata": {},
   "source": [
    "#### function definition for the market basket analyses"
   ]
  },
  {
   "cell_type": "code",
   "execution_count": 16,
   "id": "f7dfc12e",
   "metadata": {},
   "outputs": [],
   "source": [
    "def do_market_basket_analyses(genome_path:str,\n",
    "                              cell_line_name: str,\n",
    "                              rel_path_cell_line: str,\n",
    "                              motif_name:str,\n",
    "                              rel_path_motif:str ):\n",
    "    '''\n",
    "        Does market basket analyses for cell line with :cell_line_name and the rel_path: to the region data.\n",
    "        Saves the data to name.pkl file.\n",
    "        \n",
    "        e.g.:\n",
    "        rel_path: \"../testdaten/enhancers/A375_enhancers.bed\"\n",
    "    '''\n",
    "    print(f'Starting with tfbs-detection and market basket analyses for cell_line: {cell_line_name} and new motif {motif_name}, data path:{rel_path_cell_line}.')\n",
    "    comb = CombObj()\n",
    "    comb.TFBS_from_motifs(regions= rel_path_cell_line,\n",
    "                   motifs=rel_path_motif,\n",
    "                   genome=genome_path,\n",
    "                   threads=4)\n",
    "    print(f'TFBS detection is done for cell_line: {cell_line_name} and new motif {motif_name}')\n",
    "    print(f'Start market basket analyses for cell line: {cell_line_name} and new motif {motif_name}')\n",
    "    comb.market_basket(threads=10)\n",
    "    \n",
    "    if len(comb.rules) <= 0:\n",
    "        print(f'Could not find TF-cooccurences for cell line: {cell_line_name} and new motif {motif_name}')\n",
    "        return\n",
    "    \n",
    "    print(f'Finished market basket analyses for cell line: {cell_line_name} and new motif {motif_name}')\n",
    "    print(f'Found rules: {len(comb.rules)}')\n",
    "    comb.to_pickle(f'{result_path}{cell_line_name}_{motif_name}_complete.pkl')\n",
    "    print(f'Saved complete rules to {result_path}{cell_line_name}_{motif_name}_complete.pkl')\n",
    "\n"
   ]
  },
  {
   "cell_type": "markdown",
   "id": "cd42e92e",
   "metadata": {},
   "source": [
    "#### function definition to read in files of folder"
   ]
  },
  {
   "cell_type": "code",
   "execution_count": 17,
   "id": "d9ecb5da",
   "metadata": {},
   "outputs": [],
   "source": [
    "def read_in_file_names_of_folder(rel_path:str):\n",
    "    return [f for f in listdir(rel_path) if isfile(join(rel_path, f))]\n",
    "\n",
    "def merge_new_motif_to_jaspar_file(new_motif_file_name: str , new_motif_name: str):\n",
    "    '''\n",
    "    Merge a new Motif to a jaspar file with known motifs by using TOBIAS FormatMotif tool\n",
    "    --input test_data/individual_motifs/*\n",
    "    '''\n",
    "    print(f'{TOBIAS_command} FormatMotifs --input {motif_path}{new_motif_file_name}{\" \"}{main_jaspar_file} --task join --output {merged_motif_path}joined_{new_motif_name}.jaspar')\n",
    "    system(f'{TOBIAS_command} FormatMotifs --input {motif_path}{new_motif_file_name}{\" \"}{main_jaspar_file} --task join --output {merged_motif_path}joined_{new_motif_name}.jaspar')\n",
    "\n"
   ]
  },
  {
   "cell_type": "markdown",
   "id": "25c28cca",
   "metadata": {},
   "source": [
    "### Market basket analyses with newly found motifs\n",
    "Idea: WP5 finds motifs for a special cell_line/cluster/tissue e.g. liver cells. WP6 takes the new motifs and tests them for TF-co-occurences in the specific cellline/cluster"
   ]
  },
  {
   "cell_type": "code",
   "execution_count": 24,
   "id": "c852ab1d",
   "metadata": {},
   "outputs": [
    {
     "name": "stdout",
     "output_type": "stream",
     "text": [
      "motif_10_motif_10.meme\n",
      "motif_10_motif_10\n",
      "CD14+_enhancers\n",
      "/home/stud6/.conda/envs/tfcomb_env/bin/TOBIAS FormatMotifs --input ../testdaten/wp5/new_motifs/motif_10_motif_10.meme ../testdaten/JASPAR2020_CORE_vertebrates.meme --task join --output ../testdaten/wp5/prepared_jaspar_files/joined_motif_10_motif_10.jaspar\n",
      "# TOBIAS 0.13.2 FormatMotifs (run started 2022-01-09 20:22:24.757863)\n",
      "# Working directory: /mnt/workspace_stud/stud6/repositories/Datenanalyse-2021/wp6/analyse\n",
      "# Command line call: TOBIAS FormatMotifs --input ../testdaten/wp5/new_motifs/motif_10_motif_10.meme ../testdaten/JASPAR2020_CORE_vertebrates.meme --task join --output ../testdaten/wp5/prepared_jaspar_files/joined_motif_10_motif_10.jaspar\n",
      "\n",
      "# ----- Input parameters -----\n",
      "# input:\t['../testdaten/wp5/new_motifs/motif_10_motif_10.meme', '../testdaten/JASPAR2020_CORE_vertebrates.meme']\n",
      "# output:\t../testdaten/wp5/prepared_jaspar_files/joined_motif_10_motif_10.jaspar\n",
      "# format:\tjaspar\n",
      "# task:\tjoin\n",
      "# filter:\tNone\n",
      "# verbosity:\t3\n",
      "\n",
      "\n",
      "# ----- Output files -----\n",
      "# ../testdaten/wp5/prepared_jaspar_files/joined_motif_10_motif_10.jaspar\n",
      "\n",
      "\n",
      "2022-01-09 20:22:24 (22609) [INFO]\tReading input files...\n",
      "2022-01-09 20:22:24 (22609) [INFO]\tRead 747 motifs\n",
      "\n",
      "2022-01-09 20:22:24 (22609) [INFO]\tWriting converted motifs to file ../testdaten/wp5/prepared_jaspar_files/joined_motif_10_motif_10.jaspar\n",
      "\n",
      "2022-01-09 20:22:24 (22609) [INFO]\tFinished FormatMotifs run (total time elapsed: 0:00:00.126998)\n",
      "Starting with tfbs-detection and market basket analyses for cell_line: CD14+_enhancers and new motif motif_10_motif_10, data path:../testdaten/enhancers/CD14+_enhancers.bed.\n",
      "INFO: Scanning for TFBS with 4 thread(s)...\n",
      "INFO: Progress: 10%\n",
      "INFO: Progress: 20%\n",
      "INFO: Progress: 30%\n",
      "INFO: Progress: 40%\n",
      "INFO: Progress: 51%\n",
      "INFO: Progress: 60%\n",
      "INFO: Progress: 71%\n",
      "INFO: Progress: 80%\n",
      "INFO: Progress: 90%\n",
      "INFO: Finished!\n",
      "INFO: Processing scanned TFBS\n",
      "INFO: Identified 114137 TFBS (747 unique names) within given regions\n",
      "TFBS detection is done for cell_line: CD14+_enhancers and new motif motif_10_motif_10\n",
      "Start market basket analyses for cell line: CD14+_enhancers and new motif motif_10_motif_10\n",
      "WARNING: No counts found in <CombObj>. Running <CombObj>.count_within() with standard parameters.\n",
      "INFO: Setting up binding sites for counting\n",
      "INFO: Counting co-occurrences within sites\n",
      "INFO: Counting co-occurrence within background\n",
      "INFO: Progress: 10%\n",
      "INFO: Progress: 20%\n",
      "INFO: Progress: 30%\n",
      "INFO: Progress: 40%\n",
      "INFO: Progress: 50%\n",
      "INFO: Progress: 62%\n",
      "INFO: Progress: 74%\n",
      "INFO: Progress: 80%\n",
      "INFO: Progress: 94%\n",
      "INFO: Finished!\n",
      "INFO: Done finding co-occurrences! Run .market_basket() to estimate significant pairs\n",
      "INFO: Market basket analysis is done! Results are found in <CombObj>.rules\n",
      "Finished market basket analyses for cell line: CD14+_enhancers and new motif motif_10_motif_10\n",
      "Found rules: 271948\n",
      "Saved complete rules to ./results/wp5/CD14+_enhancers_motif_10_motif_10_complete.pkl\n",
      "motif_29_motif_29.meme\n",
      "motif_29_motif_29\n",
      "CD14+_enhancers\n",
      "/home/stud6/.conda/envs/tfcomb_env/bin/TOBIAS FormatMotifs --input ../testdaten/wp5/new_motifs/motif_29_motif_29.meme ../testdaten/JASPAR2020_CORE_vertebrates.meme --task join --output ../testdaten/wp5/prepared_jaspar_files/joined_motif_29_motif_29.jaspar\n",
      "# TOBIAS 0.13.2 FormatMotifs (run started 2022-01-09 20:23:00.800331)\n",
      "# Working directory: /mnt/workspace_stud/stud6/repositories/Datenanalyse-2021/wp6/analyse\n",
      "# Command line call: TOBIAS FormatMotifs --input ../testdaten/wp5/new_motifs/motif_29_motif_29.meme ../testdaten/JASPAR2020_CORE_vertebrates.meme --task join --output ../testdaten/wp5/prepared_jaspar_files/joined_motif_29_motif_29.jaspar\n",
      "\n",
      "# ----- Input parameters -----\n",
      "# input:\t['../testdaten/wp5/new_motifs/motif_29_motif_29.meme', '../testdaten/JASPAR2020_CORE_vertebrates.meme']\n",
      "# output:\t../testdaten/wp5/prepared_jaspar_files/joined_motif_29_motif_29.jaspar\n",
      "# format:\tjaspar\n",
      "# task:\tjoin\n",
      "# filter:\tNone\n",
      "# verbosity:\t3\n",
      "\n",
      "\n",
      "# ----- Output files -----\n",
      "# ../testdaten/wp5/prepared_jaspar_files/joined_motif_29_motif_29.jaspar\n",
      "\n",
      "\n",
      "2022-01-09 20:23:00 (22641) [INFO]\tReading input files...\n",
      "2022-01-09 20:23:00 (22641) [INFO]\tRead 747 motifs\n",
      "\n",
      "2022-01-09 20:23:00 (22641) [INFO]\tWriting converted motifs to file ../testdaten/wp5/prepared_jaspar_files/joined_motif_29_motif_29.jaspar\n",
      "\n",
      "2022-01-09 20:23:00 (22641) [INFO]\tFinished FormatMotifs run (total time elapsed: 0:00:00.124025)\n",
      "Starting with tfbs-detection and market basket analyses for cell_line: CD14+_enhancers and new motif motif_29_motif_29, data path:../testdaten/enhancers/CD14+_enhancers.bed.\n",
      "INFO: Scanning for TFBS with 4 thread(s)...\n",
      "INFO: Progress: 12%\n",
      "INFO: Progress: 20%\n",
      "INFO: Progress: 31%\n",
      "INFO: Progress: 40%\n",
      "INFO: Progress: 50%\n",
      "INFO: Progress: 60%\n",
      "INFO: Progress: 71%\n",
      "INFO: Progress: 80%\n",
      "INFO: Progress: 92%\n",
      "INFO: Finished!\n",
      "INFO: Processing scanned TFBS\n",
      "INFO: Identified 114380 TFBS (747 unique names) within given regions\n",
      "TFBS detection is done for cell_line: CD14+_enhancers and new motif motif_29_motif_29\n",
      "Start market basket analyses for cell line: CD14+_enhancers and new motif motif_29_motif_29\n",
      "WARNING: No counts found in <CombObj>. Running <CombObj>.count_within() with standard parameters.\n",
      "INFO: Setting up binding sites for counting\n",
      "INFO: Counting co-occurrences within sites\n",
      "INFO: Counting co-occurrence within background\n",
      "INFO: Progress: 10%\n",
      "INFO: Progress: 22%\n",
      "INFO: Progress: 30%\n",
      "INFO: Progress: 44%\n",
      "INFO: Progress: 50%\n",
      "INFO: Progress: 64%\n",
      "INFO: Progress: 70%\n",
      "INFO: Progress: 82%\n",
      "INFO: Progress: 90%\n",
      "INFO: Finished!\n",
      "INFO: Done finding co-occurrences! Run .market_basket() to estimate significant pairs\n",
      "INFO: Market basket analysis is done! Results are found in <CombObj>.rules\n",
      "Finished market basket analyses for cell line: CD14+_enhancers and new motif motif_29_motif_29\n",
      "Found rules: 272439\n",
      "Saved complete rules to ./results/wp5/CD14+_enhancers_motif_29_motif_29_complete.pkl\n"
     ]
    }
   ],
   "source": [
    "new_motif_file_names = read_in_file_names_of_folder(rel_path=motif_path)\n",
    "#cell_line_names = read_in_file_names_of_folder(rel_path=enhancer_path)\n",
    "new_motif_names = []\n",
    "\n",
    "for new_motif_file_name in new_motif_file_names:\n",
    "    motif_name = new_motif_file_name.split('.')[0]\n",
    "    new_motif_names.append(motif_name)\n",
    "    cell_line_name = cell_line_file_name.split('.')[0]\n",
    "\n",
    "    print(new_motif_file_name)\n",
    "    print(motif_name)\n",
    "    print(cell_line_name)\n",
    "    \n",
    "    merge_new_motif_to_jaspar_file(new_motif_file_name=new_motif_file_name, new_motif_name=motif_name)\n",
    "    \n",
    "    do_market_basket_analyses(genome_path=genome_path, \n",
    "                              cell_line_name=cell_line_name,\n",
    "                              rel_path_cell_line=f\"{cell_line_path}{cell_line_file_name}\",\n",
    "                              motif_name=motif_name,\n",
    "                              rel_path_motif=f\"{merged_motif_path}joined_{motif_name}.jaspar\"\n",
    "                             )"
   ]
  },
  {
   "cell_type": "markdown",
   "id": "275656f6",
   "metadata": {},
   "source": [
    "### Analyse the co-occurences\n"
   ]
  },
  {
   "cell_type": "code",
   "execution_count": 35,
   "id": "4204a41d",
   "metadata": {},
   "outputs": [
    {
     "name": "stdout",
     "output_type": "stream",
     "text": [
      "['motif_10_motif_10', 'motif_29_motif_29']\n",
      "['CD14+_enhancers_motif_29_motif_29_complete.pkl', 'CD14+_enhancers_motif_10_motif_10_complete.pkl']\n",
      "INFO: Selected 561 rules\n",
      "INFO: Creating subset of object\n",
      "<CombObj: 169480 TFBS (747 unique names) | Market basket analysis: 561 rules>\n",
      "INFO: x_threshold is None; trying to calculate optimal threshold\n",
      "INFO: y_threshold is None; trying to calculate optimal threshold\n",
      "INFO: Creating subset of TFBS and rules using thresholds\n",
      "<CombObj: 179652 TFBS (747 unique names) | Market basket analysis: 7110 rules>\n",
      "INFO: Selected 6 rules\n",
      "INFO: Creating subset of object\n",
      "<CombObj: 6505 TFBS (747 unique names) | Market basket analysis: 6 rules>\n",
      "                         TF1        TF2  TF1_TF2_count  TF1_count  TF2_count  \\\n",
      "motif_29-MAZ        motif_29        MAZ             58        544       2346   \n",
      "motif_29-ZNF263     motif_29     ZNF263             40        544       1462   \n",
      "motif_29-INSM1      motif_29      INSM1             18        544        416   \n",
      "motif_29-KLF11      motif_29      KLF11             23        544        806   \n",
      "motif_29-ZNF16      motif_29      ZNF16             16        544        444   \n",
      "motif_29-MZF1var.2  motif_29  MZF1var.2             15        544        487   \n",
      "\n",
      "                      cosine    zscore  \n",
      "motif_29-MAZ        0.051341  3.380157  \n",
      "motif_29-ZNF263     0.044853  3.690882  \n",
      "motif_29-INSM1      0.037838  5.584906  \n",
      "motif_29-KLF11      0.034734  3.500300  \n",
      "motif_29-ZNF16      0.032556  3.824806  \n",
      "motif_29-MZF1var.2  0.029143  3.248823  \n"
     ]
    },
    {
     "data": {
      "image/png": "[encoded data removed]",
      "text/plain": [
       "<Figure size 432x432 with 3 Axes>"
      ]
     },
     "metadata": {
      "needs_background": "light"
     },
     "output_type": "display_data"
    }
   ],
   "source": [
    "results_files_names_market_basket_analyses= read_in_file_names_of_folder(rel_path=result_path)\n",
    "\n",
    "print(new_motif_names)\n",
    "\n",
    "\n",
    "#for file_name in results_files_names_market_basket_analyses:    \n",
    "\n",
    "# Example, just taking the first analyses\n",
    "print(results_files_names_market_basket_analyses)\n",
    "A = CombObj().from_pickle(f\"{result_path}{results_files_names_market_basket_analyses[0]}\")\n",
    "A.prefix = \"CD4+\"\n",
    "\n",
    "not_sig = A.select_TF_rules(['motif_29'], TF2=False)\n",
    "print(not_sig)\n",
    "\n",
    "significant = A.select_significant_rules()\n",
    "print(significant)\n",
    "selected3 = significant.select_TF_rules(['motif_29'], TF2=False)\n",
    "print(selected3)\n",
    "print(selected3.rules)\n",
    "    "
   ]
  },
  {
   "cell_type": "code",
   "execution_count": 28,
   "id": "2975066a",
   "metadata": {},
   "outputs": [
    {
     "data": {
      "text/plain": [
       "<CombObj: 187071 TFBS (747 unique names) | Market basket analysis: 272439 rules>"
      ]
     },
     "execution_count": 28,
     "metadata": {},
     "output_type": "execute_result"
    }
   ],
   "source": [
    "selected3"
   ]
  },
  {
   "cell_type": "code",
   "execution_count": null,
   "id": "5c4a77bc",
   "metadata": {},
   "outputs": [],
   "source": []
  }
 ],
 "metadata": {
  "kernelspec": {
   "display_name": "tfcomb_env",
   "language": "python",
   "name": "tfcomb_env"
  },
  "language_info": {
   "codemirror_mode": {
    "name": "ipython",
    "version": 3
   },
   "file_extension": ".py",
   "mimetype": "text/x-python",
   "name": "python",
   "nbconvert_exporter": "python",
   "pygments_lexer": "ipython3",
   "version": "3.7.12"
  }
 },
 "nbformat": 4,
 "nbformat_minor": 5
}
