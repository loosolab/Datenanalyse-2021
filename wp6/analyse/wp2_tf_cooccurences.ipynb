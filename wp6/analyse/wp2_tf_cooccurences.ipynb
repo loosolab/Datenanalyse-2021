{
 "cells": [
  {
   "cell_type": "code",
   "execution_count": 4,
   "id": "487586df",
   "metadata": {},
   "outputs": [],
   "source": [
    "from tfcomb import CombObj\n",
    "import os\n",
    "import pathlib\n",
    "\n",
    "'''\n",
    "Constants for this script\n",
    "'''\n",
    "\n",
    "genome_path=\"../testdaten/hg19_masked.fa\"\n",
    "main_jaspar_file=\"../testdaten/JASPAR2020_CORE_vertebrates.meme\" \n",
    "\n",
    "# path where market basket analyses for cluster are put.\n",
    "result_path=\"./results/wp2/\"\n",
    "\n",
    "# folder of wp2, where the clusters are\n",
    "path_to_clusters=\"/mnt/workspace_stud/stud4/WP6_data/\"\n",
    "\n",
    "\n",
    "# create result folders \n",
    "if not os.path.exists(result_path):\n",
    "     pathlib.Path(result_path).mkdir(parents=True, exist_ok=True)\n"
   ]
  },
  {
   "cell_type": "code",
   "execution_count": 5,
   "id": "5272371d",
   "metadata": {},
   "outputs": [],
   "source": [
    "def do_market_basket_analyses_for_cell_cluster(cell_cluster_name: str, cell_cluster_path:str):\n",
    "    '''\n",
    "        Does market basket analyses with bindetect output of Tobias (WP3)\n",
    "    '''\n",
    "    comb = CombObj()\n",
    "    comb.TFBS_from_motifs(regions= cell_cluster_path,\n",
    "                   motifs=main_jaspar_file,\n",
    "                   genome=genome_path,\n",
    "                   threads=4)\n",
    "    \n",
    "    print(f'Start market basket analyses for cell-cluster/type: {cell_cluster_name}')\n",
    "    comb.market_basket(threads=10)\n",
    "    if len(comb.rules) <= 0:\n",
    "        print(f'Could not find TF-cooccurences for cell-cluster/type: {cell_cluster_name}')\n",
    "        return\n",
    "    print(f'Finished market basket analyses for cell-cluster/type: {cell_cluster_name}')\n",
    "    print(f'Found rules: {len(comb.rules)}')\n",
    "    comb.to_pickle(f'{result_path}{cell_cluster_name}.pkl')\n",
    "    print(f'Saved: {result_path}{cell_cluster_name}.pkl')"
   ]
  },
  {
   "cell_type": "code",
   "execution_count": 6,
   "id": "e3a441fb",
   "metadata": {},
   "outputs": [
    {
     "name": "stdout",
     "output_type": "stream",
     "text": [
      "['right-lobe-of-liver_10.bed', 'right-lobe-of-liver_11.bed', 'right-lobe-of-liver_12.bed', 'right-lobe-of-liver_13.bed', 'right-lobe-of-liver_15.bed', 'right-lobe-of-liver_16.bed', 'right-lobe-of-liver_17.bed', 'right-lobe-of-liver_2.bed', 'right-lobe-of-liver_3.bed', 'right-lobe-of-liver_4.bed', 'right-lobe-of-liver_5.bed', 'right-lobe-of-liver_6.bed', 'right-lobe-of-liver_7.bed', 'right-lobe-of-liver_8.bed', 'right-lobe-of-liver_9.bed']\n"
     ]
    }
   ],
   "source": [
    "def read_in_file_names_of_folder(rel_path:str):\n",
    "    return [f for f in os.listdir(rel_path) if os.path.isfile(os.path.join(rel_path, f))]\n",
    "\n",
    "cluster_file_names = read_in_file_names_of_folder(rel_path=path_to_clusters)\n",
    "print(cluster_file_names)\n",
    "\n",
    "\n",
    "\n"
   ]
  },
  {
   "cell_type": "code",
   "execution_count": 7,
   "id": "092e38a9",
   "metadata": {
    "scrolled": true
   },
   "outputs": [
    {
     "name": "stdout",
     "output_type": "stream",
     "text": [
      "right-lobe-of-liver_10\n",
      "right-lobe-of-liver_10.bed\n",
      "2022-01-19 18:10:40 (19245) [ERROR]\tLine 1 in /mnt/workspace_stud/stud4/WP6_data/right-lobe-of-liver_10.bed is not proper bed format:\n",
      "chr1 634081 634310\n",
      "\n"
     ]
    },
    {
     "ename": "SystemExit",
     "evalue": "",
     "output_type": "error",
     "traceback": [
      "An exception has occurred, use %tb to see the full traceback.\n",
      "\u001b[0;31mSystemExit\u001b[0m\n"
     ]
    },
    {
     "name": "stderr",
     "output_type": "stream",
     "text": [
      "/home/stud6/.conda/envs/tfcomb_env/lib/python3.7/site-packages/IPython/core/interactiveshell.py:3465: UserWarning: To exit: use 'exit', 'quit', or Ctrl-D.\n",
      "  warn(\"To exit: use 'exit', 'quit', or Ctrl-D.\", stacklevel=1)\n"
     ]
    }
   ],
   "source": [
    "# Has to be tested as soon as wp2 generates new .bed files\n",
    "for file_name in cluster_file_names:\n",
    "    cluster_name = file_name.split('.')[0]\n",
    "    print(cluster_name)\n",
    "    print(file_name)\n",
    "    cluster_path=f\"{path_to_clusters}{file_name}\"\n",
    "    do_market_basket_analyses_for_cell_cluster(cell_cluster_name=cluster_name, cell_cluster_path=cluster_path)\n",
    "    break\n",
    "    "
   ]
  },
  {
   "cell_type": "code",
   "execution_count": null,
   "id": "c6b1b1e2",
   "metadata": {},
   "outputs": [],
   "source": []
  }
 ],
 "metadata": {
  "kernelspec": {
   "display_name": "tfcomb_env",
   "language": "python",
   "name": "tfcomb_env"
  },
  "language_info": {
   "codemirror_mode": {
    "name": "ipython",
    "version": 3
   },
   "file_extension": ".py",
   "mimetype": "text/x-python",
   "name": "python",
   "nbconvert_exporter": "python",
   "pygments_lexer": "ipython3",
   "version": "3.7.12"
  }
 },
 "nbformat": 4,
 "nbformat_minor": 5
}
