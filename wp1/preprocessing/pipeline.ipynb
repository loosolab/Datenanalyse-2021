{
 "cells": [
  {
   "cell_type": "markdown",
   "id": "4682d892",
   "metadata": {},
   "source": [
    "### Pipeline to extract barcodes from .fastq files of CATLAS"
   ]
  },
  {
   "cell_type": "code",
   "execution_count": 1,
   "id": "9cdd51f7",
   "metadata": {},
   "outputs": [],
   "source": [
    "import os\n",
    "import time"
   ]
  },
  {
   "cell_type": "code",
   "execution_count": 2,
   "id": "b1ed68bb",
   "metadata": {},
   "outputs": [],
   "source": [
    "# path to the raw fastq files\n",
    "input_dir_of_fastq = \"/mnt/workspace_stud/stud5/samples\"\n",
    "\n",
    "# define path of output directory\n",
    "output_dir_of_BC = \"/mnt/workspace_stud/stud5/BC\""
   ]
  },
  {
   "cell_type": "markdown",
   "id": "3bf619bb",
   "metadata": {},
   "source": [
    "### Check different runtimes"
   ]
  },
  {
   "cell_type": "code",
   "execution_count": 3,
   "id": "48da822d",
   "metadata": {},
   "outputs": [],
   "source": [
    "# stack_size: collect some data first to flush them at once to the output -> avoiding a lot I/O-time\n",
    "# Does extract barcodes from samples twice (R1 & R2). TODO: check if necessary\n",
    "\n",
    "def extract_barcodes(input_dir_of_fastq, output_dir_of_BC, stack_size=1_000_000):\n",
    "    for fastq_file in os.listdir(input_dir_of_fastq):\n",
    "        start_time = time.time()\n",
    "        \n",
    "        full_path_IN = os.path.join(input_dir_of_fastq, fastq_file)\n",
    "        full_path_OUT = os.path.join(output_dir_of_BC, fastq_file.rsplit('.', 1)[0] + \"_BC.fastq\")\n",
    "        stack = []\n",
    "\n",
    "        with open(full_path_IN, 'r') as fastq_in, open(full_path_OUT, 'w') as BC_out:\n",
    "            for index, line in enumerate(fastq_in):\n",
    "                if index % 4 == 0:\n",
    "                    barcode = line.split(':', 1)[0][1:]\n",
    "                    stack.append(f\"{line}{barcode}\\n+\\n{'~'*len(barcode)}\\n\")\n",
    "                    if len(stack) == stack_size:\n",
    "                        BC_out.writelines(stack)\n",
    "                        stack = []\n",
    "        print(round(time.time() - start_time, 2))"
   ]
  },
  {
   "cell_type": "code",
   "execution_count": 4,
   "id": "453aa4c8",
   "metadata": {},
   "outputs": [
    {
     "name": "stdout",
     "output_type": "stream",
     "text": [
      "85.97\n",
      "83.28\n",
      "150.93\n",
      "127.33\n"
     ]
    }
   ],
   "source": [
    "extract_barcodes(input_dir_of_fastq, output_dir_of_BC)"
   ]
  },
  {
   "cell_type": "markdown",
   "id": "baf03ae3",
   "metadata": {},
   "source": [
    "### Check how many barcodes one file contains"
   ]
  },
  {
   "cell_type": "code",
   "execution_count": 5,
   "id": "4f99d0ba",
   "metadata": {},
   "outputs": [],
   "source": [
    "full_path = os.path.join(input_dir_of_fastq, \"ENC-1LGRB-069-SM-A8WNZ_snATAC_right_lobe_of_liver_Rep1.demultiplexed.R1.fastq\")\n",
    "barcodes = {}\n",
    "\n",
    "with open(full_path, 'r') as fastq:\n",
    "    for index, line in enumerate(fastq):\n",
    "        if index % 4 == 0:\n",
    "            barcode = line.split(':', 1)[0][1:]\n",
    "            if not barcode in barcodes:\n",
    "                barcodes[barcode] = 1\n",
    "            else:\n",
    "                barcodes[barcode] += 1"
   ]
  },
  {
   "cell_type": "code",
   "execution_count": 6,
   "id": "4fb555df",
   "metadata": {},
   "outputs": [
    {
     "name": "stdout",
     "output_type": "stream",
     "text": [
      "73685\n",
      "13289\n"
     ]
    }
   ],
   "source": [
    "print(len(barcodes))\n",
    "print(len([key for key, val in barcodes.items() if val > 100]))"
   ]
  },
  {
   "cell_type": "code",
   "execution_count": null,
   "id": "9a6bf9a5",
   "metadata": {},
   "outputs": [],
   "source": []
  }
 ],
 "metadata": {
  "kernelspec": {
   "display_name": "Python 3 (ipykernel)",
   "language": "python",
   "name": "python3"
  },
  "language_info": {
   "codemirror_mode": {
    "name": "ipython",
    "version": 3
   },
   "file_extension": ".py",
   "mimetype": "text/x-python",
   "name": "python",
   "nbconvert_exporter": "python",
   "pygments_lexer": "ipython3",
   "version": "3.7.3"
  }
 },
 "nbformat": 4,
 "nbformat_minor": 5
}
