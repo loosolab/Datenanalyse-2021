{
 "cells": [
  {
   "cell_type": "markdown",
   "id": "37538bba",
   "metadata": {},
   "source": [
    "Initial example for a tf_comb pipline to find tf_occurences"
   ]
  },
  {
   "cell_type": "code",
   "execution_count": 4,
   "id": "dcab3f0b",
   "metadata": {},
   "outputs": [
    {
     "name": "stdout",
     "output_type": "stream",
     "text": [
      "INFO: Scanning for TFBS with 4 thread(s)...\n",
      "INFO: Progress: 11%\n",
      "INFO: Progress: 21%\n",
      "INFO: Progress: 31%\n",
      "INFO: Progress: 41%\n",
      "INFO: Progress: 50%\n",
      "INFO: Progress: 60%\n",
      "INFO: Progress: 70%\n",
      "INFO: Progress: 80%\n",
      "INFO: Progress: 90%\n",
      "INFO: Finished!\n",
      "INFO: Formatting scanned TFBS\n",
      "INFO: Identified 945192 TFBS (401 unique names) within given regions\n"
     ]
    }
   ],
   "source": [
    "from tfcomb import CombObj\n",
    "C = CombObj()\n",
    "\n",
    "C.TFBS_from_motifs(regions=\"../testdaten//example_data/GM12878_hg38_chr4_ATAC_peaks.bed\",\n",
    "                   motifs=\"../testdaten//example_data/HOCOMOCOv11_HUMAN_motifs.txt\",\n",
    "                   genome=\"../testdaten//example_data/hg38_chr4.fa.gz\",\n",
    "                   threads=4)\n"
   ]
  },
  {
   "cell_type": "code",
   "execution_count": 5,
   "id": "f8537e16",
   "metadata": {},
   "outputs": [
    {
     "data": {
      "text/plain": [
       "[chr4\t11716\t11738\tZNF335\t6.97176\t-,\n",
       " chr4\t11727\t11745\tBATF\t7.31027\t-,\n",
       " chr4\t11731\t11751\tZNF250\t-0.11002\t-,\n",
       " chr4\t11741\t11756\tESR1\t7.16201\t-,\n",
       " chr4\t11746\t11755\tHIC1\t9.39772\t+,\n",
       " chr4\t11750\t11767\tCTCFL\t6.63272\t-,\n",
       " chr4\t11750\t11769\tCTCF\t7.59312\t-,\n",
       " chr4\t11750\t11772\tTHAP1\t10.09272\t+,\n",
       " chr4\t11761\t11779\tZSCAN31\t7.02795\t+,\n",
       " chr4\t11765\t11784\tZNF667\t8.13384\t-]"
      ]
     },
     "execution_count": 5,
     "metadata": {},
     "output_type": "execute_result"
    }
   ],
   "source": [
    "C.TFBS[:10]"
   ]
  },
  {
   "cell_type": "code",
   "execution_count": 6,
   "id": "c18318d1",
   "metadata": {},
   "outputs": [
    {
     "name": "stdout",
     "output_type": "stream",
     "text": [
      "WARNING: No counts found in <CombObj>. Running <CombObj>.count_within() with standard parameters.\n",
      "INFO: Setting up binding sites for counting\n",
      "INFO: Counting co-occurrences within sites\n",
      "INFO: Counting co-occurrence within background\n",
      "INFO: Progress: 10%\n",
      "INFO: Progress: 20%\n",
      "INFO: Progress: 32%\n",
      "INFO: Progress: 40%\n",
      "INFO: Progress: 54%\n",
      "INFO: Progress: 60%\n",
      "INFO: Progress: 70%\n",
      "INFO: Progress: 80%\n",
      "INFO: Progress: 92%\n",
      "INFO: Finished!\n",
      "INFO: Done finding co-occurrences! Run .market_basket() to estimate significant pairs\n",
      "INFO: Market basket analysis is done! Results are found in <CombObj>.rules\n"
     ]
    }
   ],
   "source": [
    "C.market_basket(threads=10)"
   ]
  },
  {
   "cell_type": "code",
   "execution_count": 7,
   "id": "c204d839",
   "metadata": {},
   "outputs": [
    {
     "data": {
      "text/plain": [
       "<CombObj: 945192 TFBS (401 unique names) | Market basket analysis: 160791 rules>"
      ]
     },
     "execution_count": 7,
     "metadata": {},
     "output_type": "execute_result"
    }
   ],
   "source": [
    "C"
   ]
  },
  {
   "cell_type": "code",
   "execution_count": 8,
   "id": "041e4727",
   "metadata": {},
   "outputs": [
    {
     "data": {
      "text/html": [
       "<div>\n",
       "<style scoped>\n",
       "    .dataframe tbody tr th:only-of-type {\n",
       "        vertical-align: middle;\n",
       "    }\n",
       "\n",
       "    .dataframe tbody tr th {\n",
       "        vertical-align: top;\n",
       "    }\n",
       "\n",
       "    .dataframe thead th {\n",
       "        text-align: right;\n",
       "    }\n",
       "</style>\n",
       "<table border=\"1\" class=\"dataframe\">\n",
       "  <thead>\n",
       "    <tr style=\"text-align: right;\">\n",
       "      <th></th>\n",
       "      <th>TF1</th>\n",
       "      <th>TF2</th>\n",
       "      <th>TF1_TF2_count</th>\n",
       "      <th>TF1_count</th>\n",
       "      <th>TF2_count</th>\n",
       "      <th>cosine</th>\n",
       "      <th>zscore</th>\n",
       "    </tr>\n",
       "  </thead>\n",
       "  <tbody>\n",
       "    <tr>\n",
       "      <th>SP2-SP1</th>\n",
       "      <td>SP2</td>\n",
       "      <td>SP1</td>\n",
       "      <td>7777</td>\n",
       "      <td>5976</td>\n",
       "      <td>5224</td>\n",
       "      <td>1.391891</td>\n",
       "      <td>180.032504</td>\n",
       "    </tr>\n",
       "    <tr>\n",
       "      <th>SP1-SP2</th>\n",
       "      <td>SP1</td>\n",
       "      <td>SP2</td>\n",
       "      <td>7777</td>\n",
       "      <td>5224</td>\n",
       "      <td>5976</td>\n",
       "      <td>1.391891</td>\n",
       "      <td>180.032504</td>\n",
       "    </tr>\n",
       "    <tr>\n",
       "      <th>SP3-SP2</th>\n",
       "      <td>SP3</td>\n",
       "      <td>SP2</td>\n",
       "      <td>7557</td>\n",
       "      <td>5410</td>\n",
       "      <td>5976</td>\n",
       "      <td>1.329063</td>\n",
       "      <td>165.364156</td>\n",
       "    </tr>\n",
       "    <tr>\n",
       "      <th>SP2-SP3</th>\n",
       "      <td>SP2</td>\n",
       "      <td>SP3</td>\n",
       "      <td>7557</td>\n",
       "      <td>5976</td>\n",
       "      <td>5410</td>\n",
       "      <td>1.329063</td>\n",
       "      <td>165.364156</td>\n",
       "    </tr>\n",
       "    <tr>\n",
       "      <th>SP1-SP3</th>\n",
       "      <td>SP1</td>\n",
       "      <td>SP3</td>\n",
       "      <td>6409</td>\n",
       "      <td>5224</td>\n",
       "      <td>5410</td>\n",
       "      <td>1.205563</td>\n",
       "      <td>146.868648</td>\n",
       "    </tr>\n",
       "  </tbody>\n",
       "</table>\n",
       "</div>"
      ],
      "text/plain": [
       "         TF1  TF2  TF1_TF2_count  TF1_count  TF2_count    cosine      zscore\n",
       "SP2-SP1  SP2  SP1           7777       5976       5224  1.391891  180.032504\n",
       "SP1-SP2  SP1  SP2           7777       5224       5976  1.391891  180.032504\n",
       "SP3-SP2  SP3  SP2           7557       5410       5976  1.329063  165.364156\n",
       "SP2-SP3  SP2  SP3           7557       5976       5410  1.329063  165.364156\n",
       "SP1-SP3  SP1  SP3           6409       5224       5410  1.205563  146.868648"
      ]
     },
     "execution_count": 8,
     "metadata": {},
     "output_type": "execute_result"
    }
   ],
   "source": [
    "C.rules.head()\n",
    "\n"
   ]
  },
  {
   "cell_type": "code",
   "execution_count": 9,
   "id": "845a02d2",
   "metadata": {},
   "outputs": [
    {
     "data": {
      "image/png": "[encoded data removed]",
      "text/plain": [
       "<Figure size 504x504 with 4 Axes>"
      ]
     },
     "metadata": {
      "needs_background": "light"
     },
     "output_type": "display_data"
    }
   ],
   "source": [
    "_ = C.plot_heatmap()"
   ]
  },
  {
   "cell_type": "code",
   "execution_count": 10,
   "id": "59452209",
   "metadata": {},
   "outputs": [
    {
     "name": "stderr",
     "output_type": "stream",
     "text": [
      "/home/stud6/.conda/envs/tfcomb_env/lib/python3.7/site-packages/tfcomb/plotting.py:65: UserWarning: FixedFormatter should only be used together with FixedLocator\n",
      "  ax.set_xticklabels(labels, rotation=45, ha=\"right\")\n"
     ]
    },
    {
     "data": {
      "image/png": "[encoded data removed]",
      "text/plain": [
       "<Figure size 504x288 with 1 Axes>"
      ]
     },
     "metadata": {
      "needs_background": "light"
     },
     "output_type": "display_data"
    }
   ],
   "source": [
    "_ = C.plot_bubble()\n"
   ]
  },
  {
   "cell_type": "code",
   "execution_count": null,
   "id": "d8e569be",
   "metadata": {},
   "outputs": [],
   "source": []
  }
 ],
 "metadata": {
  "kernelspec": {
   "display_name": "tfcomb_env",
   "language": "python",
   "name": "tfcomb_env"
  },
  "language_info": {
   "codemirror_mode": {
    "name": "ipython",
    "version": 3
   },
   "file_extension": ".py",
   "mimetype": "text/x-python",
   "name": "python",
   "nbconvert_exporter": "python",
   "pygments_lexer": "ipython3",
   "version": "3.7.12"
  }
 },
 "nbformat": 4,
 "nbformat_minor": 5
}
