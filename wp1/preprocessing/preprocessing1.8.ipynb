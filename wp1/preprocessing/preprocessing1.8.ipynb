{
 "cells": [
  {
   "cell_type": "code",
   "execution_count": 1,
   "id": "10e1a6c9",
   "metadata": {},
   "outputs": [],
   "source": [
    "# Required packages and data paths\n",
    "# Scanpy 1.8\n",
    "import scanpy as sc\n",
    "import anndata as ad\n",
    "import episcanpy.api as epi\n",
    "\n",
    "STUD_PATH = '/mnt/workspace_stud/'\n",
    "OUTPUT_PATH = f'{STUD_PATH}stud2/output/'"
   ]
  },
  {
   "cell_type": "code",
   "execution_count": 2,
   "id": "e167d0fe",
   "metadata": {},
   "outputs": [],
   "source": [
    "# define input path and output directories\n",
    "TISSUE = \"liver_sample_9\"\n",
    "INPUT_PATH = f'{OUTPUT_PATH}wp1/{TISSUE}_pp17.h5ad'\n",
    "#TISSUE = INPUT_PATH.split('/')[-1].replace('_pp17.h5ad', '')\n",
    "output_wp4 = f\"{OUTPUT_PATH}wp4/{TISSUE}_obs.csv\"\n",
    "output_wp3 = f\"{OUTPUT_PATH}wp3/clusters_{TISSUE}.tsv\""
   ]
  },
  {
   "cell_type": "code",
   "execution_count": 3,
   "id": "4c9f7f43",
   "metadata": {},
   "outputs": [
    {
     "data": {
      "text/plain": [
       "AnnData object with n_obs × n_vars = 15588 × 1107578\n",
       "    obs: 'nb_features', 'log_nb_features'\n",
       "    var: 'n_cells', 'commonness', 'prop_shared_cells', 'variability_score'\n",
       "    layers: 'binary', 'normalised'"
      ]
     },
     "execution_count": 3,
     "metadata": {},
     "output_type": "execute_result"
    }
   ],
   "source": [
    "# read input file and check matrix size\n",
    "adata = ad.read(INPUT_PATH)\n",
    "adata"
   ]
  },
  {
   "cell_type": "code",
   "execution_count": 4,
   "id": "30e53d04",
   "metadata": {},
   "outputs": [],
   "source": [
    "# calculate log\n",
    "epi.pp.log1p(adata)"
   ]
  },
  {
   "cell_type": "code",
   "execution_count": null,
   "id": "5a19e3fa",
   "metadata": {},
   "outputs": [],
   "source": [
    "# prepare neighbours for clustering\n",
    "# epi.pp.lazy(adata, min_dist=1.0, spread=2.0)\n",
    "sc.pp.pca(adata, n_comps=50, svd_solver='arpack', use_highly_variable=False)\n",
    "sc.pp.neighbors(adata, n_neighbors=25, n_pcs=50, method='umap', metric='euclidean')"
   ]
  },
  {
   "cell_type": "code",
   "execution_count": null,
   "id": "9dce1937",
   "metadata": {},
   "outputs": [],
   "source": [
    "# calculate umap and cluster find clusters with louvain\n",
    "# Umap: spread = 2.0, min_dist = 0.1\n",
    "# Louvain: resolution = 0.5 - 0.8\n",
    "sc.tl.umap(adata, min_dist=0.1, spread=2.0)\n",
    "epi.tl.louvain(adata, resolution=0.5, use_weights=True)\n",
    "epi.pl.umap(adata, color=['louvain'])"
   ]
  },
  {
   "cell_type": "code",
   "execution_count": null,
   "id": "93f8dd61",
   "metadata": {},
   "outputs": [],
   "source": [
    "# write files for wp4/3\n",
    "with open(output_wp4, \"w\") as obs_file, open(output_wp3, \"w\") as tsv_file:\n",
    "    for barcode in range(len(adata.obs.index)):\n",
    "        line = f\"{adata.obs.index[barcode]}\\t{adata.obs['louvain'][barcode]}\\n\"\n",
    "        obs_file.write(line)\n",
    "        tsv_file.write(line)"
   ]
  }
 ],
 "metadata": {
  "kernelspec": {
   "display_name": "Scanpy1.8",
   "language": "python",
   "name": "scanpy1.8"
  },
  "language_info": {
   "codemirror_mode": {
    "name": "ipython",
    "version": 3
   },
   "file_extension": ".py",
   "mimetype": "text/x-python",
   "name": "python",
   "nbconvert_exporter": "python",
   "pygments_lexer": "ipython3",
   "version": "3.9.0"
  }
 },
 "nbformat": 4,
 "nbformat_minor": 5
}
